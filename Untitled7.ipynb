{
 "cells": [
  {
   "cell_type": "markdown",
   "id": "2847eaee",
   "metadata": {
    "toc": true
   },
   "source": [
    "<h1>Table of Contents<span class=\"tocSkip\"></span></h1>\n",
    "<div class=\"toc\"><ul class=\"toc-item\"></ul></div>"
   ]
  },
  {
   "cell_type": "code",
   "execution_count": 23,
   "id": "5cf8f2c7",
   "metadata": {},
   "outputs": [],
   "source": [
    "import pandas as pd"
   ]
  },
  {
   "cell_type": "code",
   "execution_count": 24,
   "id": "0a41b18a",
   "metadata": {},
   "outputs": [],
   "source": [
    "xlsx = pd.ExcelFile('cookies_comp_students.xlsx')"
   ]
  },
  {
   "cell_type": "code",
   "execution_count": 25,
   "id": "288a4407",
   "metadata": {},
   "outputs": [],
   "source": [
    "df_test = pd.read_excel(xlsx, 'cookies_test')"
   ]
  },
  {
   "cell_type": "code",
   "execution_count": 26,
   "id": "f8b049ed",
   "metadata": {},
   "outputs": [],
   "source": [
    "df_train = pd.read_excel(xlsx, 'cookies_train')"
   ]
  },
  {
   "cell_type": "code",
   "execution_count": 27,
   "id": "28f85de0",
   "metadata": {},
   "outputs": [
    {
     "data": {
      "text/plain": [
       "3    5195\n",
       "4       3\n",
       "Name: aesthetic appeal, dtype: int64"
      ]
     },
     "execution_count": 27,
     "metadata": {},
     "output_type": "execute_result"
    }
   ],
   "source": [
    "df_train['aesthetic appeal'].value_counts()"
   ]
  },
  {
   "cell_type": "code",
   "execution_count": 28,
   "id": "ad695c5e",
   "metadata": {},
   "outputs": [],
   "source": [
    "df_train=df_train.drop('aesthetic appeal',axis=1)"
   ]
  },
  {
   "cell_type": "code",
   "execution_count": 35,
   "id": "40aad40a",
   "metadata": {},
   "outputs": [
    {
     "name": "stderr",
     "output_type": "stream",
     "text": [
      "/var/folders/js/3prtlh997knckqf8p2nq_dz80000gn/T/ipykernel_14052/2060791882.py:1: FutureWarning: Dropping of nuisance columns in DataFrame reductions (with 'numeric_only=None') is deprecated; in a future version this will raise TypeError.  Select only valid columns before calling the reduction.\n",
      "  df_train.mean()\n"
     ]
    },
    {
     "data": {
      "text/plain": [
       "sugar to flour ratio      0.318049\n",
       "sugar index               5.402465\n",
       "bake temp               559.638322\n",
       "chill time               30.390246\n",
       "calories                115.015294\n",
       "density                   0.995819\n",
       "pH                        8.222020\n",
       "grams baking soda         0.530864\n",
       "bake time                10.494758\n",
       "quality                   7.325125\n",
       "weight                   14.381935\n",
       "diameter                  7.000000\n",
       "crunch factor             1.499367\n",
       "dtype: float64"
      ]
     },
     "execution_count": 35,
     "metadata": {},
     "output_type": "execute_result"
    }
   ],
   "source": [
    "df_train['sugar index']."
   ]
  },
  {
   "cell_type": "code",
   "execution_count": 39,
   "id": "16e9c9bc",
   "metadata": {},
   "outputs": [],
   "source": [
    "import pandas as pd\n",
    "import numpy as np\n",
    "from sklearn.preprocessing import StandardScaler\n",
    "from sklearn.decomposition import PCA\n",
    "from sklearn.linear_model import LinearRegression\n",
    "import warnings\n",
    "warnings.filterwarnings(\"ignore\")\n",
    "from sklearn.pipeline import Pipeline\n",
    "pipe_lr = Pipeline([('scl', StandardScaler()),('pca', \n",
    "                  PCA(n_components=4)),('slr', LinearRegression())])\n",
    "from sklearn.metrics import r2_score"
   ]
  },
  {
   "cell_type": "code",
   "execution_count": 40,
   "id": "554618bb",
   "metadata": {},
   "outputs": [
    {
     "ename": "SyntaxError",
     "evalue": "cannot assign to function call (4121257019.py, line 1)",
     "output_type": "error",
     "traceback": [
      "\u001b[0;36m  File \u001b[0;32m\"/var/folders/js/3prtlh997knckqf8p2nq_dz80000gn/T/ipykernel_14052/4121257019.py\"\u001b[0;36m, line \u001b[0;32m1\u001b[0m\n\u001b[0;31m    df_train.hist(['sugar index']),figsize=(13,11),bins=50\u001b[0m\n\u001b[0m    ^\u001b[0m\n\u001b[0;31mSyntaxError\u001b[0m\u001b[0;31m:\u001b[0m cannot assign to function call\n"
     ]
    }
   ],
   "source": [
    "df_train.hist(['sugar index']),figsize=(13,11),bins=50"
   ]
  },
  {
   "cell_type": "code",
   "execution_count": null,
   "id": "d7d41dfd",
   "metadata": {},
   "outputs": [],
   "source": []
  }
 ],
 "metadata": {
  "kernelspec": {
   "display_name": "Python 3 (ipykernel)",
   "language": "python",
   "name": "python3"
  },
  "language_info": {
   "codemirror_mode": {
    "name": "ipython",
    "version": 3
   },
   "file_extension": ".py",
   "mimetype": "text/x-python",
   "name": "python",
   "nbconvert_exporter": "python",
   "pygments_lexer": "ipython3",
   "version": "3.9.7"
  },
  "toc": {
   "base_numbering": 1,
   "nav_menu": {},
   "number_sections": true,
   "sideBar": true,
   "skip_h1_title": false,
   "title_cell": "Table of Contents",
   "title_sidebar": "Contents",
   "toc_cell": true,
   "toc_position": {},
   "toc_section_display": true,
   "toc_window_display": false
  },
  "varInspector": {
   "cols": {
    "lenName": 16,
    "lenType": 16,
    "lenVar": 40
   },
   "kernels_config": {
    "python": {
     "delete_cmd_postfix": "",
     "delete_cmd_prefix": "del ",
     "library": "var_list.py",
     "varRefreshCmd": "print(var_dic_list())"
    },
    "r": {
     "delete_cmd_postfix": ") ",
     "delete_cmd_prefix": "rm(",
     "library": "var_list.r",
     "varRefreshCmd": "cat(var_dic_list()) "
    }
   },
   "types_to_exclude": [
    "module",
    "function",
    "builtin_function_or_method",
    "instance",
    "_Feature"
   ],
   "window_display": false
  }
 },
 "nbformat": 4,
 "nbformat_minor": 5
}
