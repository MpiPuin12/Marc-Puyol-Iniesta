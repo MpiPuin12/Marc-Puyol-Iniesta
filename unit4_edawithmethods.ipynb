{
 "cells": [
  {
   "cell_type": "markdown",
   "id": "9e7cf066",
   "metadata": {},
   "source": [
    "# EDA with useful methods on unit 4 data "
   ]
  },
  {
   "cell_type": "code",
   "execution_count": 1,
   "id": "653ce648",
   "metadata": {},
   "outputs": [
    {
     "ename": "ModuleNotFoundError",
     "evalue": "No module named 's'",
     "output_type": "error",
     "traceback": [
      "\u001b[0;31m---------------------------------------------------------------------------\u001b[0m",
      "\u001b[0;31mModuleNotFoundError\u001b[0m                       Traceback (most recent call last)",
      "\u001b[0;32m/var/folders/js/3prtlh997knckqf8p2nq_dz80000gn/T/ipykernel_1453/1261826168.py\u001b[0m in \u001b[0;36m<module>\u001b[0;34m\u001b[0m\n\u001b[1;32m      3\u001b[0m \u001b[0;32mimport\u001b[0m \u001b[0mmatplotlib\u001b[0m\u001b[0;34m.\u001b[0m\u001b[0mpyplot\u001b[0m \u001b[0;32mas\u001b[0m \u001b[0mplt\u001b[0m\u001b[0;34m\u001b[0m\u001b[0;34m\u001b[0m\u001b[0m\n\u001b[1;32m      4\u001b[0m \u001b[0;32mimport\u001b[0m \u001b[0mseaborn\u001b[0m \u001b[0;32mas\u001b[0m \u001b[0msns\u001b[0m\u001b[0;34m\u001b[0m\u001b[0;34m\u001b[0m\u001b[0m\n\u001b[0;32m----> 5\u001b[0;31m \u001b[0;32mimport\u001b[0m \u001b[0ms\u001b[0m\u001b[0;34m\u001b[0m\u001b[0;34m\u001b[0m\u001b[0m\n\u001b[0m",
      "\u001b[0;31mModuleNotFoundError\u001b[0m: No module named 's'"
     ]
    }
   ],
   "source": [
    "import pandas as pd \n",
    "import numpy as np \n",
    "import matplotlib.pyplot as plt \n",
    "import seaborn as sns \n",
    "import s"
   ]
  },
  {
   "cell_type": "markdown",
   "id": "cc9a4356",
   "metadata": {},
   "source": [
    "## get data "
   ]
  },
  {
   "cell_type": "code",
   "execution_count": 8,
   "id": "4a812623",
   "metadata": {},
   "outputs": [],
   "source": [
    "df=pd.read_csv('unit4.csv')"
   ]
  },
  {
   "cell_type": "code",
   "execution_count": 9,
   "id": "ded84908",
   "metadata": {},
   "outputs": [
    {
     "data": {
      "text/html": [
       "<div>\n",
       "<style scoped>\n",
       "    .dataframe tbody tr th:only-of-type {\n",
       "        vertical-align: middle;\n",
       "    }\n",
       "\n",
       "    .dataframe tbody tr th {\n",
       "        vertical-align: top;\n",
       "    }\n",
       "\n",
       "    .dataframe thead th {\n",
       "        text-align: right;\n",
       "    }\n",
       "</style>\n",
       "<table border=\"1\" class=\"dataframe\">\n",
       "  <thead>\n",
       "    <tr style=\"text-align: right;\">\n",
       "      <th></th>\n",
       "      <th>STATE</th>\n",
       "      <th>PVASTATE</th>\n",
       "      <th>DOB</th>\n",
       "      <th>MDMAUD</th>\n",
       "      <th>RECP3</th>\n",
       "      <th>GENDER</th>\n",
       "      <th>DOMAIN</th>\n",
       "      <th>INCOME</th>\n",
       "      <th>HOMEOWNR</th>\n",
       "      <th>HV1</th>\n",
       "      <th>...</th>\n",
       "      <th>VETERANS</th>\n",
       "      <th>NUMPROM</th>\n",
       "      <th>CARDPROM</th>\n",
       "      <th>CARDPM12</th>\n",
       "      <th>NUMPRM12</th>\n",
       "      <th>MAXADATE</th>\n",
       "      <th>RFA_2</th>\n",
       "      <th>NGIFTALL</th>\n",
       "      <th>TIMELAG</th>\n",
       "      <th>AVGGIFT</th>\n",
       "    </tr>\n",
       "  </thead>\n",
       "  <tbody>\n",
       "    <tr>\n",
       "      <th>0</th>\n",
       "      <td>IL</td>\n",
       "      <td></td>\n",
       "      <td>3712</td>\n",
       "      <td>XXXX</td>\n",
       "      <td></td>\n",
       "      <td>F</td>\n",
       "      <td>T2</td>\n",
       "      <td>NaN</td>\n",
       "      <td></td>\n",
       "      <td>479</td>\n",
       "      <td>...</td>\n",
       "      <td></td>\n",
       "      <td>74</td>\n",
       "      <td>27</td>\n",
       "      <td>6</td>\n",
       "      <td>14</td>\n",
       "      <td>9702</td>\n",
       "      <td>L4E</td>\n",
       "      <td>31</td>\n",
       "      <td>4.0</td>\n",
       "      <td>7.741935</td>\n",
       "    </tr>\n",
       "  </tbody>\n",
       "</table>\n",
       "<p>1 rows × 28 columns</p>\n",
       "</div>"
      ],
      "text/plain": [
       "  STATE PVASTATE   DOB MDMAUD RECP3 GENDER DOMAIN  INCOME HOMEOWNR  HV1  ...  \\\n",
       "0    IL           3712   XXXX            F     T2     NaN           479  ...   \n",
       "\n",
       "   VETERANS  NUMPROM  CARDPROM  CARDPM12  NUMPRM12  MAXADATE  RFA_2  NGIFTALL  \\\n",
       "0                 74        27         6        14      9702    L4E        31   \n",
       "\n",
       "  TIMELAG   AVGGIFT  \n",
       "0     4.0  7.741935  \n",
       "\n",
       "[1 rows x 28 columns]"
      ]
     },
     "execution_count": 9,
     "metadata": {},
     "output_type": "execute_result"
    }
   ],
   "source": [
    "df.head(1)"
   ]
  },
  {
   "cell_type": "code",
   "execution_count": 10,
   "id": "8670e638",
   "metadata": {},
   "outputs": [
    {
     "name": "stdout",
     "output_type": "stream",
     "text": [
      "<class 'pandas.core.frame.DataFrame'>\n",
      "RangeIndex: 90569 entries, 0 to 90568\n",
      "Data columns (total 28 columns):\n",
      " #   Column    Non-Null Count  Dtype  \n",
      "---  ------    --------------  -----  \n",
      " 0   STATE     90569 non-null  object \n",
      " 1   PVASTATE  90569 non-null  object \n",
      " 2   DOB       90569 non-null  int64  \n",
      " 3   MDMAUD    90569 non-null  object \n",
      " 4   RECP3     90569 non-null  object \n",
      " 5   GENDER    90569 non-null  object \n",
      " 6   DOMAIN    90569 non-null  object \n",
      " 7   INCOME    70386 non-null  float64\n",
      " 8   HOMEOWNR  90569 non-null  object \n",
      " 9   HV1       90569 non-null  int64  \n",
      " 10  HV2       90569 non-null  int64  \n",
      " 11  HV3       90569 non-null  int64  \n",
      " 12  HV4       90569 non-null  int64  \n",
      " 13  IC1       90569 non-null  int64  \n",
      " 14  IC2       90569 non-null  int64  \n",
      " 15  IC3       90569 non-null  int64  \n",
      " 16  IC4       90569 non-null  int64  \n",
      " 17  IC5       90569 non-null  int64  \n",
      " 18  VETERANS  90569 non-null  object \n",
      " 19  NUMPROM   90569 non-null  int64  \n",
      " 20  CARDPROM  90569 non-null  int64  \n",
      " 21  CARDPM12  90569 non-null  int64  \n",
      " 22  NUMPRM12  90569 non-null  int64  \n",
      " 23  MAXADATE  90569 non-null  int64  \n",
      " 24  RFA_2     90569 non-null  object \n",
      " 25  NGIFTALL  90569 non-null  int64  \n",
      " 26  TIMELAG   80916 non-null  float64\n",
      " 27  AVGGIFT   90569 non-null  float64\n",
      "dtypes: float64(3), int64(16), object(9)\n",
      "memory usage: 19.3+ MB\n"
     ]
    }
   ],
   "source": [
    "df.info()"
   ]
  },
  {
   "cell_type": "code",
   "execution_count": 11,
   "id": "5d282eb4",
   "metadata": {},
   "outputs": [
    {
     "data": {
      "text/html": [
       "<div>\n",
       "<style scoped>\n",
       "    .dataframe tbody tr th:only-of-type {\n",
       "        vertical-align: middle;\n",
       "    }\n",
       "\n",
       "    .dataframe tbody tr th {\n",
       "        vertical-align: top;\n",
       "    }\n",
       "\n",
       "    .dataframe thead th {\n",
       "        text-align: right;\n",
       "    }\n",
       "</style>\n",
       "<table border=\"1\" class=\"dataframe\">\n",
       "  <thead>\n",
       "    <tr style=\"text-align: right;\">\n",
       "      <th></th>\n",
       "      <th>DOB</th>\n",
       "      <th>INCOME</th>\n",
       "      <th>HV1</th>\n",
       "      <th>HV2</th>\n",
       "      <th>HV3</th>\n",
       "      <th>HV4</th>\n",
       "      <th>IC1</th>\n",
       "      <th>IC2</th>\n",
       "      <th>IC3</th>\n",
       "      <th>IC4</th>\n",
       "      <th>IC5</th>\n",
       "      <th>NUMPROM</th>\n",
       "      <th>CARDPROM</th>\n",
       "      <th>CARDPM12</th>\n",
       "      <th>NUMPRM12</th>\n",
       "      <th>MAXADATE</th>\n",
       "      <th>NGIFTALL</th>\n",
       "      <th>TIMELAG</th>\n",
       "      <th>AVGGIFT</th>\n",
       "    </tr>\n",
       "  </thead>\n",
       "  <tbody>\n",
       "    <tr>\n",
       "      <th>count</th>\n",
       "      <td>90569.000000</td>\n",
       "      <td>70386.000000</td>\n",
       "      <td>90569.000000</td>\n",
       "      <td>90569.00000</td>\n",
       "      <td>90569.000000</td>\n",
       "      <td>90569.000000</td>\n",
       "      <td>90569.000000</td>\n",
       "      <td>90569.000000</td>\n",
       "      <td>90569.000000</td>\n",
       "      <td>90569.000000</td>\n",
       "      <td>90569.000000</td>\n",
       "      <td>90569.000000</td>\n",
       "      <td>90569.000000</td>\n",
       "      <td>90569.000000</td>\n",
       "      <td>90569.000000</td>\n",
       "      <td>90569.000000</td>\n",
       "      <td>90569.000000</td>\n",
       "      <td>80916.000000</td>\n",
       "      <td>90569.000000</td>\n",
       "    </tr>\n",
       "    <tr>\n",
       "      <th>mean</th>\n",
       "      <td>2724.442789</td>\n",
       "      <td>3.878257</td>\n",
       "      <td>1056.391304</td>\n",
       "      <td>1127.42116</td>\n",
       "      <td>4.213473</td>\n",
       "      <td>3.865462</td>\n",
       "      <td>339.373240</td>\n",
       "      <td>386.231083</td>\n",
       "      <td>386.694068</td>\n",
       "      <td>429.977917</td>\n",
       "      <td>15682.038600</td>\n",
       "      <td>46.797204</td>\n",
       "      <td>18.370701</td>\n",
       "      <td>5.343407</td>\n",
       "      <td>12.837351</td>\n",
       "      <td>9701.640606</td>\n",
       "      <td>9.501353</td>\n",
       "      <td>8.114378</td>\n",
       "      <td>13.428585</td>\n",
       "    </tr>\n",
       "    <tr>\n",
       "      <th>std</th>\n",
       "      <td>2136.453823</td>\n",
       "      <td>1.855265</td>\n",
       "      <td>936.383991</td>\n",
       "      <td>942.16266</td>\n",
       "      <td>2.302380</td>\n",
       "      <td>2.239738</td>\n",
       "      <td>162.390371</td>\n",
       "      <td>173.082626</td>\n",
       "      <td>160.945113</td>\n",
       "      <td>171.332133</td>\n",
       "      <td>8508.870754</td>\n",
       "      <td>22.944967</td>\n",
       "      <td>8.582096</td>\n",
       "      <td>1.207126</td>\n",
       "      <td>4.499933</td>\n",
       "      <td>5.679884</td>\n",
       "      <td>8.495065</td>\n",
       "      <td>8.310877</td>\n",
       "      <td>10.796349</td>\n",
       "    </tr>\n",
       "    <tr>\n",
       "      <th>min</th>\n",
       "      <td>0.000000</td>\n",
       "      <td>1.000000</td>\n",
       "      <td>0.000000</td>\n",
       "      <td>0.00000</td>\n",
       "      <td>0.000000</td>\n",
       "      <td>0.000000</td>\n",
       "      <td>0.000000</td>\n",
       "      <td>0.000000</td>\n",
       "      <td>0.000000</td>\n",
       "      <td>0.000000</td>\n",
       "      <td>0.000000</td>\n",
       "      <td>4.000000</td>\n",
       "      <td>1.000000</td>\n",
       "      <td>0.000000</td>\n",
       "      <td>1.000000</td>\n",
       "      <td>9611.000000</td>\n",
       "      <td>1.000000</td>\n",
       "      <td>0.000000</td>\n",
       "      <td>1.285714</td>\n",
       "    </tr>\n",
       "    <tr>\n",
       "      <th>25%</th>\n",
       "      <td>112.000000</td>\n",
       "      <td>2.000000</td>\n",
       "      <td>511.000000</td>\n",
       "      <td>553.00000</td>\n",
       "      <td>3.000000</td>\n",
       "      <td>2.000000</td>\n",
       "      <td>230.000000</td>\n",
       "      <td>273.000000</td>\n",
       "      <td>277.000000</td>\n",
       "      <td>314.000000</td>\n",
       "      <td>10770.000000</td>\n",
       "      <td>27.000000</td>\n",
       "      <td>11.000000</td>\n",
       "      <td>5.000000</td>\n",
       "      <td>11.000000</td>\n",
       "      <td>9702.000000</td>\n",
       "      <td>3.000000</td>\n",
       "      <td>4.000000</td>\n",
       "      <td>8.454545</td>\n",
       "    </tr>\n",
       "    <tr>\n",
       "      <th>50%</th>\n",
       "      <td>2610.000000</td>\n",
       "      <td>4.000000</td>\n",
       "      <td>735.000000</td>\n",
       "      <td>800.00000</td>\n",
       "      <td>4.000000</td>\n",
       "      <td>3.000000</td>\n",
       "      <td>309.000000</td>\n",
       "      <td>355.000000</td>\n",
       "      <td>353.000000</td>\n",
       "      <td>396.000000</td>\n",
       "      <td>13692.000000</td>\n",
       "      <td>46.000000</td>\n",
       "      <td>18.000000</td>\n",
       "      <td>6.000000</td>\n",
       "      <td>12.000000</td>\n",
       "      <td>9702.000000</td>\n",
       "      <td>7.000000</td>\n",
       "      <td>6.000000</td>\n",
       "      <td>11.666667</td>\n",
       "    </tr>\n",
       "    <tr>\n",
       "      <th>75%</th>\n",
       "      <td>4601.000000</td>\n",
       "      <td>5.000000</td>\n",
       "      <td>1206.000000</td>\n",
       "      <td>1320.00000</td>\n",
       "      <td>5.000000</td>\n",
       "      <td>5.000000</td>\n",
       "      <td>414.000000</td>\n",
       "      <td>464.000000</td>\n",
       "      <td>465.000000</td>\n",
       "      <td>513.000000</td>\n",
       "      <td>18128.000000</td>\n",
       "      <td>64.000000</td>\n",
       "      <td>25.000000</td>\n",
       "      <td>6.000000</td>\n",
       "      <td>13.000000</td>\n",
       "      <td>9702.000000</td>\n",
       "      <td>13.000000</td>\n",
       "      <td>11.000000</td>\n",
       "      <td>15.625000</td>\n",
       "    </tr>\n",
       "    <tr>\n",
       "      <th>max</th>\n",
       "      <td>9710.000000</td>\n",
       "      <td>7.000000</td>\n",
       "      <td>6000.000000</td>\n",
       "      <td>6000.00000</td>\n",
       "      <td>13.000000</td>\n",
       "      <td>13.000000</td>\n",
       "      <td>1500.000000</td>\n",
       "      <td>1500.000000</td>\n",
       "      <td>1500.000000</td>\n",
       "      <td>1500.000000</td>\n",
       "      <td>159306.000000</td>\n",
       "      <td>195.000000</td>\n",
       "      <td>61.000000</td>\n",
       "      <td>19.000000</td>\n",
       "      <td>78.000000</td>\n",
       "      <td>9702.000000</td>\n",
       "      <td>237.000000</td>\n",
       "      <td>1088.000000</td>\n",
       "      <td>1000.000000</td>\n",
       "    </tr>\n",
       "  </tbody>\n",
       "</table>\n",
       "</div>"
      ],
      "text/plain": [
       "                DOB        INCOME           HV1          HV2           HV3  \\\n",
       "count  90569.000000  70386.000000  90569.000000  90569.00000  90569.000000   \n",
       "mean    2724.442789      3.878257   1056.391304   1127.42116      4.213473   \n",
       "std     2136.453823      1.855265    936.383991    942.16266      2.302380   \n",
       "min        0.000000      1.000000      0.000000      0.00000      0.000000   \n",
       "25%      112.000000      2.000000    511.000000    553.00000      3.000000   \n",
       "50%     2610.000000      4.000000    735.000000    800.00000      4.000000   \n",
       "75%     4601.000000      5.000000   1206.000000   1320.00000      5.000000   \n",
       "max     9710.000000      7.000000   6000.000000   6000.00000     13.000000   \n",
       "\n",
       "                HV4           IC1           IC2           IC3           IC4  \\\n",
       "count  90569.000000  90569.000000  90569.000000  90569.000000  90569.000000   \n",
       "mean       3.865462    339.373240    386.231083    386.694068    429.977917   \n",
       "std        2.239738    162.390371    173.082626    160.945113    171.332133   \n",
       "min        0.000000      0.000000      0.000000      0.000000      0.000000   \n",
       "25%        2.000000    230.000000    273.000000    277.000000    314.000000   \n",
       "50%        3.000000    309.000000    355.000000    353.000000    396.000000   \n",
       "75%        5.000000    414.000000    464.000000    465.000000    513.000000   \n",
       "max       13.000000   1500.000000   1500.000000   1500.000000   1500.000000   \n",
       "\n",
       "                 IC5       NUMPROM      CARDPROM      CARDPM12      NUMPRM12  \\\n",
       "count   90569.000000  90569.000000  90569.000000  90569.000000  90569.000000   \n",
       "mean    15682.038600     46.797204     18.370701      5.343407     12.837351   \n",
       "std      8508.870754     22.944967      8.582096      1.207126      4.499933   \n",
       "min         0.000000      4.000000      1.000000      0.000000      1.000000   \n",
       "25%     10770.000000     27.000000     11.000000      5.000000     11.000000   \n",
       "50%     13692.000000     46.000000     18.000000      6.000000     12.000000   \n",
       "75%     18128.000000     64.000000     25.000000      6.000000     13.000000   \n",
       "max    159306.000000    195.000000     61.000000     19.000000     78.000000   \n",
       "\n",
       "           MAXADATE      NGIFTALL       TIMELAG       AVGGIFT  \n",
       "count  90569.000000  90569.000000  80916.000000  90569.000000  \n",
       "mean    9701.640606      9.501353      8.114378     13.428585  \n",
       "std        5.679884      8.495065      8.310877     10.796349  \n",
       "min     9611.000000      1.000000      0.000000      1.285714  \n",
       "25%     9702.000000      3.000000      4.000000      8.454545  \n",
       "50%     9702.000000      7.000000      6.000000     11.666667  \n",
       "75%     9702.000000     13.000000     11.000000     15.625000  \n",
       "max     9702.000000    237.000000   1088.000000   1000.000000  "
      ]
     },
     "execution_count": 11,
     "metadata": {},
     "output_type": "execute_result"
    }
   ],
   "source": [
    "df.describe()"
   ]
  },
  {
   "cell_type": "code",
   "execution_count": 121,
   "id": "eb072f4a",
   "metadata": {},
   "outputs": [
    {
     "data": {
      "text/plain": [
       "count    63150.000000\n",
       "mean      9701.955249\n",
       "std          2.015041\n",
       "min       9611.000000\n",
       "25%       9702.000000\n",
       "50%       9702.000000\n",
       "75%       9702.000000\n",
       "max       9702.000000\n",
       "Name: MAXADATE, dtype: float64"
      ]
     },
     "execution_count": 121,
     "metadata": {},
     "output_type": "execute_result"
    }
   ],
   "source": [
    "df['MAXADATE'].describe()"
   ]
  },
  {
   "cell_type": "markdown",
   "id": "6948c861",
   "metadata": {},
   "source": [
    "## nulls dataframe "
   ]
  },
  {
   "cell_type": "code",
   "execution_count": 12,
   "id": "9e29853e",
   "metadata": {},
   "outputs": [],
   "source": [
    "nullsdf=pd.DataFrame(df.isna().sum()/len(df))"
   ]
  },
  {
   "cell_type": "code",
   "execution_count": 13,
   "id": "1cf79f87",
   "metadata": {},
   "outputs": [
    {
     "data": {
      "text/html": [
       "<div>\n",
       "<style scoped>\n",
       "    .dataframe tbody tr th:only-of-type {\n",
       "        vertical-align: middle;\n",
       "    }\n",
       "\n",
       "    .dataframe tbody tr th {\n",
       "        vertical-align: top;\n",
       "    }\n",
       "\n",
       "    .dataframe thead th {\n",
       "        text-align: right;\n",
       "    }\n",
       "</style>\n",
       "<table border=\"1\" class=\"dataframe\">\n",
       "  <thead>\n",
       "    <tr style=\"text-align: right;\">\n",
       "      <th></th>\n",
       "      <th>0</th>\n",
       "    </tr>\n",
       "  </thead>\n",
       "  <tbody>\n",
       "    <tr>\n",
       "      <th>STATE</th>\n",
       "      <td>0.000000</td>\n",
       "    </tr>\n",
       "    <tr>\n",
       "      <th>PVASTATE</th>\n",
       "      <td>0.000000</td>\n",
       "    </tr>\n",
       "    <tr>\n",
       "      <th>DOB</th>\n",
       "      <td>0.000000</td>\n",
       "    </tr>\n",
       "    <tr>\n",
       "      <th>MDMAUD</th>\n",
       "      <td>0.000000</td>\n",
       "    </tr>\n",
       "    <tr>\n",
       "      <th>RECP3</th>\n",
       "      <td>0.000000</td>\n",
       "    </tr>\n",
       "    <tr>\n",
       "      <th>GENDER</th>\n",
       "      <td>0.000000</td>\n",
       "    </tr>\n",
       "    <tr>\n",
       "      <th>DOMAIN</th>\n",
       "      <td>0.000000</td>\n",
       "    </tr>\n",
       "    <tr>\n",
       "      <th>INCOME</th>\n",
       "      <td>0.222847</td>\n",
       "    </tr>\n",
       "    <tr>\n",
       "      <th>HOMEOWNR</th>\n",
       "      <td>0.000000</td>\n",
       "    </tr>\n",
       "    <tr>\n",
       "      <th>HV1</th>\n",
       "      <td>0.000000</td>\n",
       "    </tr>\n",
       "    <tr>\n",
       "      <th>HV2</th>\n",
       "      <td>0.000000</td>\n",
       "    </tr>\n",
       "    <tr>\n",
       "      <th>HV3</th>\n",
       "      <td>0.000000</td>\n",
       "    </tr>\n",
       "    <tr>\n",
       "      <th>HV4</th>\n",
       "      <td>0.000000</td>\n",
       "    </tr>\n",
       "    <tr>\n",
       "      <th>IC1</th>\n",
       "      <td>0.000000</td>\n",
       "    </tr>\n",
       "    <tr>\n",
       "      <th>IC2</th>\n",
       "      <td>0.000000</td>\n",
       "    </tr>\n",
       "    <tr>\n",
       "      <th>IC3</th>\n",
       "      <td>0.000000</td>\n",
       "    </tr>\n",
       "    <tr>\n",
       "      <th>IC4</th>\n",
       "      <td>0.000000</td>\n",
       "    </tr>\n",
       "    <tr>\n",
       "      <th>IC5</th>\n",
       "      <td>0.000000</td>\n",
       "    </tr>\n",
       "    <tr>\n",
       "      <th>VETERANS</th>\n",
       "      <td>0.000000</td>\n",
       "    </tr>\n",
       "    <tr>\n",
       "      <th>NUMPROM</th>\n",
       "      <td>0.000000</td>\n",
       "    </tr>\n",
       "    <tr>\n",
       "      <th>CARDPROM</th>\n",
       "      <td>0.000000</td>\n",
       "    </tr>\n",
       "    <tr>\n",
       "      <th>CARDPM12</th>\n",
       "      <td>0.000000</td>\n",
       "    </tr>\n",
       "    <tr>\n",
       "      <th>NUMPRM12</th>\n",
       "      <td>0.000000</td>\n",
       "    </tr>\n",
       "    <tr>\n",
       "      <th>MAXADATE</th>\n",
       "      <td>0.000000</td>\n",
       "    </tr>\n",
       "    <tr>\n",
       "      <th>RFA_2</th>\n",
       "      <td>0.000000</td>\n",
       "    </tr>\n",
       "    <tr>\n",
       "      <th>NGIFTALL</th>\n",
       "      <td>0.000000</td>\n",
       "    </tr>\n",
       "    <tr>\n",
       "      <th>TIMELAG</th>\n",
       "      <td>0.106582</td>\n",
       "    </tr>\n",
       "    <tr>\n",
       "      <th>AVGGIFT</th>\n",
       "      <td>0.000000</td>\n",
       "    </tr>\n",
       "  </tbody>\n",
       "</table>\n",
       "</div>"
      ],
      "text/plain": [
       "                 0\n",
       "STATE     0.000000\n",
       "PVASTATE  0.000000\n",
       "DOB       0.000000\n",
       "MDMAUD    0.000000\n",
       "RECP3     0.000000\n",
       "GENDER    0.000000\n",
       "DOMAIN    0.000000\n",
       "INCOME    0.222847\n",
       "HOMEOWNR  0.000000\n",
       "HV1       0.000000\n",
       "HV2       0.000000\n",
       "HV3       0.000000\n",
       "HV4       0.000000\n",
       "IC1       0.000000\n",
       "IC2       0.000000\n",
       "IC3       0.000000\n",
       "IC4       0.000000\n",
       "IC5       0.000000\n",
       "VETERANS  0.000000\n",
       "NUMPROM   0.000000\n",
       "CARDPROM  0.000000\n",
       "CARDPM12  0.000000\n",
       "NUMPRM12  0.000000\n",
       "MAXADATE  0.000000\n",
       "RFA_2     0.000000\n",
       "NGIFTALL  0.000000\n",
       "TIMELAG   0.106582\n",
       "AVGGIFT   0.000000"
      ]
     },
     "execution_count": 13,
     "metadata": {},
     "output_type": "execute_result"
    }
   ],
   "source": [
    "nullsdf"
   ]
  },
  {
   "cell_type": "markdown",
   "id": "008c0da6",
   "metadata": {},
   "source": [
    "## Nulls handling "
   ]
  },
  {
   "cell_type": "code",
   "execution_count": 14,
   "id": "f201eb21",
   "metadata": {},
   "outputs": [],
   "source": [
    "# income and timelag features \n",
    "# EDA to understand those columns \n",
    "# relationship to label (avg_gift)\n",
    "# is the gap same in both cases "
   ]
  },
  {
   "cell_type": "code",
   "execution_count": 106,
   "id": "dd06a442",
   "metadata": {},
   "outputs": [
    {
     "data": {
      "text/plain": [
       "1        5202\n",
       "2           0\n",
       "3        2801\n",
       "4        2001\n",
       "6        6001\n",
       "         ... \n",
       "90559    1201\n",
       "90560    2801\n",
       "90562    4506\n",
       "90564    4803\n",
       "90568    1801\n",
       "Name: DOB, Length: 63150, dtype: int64"
      ]
     },
     "execution_count": 106,
     "metadata": {},
     "output_type": "execute_result"
    }
   ],
   "source": [
    "df['DOB']"
   ]
  },
  {
   "cell_type": "markdown",
   "id": "1973d726",
   "metadata": {},
   "source": [
    "- REMEMBER that isna.sum() only displays nulls for numeric values. \n",
    "- to find whitespaces in categories, you can set a function that replaces '' or ' ' with 'unknown'\n",
    "- explore the data in tableau or python, visually, (eg in python using value counts or count plot)"
   ]
  },
  {
   "cell_type": "code",
   "execution_count": 16,
   "id": "93c35046",
   "metadata": {},
   "outputs": [
    {
     "data": {
      "text/plain": [
       "XXXX    90290\n",
       "C1CM       59\n",
       "L1CM       44\n",
       "I1CM       34\n",
       "D2CM       27\n",
       "C2CM       23\n",
       "D1CM       19\n",
       "L2CM       14\n",
       "C1LM        8\n",
       "L1LM        8\n",
       "I2CM        7\n",
       "D5CM        5\n",
       "D5MM        5\n",
       "D2MM        4\n",
       "I1LM        3\n",
       "D5TM        3\n",
       "C2MM        3\n",
       "C5CM        3\n",
       "C2LM        2\n",
       "C1MM        1\n",
       "I2MM        1\n",
       "I5CM        1\n",
       "I5MM        1\n",
       "C5MM        1\n",
       "L1MM        1\n",
       "C5TM        1\n",
       "L2TM        1\n",
       "Name: MDMAUD, dtype: int64"
      ]
     },
     "execution_count": 16,
     "metadata": {},
     "output_type": "execute_result"
    }
   ],
   "source": [
    "df['MDMAUD'].value_counts()"
   ]
  },
  {
   "cell_type": "code",
   "execution_count": 17,
   "id": "1635646f",
   "metadata": {},
   "outputs": [
    {
     "data": {
      "text/plain": [
       "     80723\n",
       "Y     9846\n",
       "Name: VETERANS, dtype: int64"
      ]
     },
     "execution_count": 17,
     "metadata": {},
     "output_type": "execute_result"
    }
   ],
   "source": [
    "df['VETERANS'].value_counts()"
   ]
  },
  {
   "cell_type": "code",
   "execution_count": 18,
   "id": "defdcd46",
   "metadata": {},
   "outputs": [
    {
     "data": {
      "text/plain": [
       "<AxesSubplot:xlabel='VETERANS', ylabel='count'>"
      ]
     },
     "execution_count": 18,
     "metadata": {},
     "output_type": "execute_result"
    },
    {
     "data": {
      "image/png": "[encoded data removed]",
      "text/plain": [
       "<Figure size 432x288 with 1 Axes>"
      ]
     },
     "metadata": {
      "needs_background": "light"
     },
     "output_type": "display_data"
    }
   ],
   "source": [
    "sns.countplot(x='VETERANS',data=df)"
   ]
  },
  {
   "cell_type": "markdown",
   "id": "6046499a",
   "metadata": {},
   "source": [
    "- REGEX /s - any white space \n",
    "- ^$ start and end of string \n",
    "- apply this to find any blanks and replace with NaN "
   ]
  },
  {
   "cell_type": "code",
   "execution_count": 19,
   "id": "43abb39d",
   "metadata": {},
   "outputs": [],
   "source": [
    "df1= df.replace(r'^\\s$',np.NaN,regex=True)"
   ]
  },
  {
   "cell_type": "code",
   "execution_count": 20,
   "id": "329d6828",
   "metadata": {},
   "outputs": [
    {
     "name": "stdout",
     "output_type": "stream",
     "text": [
      "<class 'pandas.core.frame.DataFrame'>\n",
      "RangeIndex: 90569 entries, 0 to 90568\n",
      "Data columns (total 28 columns):\n",
      " #   Column    Non-Null Count  Dtype  \n",
      "---  ------    --------------  -----  \n",
      " 0   STATE     90569 non-null  object \n",
      " 1   PVASTATE  1385 non-null   object \n",
      " 2   DOB       90569 non-null  int64  \n",
      " 3   MDMAUD    90569 non-null  object \n",
      " 4   RECP3     1833 non-null   object \n",
      " 5   GENDER    87774 non-null  object \n",
      " 6   DOMAIN    88393 non-null  object \n",
      " 7   INCOME    70386 non-null  float64\n",
      " 8   HOMEOWNR  69518 non-null  object \n",
      " 9   HV1       90569 non-null  int64  \n",
      " 10  HV2       90569 non-null  int64  \n",
      " 11  HV3       90569 non-null  int64  \n",
      " 12  HV4       90569 non-null  int64  \n",
      " 13  IC1       90569 non-null  int64  \n",
      " 14  IC2       90569 non-null  int64  \n",
      " 15  IC3       90569 non-null  int64  \n",
      " 16  IC4       90569 non-null  int64  \n",
      " 17  IC5       90569 non-null  int64  \n",
      " 18  VETERANS  9846 non-null   object \n",
      " 19  NUMPROM   90569 non-null  int64  \n",
      " 20  CARDPROM  90569 non-null  int64  \n",
      " 21  CARDPM12  90569 non-null  int64  \n",
      " 22  NUMPRM12  90569 non-null  int64  \n",
      " 23  MAXADATE  90569 non-null  int64  \n",
      " 24  RFA_2     90569 non-null  object \n",
      " 25  NGIFTALL  90569 non-null  int64  \n",
      " 26  TIMELAG   80916 non-null  float64\n",
      " 27  AVGGIFT   90569 non-null  float64\n",
      "dtypes: float64(3), int64(16), object(9)\n",
      "memory usage: 19.3+ MB\n"
     ]
    }
   ],
   "source": [
    "df1.info()"
   ]
  },
  {
   "cell_type": "code",
   "execution_count": 21,
   "id": "edd7ebcd",
   "metadata": {},
   "outputs": [
    {
     "data": {
      "text/plain": [
       "Index(['STATE', 'PVASTATE', 'DOB', 'MDMAUD', 'RECP3', 'GENDER', 'DOMAIN',\n",
       "       'INCOME', 'HOMEOWNR', 'HV1', 'HV2', 'HV3', 'HV4', 'IC1', 'IC2', 'IC3',\n",
       "       'IC4', 'IC5', 'VETERANS', 'NUMPROM', 'CARDPROM', 'CARDPM12', 'NUMPRM12',\n",
       "       'MAXADATE', 'RFA_2', 'NGIFTALL', 'TIMELAG', 'AVGGIFT'],\n",
       "      dtype='object')"
      ]
     },
     "execution_count": 21,
     "metadata": {},
     "output_type": "execute_result"
    }
   ],
   "source": [
    "df.columns"
   ]
  },
  {
   "cell_type": "markdown",
   "id": "f793fc12",
   "metadata": {},
   "source": [
    "## Imputing the income value (if its useful)"
   ]
  },
  {
   "cell_type": "code",
   "execution_count": 22,
   "id": "70d58e3e",
   "metadata": {},
   "outputs": [
    {
     "data": {
      "image/png": "[encoded data removed]",
      "text/plain": [
       "<Figure size 432x432 with 3 Axes>"
      ]
     },
     "metadata": {
      "needs_background": "light"
     },
     "output_type": "display_data"
    }
   ],
   "source": [
    "sns.jointplot(x=df['INCOME'],y=df['AVGGIFT']);\n",
    "# as the chart shows, no clear evidence of a relationship between independent and dependent var"
   ]
  },
  {
   "cell_type": "code",
   "execution_count": 23,
   "id": "72b31891",
   "metadata": {},
   "outputs": [
    {
     "data": {
      "text/plain": [
       "5.0    14639\n",
       "2.0    12482\n",
       "4.0    12092\n",
       "1.0     8646\n",
       "3.0     8135\n",
       "6.0     7347\n",
       "7.0     7045\n",
       "Name: INCOME, dtype: int64"
      ]
     },
     "execution_count": 23,
     "metadata": {},
     "output_type": "execute_result"
    }
   ],
   "source": [
    "df['INCOME'].value_counts()"
   ]
  },
  {
   "cell_type": "code",
   "execution_count": 24,
   "id": "fd61093f",
   "metadata": {},
   "outputs": [
    {
     "data": {
      "text/plain": [
       "3.8782570397522234"
      ]
     },
     "execution_count": 24,
     "metadata": {},
     "output_type": "execute_result"
    }
   ],
   "source": [
    "np.mean(df['INCOME'])"
   ]
  },
  {
   "cell_type": "markdown",
   "id": "2d094161",
   "metadata": {},
   "source": [
    "- impute options : median / mean fill - bias, fill with most common value (MODE)\n",
    "- interpolate with pandas \n",
    "- predict the value using a model (each model is wrong but some are useful) - interpolation\n",
    "    "
   ]
  },
  {
   "cell_type": "code",
   "execution_count": 25,
   "id": "cfe5e108",
   "metadata": {},
   "outputs": [],
   "source": [
    "# visualise \n",
    "# try something \n",
    "# visualise \n",
    "# try something else\n",
    "# visualise \n",
    "# pick the best option / least worst option"
   ]
  },
  {
   "cell_type": "code",
   "execution_count": 26,
   "id": "e10b548f",
   "metadata": {},
   "outputs": [],
   "source": [
    "new_income_1=df['INCOME'][0:40].interpolate(method='linear')"
   ]
  },
  {
   "cell_type": "code",
   "execution_count": 27,
   "id": "ff13755a",
   "metadata": {},
   "outputs": [
    {
     "data": {
      "text/plain": [
       "0          NaN\n",
       "1     6.000000\n",
       "2     3.000000\n",
       "3     1.000000\n",
       "4     3.000000\n",
       "5     3.500000\n",
       "6     4.000000\n",
       "7     2.000000\n",
       "8     3.000000\n",
       "9     2.500000\n",
       "10    2.000000\n",
       "11    1.000000\n",
       "12    4.000000\n",
       "13    4.000000\n",
       "14    4.000000\n",
       "15    1.000000\n",
       "16    1.000000\n",
       "17    7.000000\n",
       "18    4.000000\n",
       "19    3.000000\n",
       "20    2.000000\n",
       "21    3.666667\n",
       "22    5.333333\n",
       "23    7.000000\n",
       "24    7.000000\n",
       "25    7.000000\n",
       "26    7.000000\n",
       "27    7.000000\n",
       "28    4.000000\n",
       "29    1.000000\n",
       "30    4.000000\n",
       "31    4.000000\n",
       "32    4.000000\n",
       "33    4.000000\n",
       "34    4.000000\n",
       "35    5.000000\n",
       "36    6.000000\n",
       "37    3.000000\n",
       "38    3.000000\n",
       "39    3.000000\n",
       "Name: INCOME, dtype: float64"
      ]
     },
     "execution_count": 27,
     "metadata": {},
     "output_type": "execute_result"
    }
   ],
   "source": [
    "new_income_1"
   ]
  },
  {
   "cell_type": "code",
   "execution_count": 28,
   "id": "c0ca742c",
   "metadata": {},
   "outputs": [],
   "source": [
    "points_2=df['INCOME'].fillna(np.mean(df['INCOME']))"
   ]
  },
  {
   "cell_type": "code",
   "execution_count": 29,
   "id": "16e7db32",
   "metadata": {},
   "outputs": [
    {
     "data": {
      "image/png": "[encoded data removed]",
      "text/plain": [
       "<Figure size 360x360 with 1 Axes>"
      ]
     },
     "metadata": {
      "needs_background": "light"
     },
     "output_type": "display_data"
    }
   ],
   "source": [
    "sns.displot(points_2);"
   ]
  },
  {
   "cell_type": "markdown",
   "id": "257b5c50",
   "metadata": {},
   "source": [
    "## Reduce the number of unique strings "
   ]
  },
  {
   "cell_type": "code",
   "execution_count": 30,
   "id": "cc78f288",
   "metadata": {},
   "outputs": [
    {
     "data": {
      "text/plain": [
       "CA    16284\n",
       "FL     7959\n",
       "TX     7166\n",
       "IL     6124\n",
       "MI     5375\n",
       "NC     3956\n",
       "WA     3383\n",
       "GA     3261\n",
       "IN     2855\n",
       "WI     2656\n",
       "MO     2583\n",
       "TN     2396\n",
       "AZ     2278\n",
       "MN     2081\n",
       "OR     2045\n",
       "CO     1929\n",
       "SC     1660\n",
       "AL     1627\n",
       "OK     1553\n",
       "KY     1542\n",
       "LA     1533\n",
       "KS     1233\n",
       "IA     1214\n",
       "AR      969\n",
       "MS      948\n",
       "NV      923\n",
       "NM      824\n",
       "NE      715\n",
       "UT      546\n",
       "ID      504\n",
       "MT      498\n",
       "HI      423\n",
       "SD      278\n",
       "AK      275\n",
       "WY      267\n",
       "ND      241\n",
       "AP       78\n",
       "NY       70\n",
       "VA       54\n",
       "OH       52\n",
       "PA       36\n",
       "MD       30\n",
       "MA       25\n",
       "NJ       24\n",
       "CT       20\n",
       "AA       15\n",
       "AE       14\n",
       "ME       11\n",
       "NH        8\n",
       "RI        6\n",
       "VT        6\n",
       "VI        5\n",
       "WV        3\n",
       "GU        3\n",
       "DE        3\n",
       "AS        1\n",
       "DC        1\n",
       "Name: STATE, dtype: int64"
      ]
     },
     "execution_count": 30,
     "metadata": {},
     "output_type": "execute_result"
    }
   ],
   "source": [
    "df['STATE'].value_counts()"
   ]
  },
  {
   "cell_type": "code",
   "execution_count": 31,
   "id": "a2b4ba38",
   "metadata": {},
   "outputs": [],
   "source": [
    "values=pd.DataFrame(df['STATE'].value_counts())"
   ]
  },
  {
   "cell_type": "code",
   "execution_count": 32,
   "id": "c14d46de",
   "metadata": {},
   "outputs": [],
   "source": [
    "values=values.reset_index()"
   ]
  },
  {
   "cell_type": "code",
   "execution_count": 33,
   "id": "4a6e6e87",
   "metadata": {},
   "outputs": [],
   "source": [
    "values.columns=['nameofstate','count']"
   ]
  },
  {
   "cell_type": "code",
   "execution_count": 34,
   "id": "43586416",
   "metadata": {},
   "outputs": [],
   "source": [
    "group_states=values[values['count']<1000]"
   ]
  },
  {
   "cell_type": "code",
   "execution_count": 35,
   "id": "61e04efa",
   "metadata": {},
   "outputs": [
    {
     "data": {
      "text/html": [
       "<div>\n",
       "<style scoped>\n",
       "    .dataframe tbody tr th:only-of-type {\n",
       "        vertical-align: middle;\n",
       "    }\n",
       "\n",
       "    .dataframe tbody tr th {\n",
       "        vertical-align: top;\n",
       "    }\n",
       "\n",
       "    .dataframe thead th {\n",
       "        text-align: right;\n",
       "    }\n",
       "</style>\n",
       "<table border=\"1\" class=\"dataframe\">\n",
       "  <thead>\n",
       "    <tr style=\"text-align: right;\">\n",
       "      <th></th>\n",
       "      <th>nameofstate</th>\n",
       "      <th>count</th>\n",
       "    </tr>\n",
       "  </thead>\n",
       "  <tbody>\n",
       "    <tr>\n",
       "      <th>23</th>\n",
       "      <td>AR</td>\n",
       "      <td>969</td>\n",
       "    </tr>\n",
       "    <tr>\n",
       "      <th>24</th>\n",
       "      <td>MS</td>\n",
       "      <td>948</td>\n",
       "    </tr>\n",
       "    <tr>\n",
       "      <th>25</th>\n",
       "      <td>NV</td>\n",
       "      <td>923</td>\n",
       "    </tr>\n",
       "    <tr>\n",
       "      <th>26</th>\n",
       "      <td>NM</td>\n",
       "      <td>824</td>\n",
       "    </tr>\n",
       "    <tr>\n",
       "      <th>27</th>\n",
       "      <td>NE</td>\n",
       "      <td>715</td>\n",
       "    </tr>\n",
       "  </tbody>\n",
       "</table>\n",
       "</div>"
      ],
      "text/plain": [
       "   nameofstate  count\n",
       "23          AR    969\n",
       "24          MS    948\n",
       "25          NV    923\n",
       "26          NM    824\n",
       "27          NE    715"
      ]
     },
     "execution_count": 35,
     "metadata": {},
     "output_type": "execute_result"
    }
   ],
   "source": [
    "group_states.head()"
   ]
  },
  {
   "cell_type": "code",
   "execution_count": 36,
   "id": "07195c07",
   "metadata": {},
   "outputs": [],
   "source": [
    "group_states_l=list(group_states['nameofstate'])"
   ]
  },
  {
   "cell_type": "code",
   "execution_count": 37,
   "id": "3bb5e5bf",
   "metadata": {},
   "outputs": [],
   "source": [
    "def groupthestate(x):\n",
    "    if x in group_states_l:\n",
    "        return 'other'\n",
    "    else:\n",
    "        return x "
   ]
  },
  {
   "cell_type": "code",
   "execution_count": 38,
   "id": "9bc20de2",
   "metadata": {},
   "outputs": [],
   "source": [
    "df['STATE']=list(map(groupthestate,df['STATE']))"
   ]
  },
  {
   "cell_type": "code",
   "execution_count": 39,
   "id": "932bda0b",
   "metadata": {},
   "outputs": [
    {
     "data": {
      "text/plain": [
       "CA       16284\n",
       "FL        7959\n",
       "other     7876\n",
       "TX        7166\n",
       "IL        6124\n",
       "MI        5375\n",
       "NC        3956\n",
       "WA        3383\n",
       "GA        3261\n",
       "IN        2855\n",
       "WI        2656\n",
       "MO        2583\n",
       "TN        2396\n",
       "AZ        2278\n",
       "MN        2081\n",
       "OR        2045\n",
       "CO        1929\n",
       "SC        1660\n",
       "AL        1627\n",
       "OK        1553\n",
       "KY        1542\n",
       "LA        1533\n",
       "KS        1233\n",
       "IA        1214\n",
       "Name: STATE, dtype: int64"
      ]
     },
     "execution_count": 39,
     "metadata": {},
     "output_type": "execute_result"
    }
   ],
   "source": [
    "df['STATE'].value_counts()"
   ]
  },
  {
   "cell_type": "markdown",
   "id": "ad02b0ce",
   "metadata": {},
   "source": [
    "## Reduce the number of unique values - continuous (numbers)"
   ]
  },
  {
   "cell_type": "code",
   "execution_count": 40,
   "id": "af4d6bdf",
   "metadata": {},
   "outputs": [],
   "source": [
    "# we can also bucket numerical values using pd.qcut (quantiles-equal size groups) or pd.cut (custom)\n",
    "#method : \n",
    "df['IC4_CUT']=pd.qcut(df['IC4'], 4, labels=[\"one\", \"two\", \"three\", \"four\"])"
   ]
  },
  {
   "cell_type": "code",
   "execution_count": 41,
   "id": "19b5b92d",
   "metadata": {},
   "outputs": [
    {
     "data": {
      "image/png": "[encoded data removed]",
      "text/plain": [
       "<Figure size 360x360 with 1 Axes>"
      ]
     },
     "metadata": {
      "needs_background": "light"
     },
     "output_type": "display_data"
    }
   ],
   "source": [
    "sns.displot(df['IC4']);"
   ]
  },
  {
   "cell_type": "code",
   "execution_count": 42,
   "id": "2d3e7ddd",
   "metadata": {},
   "outputs": [
    {
     "data": {
      "image/png": "[encoded data removed]",
      "text/plain": [
       "<Figure size 360x360 with 1 Axes>"
      ]
     },
     "metadata": {
      "needs_background": "light"
     },
     "output_type": "display_data"
    }
   ],
   "source": [
    "sns.displot(df['IC4_CUT']);"
   ]
  },
  {
   "cell_type": "code",
   "execution_count": 43,
   "id": "df4c0584",
   "metadata": {},
   "outputs": [
    {
     "data": {
      "text/html": [
       "<div>\n",
       "<style scoped>\n",
       "    .dataframe tbody tr th:only-of-type {\n",
       "        vertical-align: middle;\n",
       "    }\n",
       "\n",
       "    .dataframe tbody tr th {\n",
       "        vertical-align: top;\n",
       "    }\n",
       "\n",
       "    .dataframe thead th {\n",
       "        text-align: right;\n",
       "    }\n",
       "</style>\n",
       "<table border=\"1\" class=\"dataframe\">\n",
       "  <thead>\n",
       "    <tr style=\"text-align: right;\">\n",
       "      <th></th>\n",
       "      <th>IC4</th>\n",
       "      <th>IC4_CUT</th>\n",
       "    </tr>\n",
       "  </thead>\n",
       "  <tbody>\n",
       "    <tr>\n",
       "      <th>0</th>\n",
       "      <td>378</td>\n",
       "      <td>two</td>\n",
       "    </tr>\n",
       "    <tr>\n",
       "      <th>1</th>\n",
       "      <td>1037</td>\n",
       "      <td>four</td>\n",
       "    </tr>\n",
       "    <tr>\n",
       "      <th>2</th>\n",
       "      <td>340</td>\n",
       "      <td>two</td>\n",
       "    </tr>\n",
       "    <tr>\n",
       "      <th>3</th>\n",
       "      <td>423</td>\n",
       "      <td>three</td>\n",
       "    </tr>\n",
       "    <tr>\n",
       "      <th>4</th>\n",
       "      <td>321</td>\n",
       "      <td>two</td>\n",
       "    </tr>\n",
       "    <tr>\n",
       "      <th>...</th>\n",
       "      <td>...</td>\n",
       "      <td>...</td>\n",
       "    </tr>\n",
       "    <tr>\n",
       "      <th>90564</th>\n",
       "      <td>334</td>\n",
       "      <td>two</td>\n",
       "    </tr>\n",
       "    <tr>\n",
       "      <th>90565</th>\n",
       "      <td>535</td>\n",
       "      <td>four</td>\n",
       "    </tr>\n",
       "    <tr>\n",
       "      <th>90566</th>\n",
       "      <td>849</td>\n",
       "      <td>four</td>\n",
       "    </tr>\n",
       "    <tr>\n",
       "      <th>90567</th>\n",
       "      <td>345</td>\n",
       "      <td>two</td>\n",
       "    </tr>\n",
       "    <tr>\n",
       "      <th>90568</th>\n",
       "      <td>519</td>\n",
       "      <td>four</td>\n",
       "    </tr>\n",
       "  </tbody>\n",
       "</table>\n",
       "<p>90569 rows × 2 columns</p>\n",
       "</div>"
      ],
      "text/plain": [
       "        IC4 IC4_CUT\n",
       "0       378     two\n",
       "1      1037    four\n",
       "2       340     two\n",
       "3       423   three\n",
       "4       321     two\n",
       "...     ...     ...\n",
       "90564   334     two\n",
       "90565   535    four\n",
       "90566   849    four\n",
       "90567   345     two\n",
       "90568   519    four\n",
       "\n",
       "[90569 rows x 2 columns]"
      ]
     },
     "execution_count": 43,
     "metadata": {},
     "output_type": "execute_result"
    }
   ],
   "source": [
    "df[['IC4','IC4_CUT']]"
   ]
  },
  {
   "cell_type": "markdown",
   "id": "b423bb0f",
   "metadata": {},
   "source": [
    "##### thats all for today - we didnt get to VIF variation inflation factor, which checks categories for multicollinearity - but look at the useful code channel on slack for an article on this - the normal threshold is >10 "
   ]
  },
  {
   "cell_type": "markdown",
   "id": "3a6b3335",
   "metadata": {},
   "source": [
    "VIF - vAriable inflation factor - multicollinearity for features"
   ]
  },
  {
   "cell_type": "code",
   "execution_count": 84,
   "id": "ebcabc04",
   "metadata": {},
   "outputs": [],
   "source": [
    "from statsmodels.stats.outliers_influence import variance_inflation_factor\n",
    "from statsmodels.tools.tools import add_constant"
   ]
  },
  {
   "cell_type": "code",
   "execution_count": 85,
   "id": "5d497fc6",
   "metadata": {},
   "outputs": [
    {
     "name": "stdout",
     "output_type": "stream",
     "text": [
      "<class 'pandas.core.frame.DataFrame'>\n",
      "Int64Index: 63150 entries, 1 to 90568\n",
      "Data columns (total 30 columns):\n",
      " #   Column    Non-Null Count  Dtype   \n",
      "---  ------    --------------  -----   \n",
      " 0   const     63150 non-null  float64 \n",
      " 1   STATE     63150 non-null  object  \n",
      " 2   PVASTATE  63150 non-null  object  \n",
      " 3   DOB       63150 non-null  int64   \n",
      " 4   MDMAUD    63150 non-null  object  \n",
      " 5   RECP3     63150 non-null  object  \n",
      " 6   GENDER    63150 non-null  object  \n",
      " 7   DOMAIN    63150 non-null  object  \n",
      " 8   INCOME    63150 non-null  float64 \n",
      " 9   HOMEOWNR  63150 non-null  object  \n",
      " 10  HV1       63150 non-null  int64   \n",
      " 11  HV2       63150 non-null  int64   \n",
      " 12  HV3       63150 non-null  int64   \n",
      " 13  HV4       63150 non-null  int64   \n",
      " 14  IC1       63150 non-null  int64   \n",
      " 15  IC2       63150 non-null  int64   \n",
      " 16  IC3       63150 non-null  int64   \n",
      " 17  IC4       63150 non-null  int64   \n",
      " 18  IC5       63150 non-null  int64   \n",
      " 19  VETERANS  63150 non-null  object  \n",
      " 20  NUMPROM   63150 non-null  int64   \n",
      " 21  CARDPROM  63150 non-null  int64   \n",
      " 22  CARDPM12  63150 non-null  int64   \n",
      " 23  NUMPRM12  63150 non-null  int64   \n",
      " 24  MAXADATE  63150 non-null  int64   \n",
      " 25  RFA_2     63150 non-null  object  \n",
      " 26  NGIFTALL  63150 non-null  int64   \n",
      " 27  TIMELAG   63150 non-null  float64 \n",
      " 28  AVGGIFT   63150 non-null  float64 \n",
      " 29  IC4_CUT   63150 non-null  category\n",
      "dtypes: category(1), float64(4), int64(16), object(9)\n",
      "memory usage: 14.5+ MB\n"
     ]
    }
   ],
   "source": [
    "df.info()"
   ]
  },
  {
   "cell_type": "code",
   "execution_count": 86,
   "id": "3317cb27",
   "metadata": {},
   "outputs": [],
   "source": [
    "df=df.dropna()"
   ]
  },
  {
   "cell_type": "code",
   "execution_count": 87,
   "id": "8283b508",
   "metadata": {},
   "outputs": [
    {
     "name": "stdout",
     "output_type": "stream",
     "text": [
      "<class 'pandas.core.frame.DataFrame'>\n",
      "Int64Index: 63150 entries, 1 to 90568\n",
      "Data columns (total 30 columns):\n",
      " #   Column    Non-Null Count  Dtype   \n",
      "---  ------    --------------  -----   \n",
      " 0   const     63150 non-null  float64 \n",
      " 1   STATE     63150 non-null  object  \n",
      " 2   PVASTATE  63150 non-null  object  \n",
      " 3   DOB       63150 non-null  int64   \n",
      " 4   MDMAUD    63150 non-null  object  \n",
      " 5   RECP3     63150 non-null  object  \n",
      " 6   GENDER    63150 non-null  object  \n",
      " 7   DOMAIN    63150 non-null  object  \n",
      " 8   INCOME    63150 non-null  float64 \n",
      " 9   HOMEOWNR  63150 non-null  object  \n",
      " 10  HV1       63150 non-null  int64   \n",
      " 11  HV2       63150 non-null  int64   \n",
      " 12  HV3       63150 non-null  int64   \n",
      " 13  HV4       63150 non-null  int64   \n",
      " 14  IC1       63150 non-null  int64   \n",
      " 15  IC2       63150 non-null  int64   \n",
      " 16  IC3       63150 non-null  int64   \n",
      " 17  IC4       63150 non-null  int64   \n",
      " 18  IC5       63150 non-null  int64   \n",
      " 19  VETERANS  63150 non-null  object  \n",
      " 20  NUMPROM   63150 non-null  int64   \n",
      " 21  CARDPROM  63150 non-null  int64   \n",
      " 22  CARDPM12  63150 non-null  int64   \n",
      " 23  NUMPRM12  63150 non-null  int64   \n",
      " 24  MAXADATE  63150 non-null  int64   \n",
      " 25  RFA_2     63150 non-null  object  \n",
      " 26  NGIFTALL  63150 non-null  int64   \n",
      " 27  TIMELAG   63150 non-null  float64 \n",
      " 28  AVGGIFT   63150 non-null  float64 \n",
      " 29  IC4_CUT   63150 non-null  category\n",
      "dtypes: category(1), float64(4), int64(16), object(9)\n",
      "memory usage: 14.5+ MB\n"
     ]
    }
   ],
   "source": [
    "df.info()"
   ]
  },
  {
   "cell_type": "code",
   "execution_count": 88,
   "id": "5376755a",
   "metadata": {},
   "outputs": [],
   "source": [
    "df_cat=df.select_dtypes(include=object)"
   ]
  },
  {
   "cell_type": "code",
   "execution_count": 89,
   "id": "3cd9bfa4",
   "metadata": {},
   "outputs": [],
   "source": [
    "df_cat=pd.get_dummies(df_cat,  drop_first=True)"
   ]
  },
  {
   "cell_type": "code",
   "execution_count": 90,
   "id": "a6ce40b6",
   "metadata": {},
   "outputs": [],
   "source": [
    "df_num=df.select_dtypes(include=np.number)"
   ]
  },
  {
   "cell_type": "code",
   "execution_count": 91,
   "id": "bb55aae7",
   "metadata": {},
   "outputs": [],
   "source": [
    "df_full=pd.concat([df_cat,df_num],axis=1)"
   ]
  },
  {
   "cell_type": "code",
   "execution_count": 95,
   "id": "df05bae6",
   "metadata": {},
   "outputs": [
    {
     "name": "stderr",
     "output_type": "stream",
     "text": [
      "/Users/marcpuyoliniesta/opt/anaconda3/lib/python3.9/site-packages/statsmodels/tsa/tsatools.py:142: FutureWarning: In a future version of pandas all arguments of concat except for the argument 'objs' will be keyword-only\n",
      "  x = pd.concat(x[::order], 1)\n"
     ]
    }
   ],
   "source": [
    "vif={}\n",
    "df=add_constant(df_full)"
   ]
  },
  {
   "cell_type": "code",
   "execution_count": 96,
   "id": "be9fa239",
   "metadata": {},
   "outputs": [
    {
     "data": {
      "text/html": [
       "<div>\n",
       "<style scoped>\n",
       "    .dataframe tbody tr th:only-of-type {\n",
       "        vertical-align: middle;\n",
       "    }\n",
       "\n",
       "    .dataframe tbody tr th {\n",
       "        vertical-align: top;\n",
       "    }\n",
       "\n",
       "    .dataframe thead th {\n",
       "        text-align: right;\n",
       "    }\n",
       "</style>\n",
       "<table border=\"1\" class=\"dataframe\">\n",
       "  <thead>\n",
       "    <tr style=\"text-align: right;\">\n",
       "      <th></th>\n",
       "      <th>STATE_AZ</th>\n",
       "      <th>STATE_CA</th>\n",
       "      <th>STATE_CO</th>\n",
       "      <th>STATE_FL</th>\n",
       "      <th>STATE_GA</th>\n",
       "      <th>STATE_IA</th>\n",
       "      <th>STATE_IL</th>\n",
       "      <th>STATE_IN</th>\n",
       "      <th>STATE_KS</th>\n",
       "      <th>STATE_KY</th>\n",
       "      <th>...</th>\n",
       "      <th>IC4</th>\n",
       "      <th>IC5</th>\n",
       "      <th>NUMPROM</th>\n",
       "      <th>CARDPROM</th>\n",
       "      <th>CARDPM12</th>\n",
       "      <th>NUMPRM12</th>\n",
       "      <th>MAXADATE</th>\n",
       "      <th>NGIFTALL</th>\n",
       "      <th>TIMELAG</th>\n",
       "      <th>AVGGIFT</th>\n",
       "    </tr>\n",
       "  </thead>\n",
       "  <tbody>\n",
       "    <tr>\n",
       "      <th>1</th>\n",
       "      <td>0</td>\n",
       "      <td>1</td>\n",
       "      <td>0</td>\n",
       "      <td>0</td>\n",
       "      <td>0</td>\n",
       "      <td>0</td>\n",
       "      <td>0</td>\n",
       "      <td>0</td>\n",
       "      <td>0</td>\n",
       "      <td>0</td>\n",
       "      <td>...</td>\n",
       "      <td>1037</td>\n",
       "      <td>36175</td>\n",
       "      <td>32</td>\n",
       "      <td>12</td>\n",
       "      <td>6</td>\n",
       "      <td>13</td>\n",
       "      <td>9702</td>\n",
       "      <td>3</td>\n",
       "      <td>18.0</td>\n",
       "      <td>15.666667</td>\n",
       "    </tr>\n",
       "    <tr>\n",
       "      <th>2</th>\n",
       "      <td>0</td>\n",
       "      <td>0</td>\n",
       "      <td>0</td>\n",
       "      <td>0</td>\n",
       "      <td>0</td>\n",
       "      <td>0</td>\n",
       "      <td>0</td>\n",
       "      <td>0</td>\n",
       "      <td>0</td>\n",
       "      <td>0</td>\n",
       "      <td>...</td>\n",
       "      <td>340</td>\n",
       "      <td>11576</td>\n",
       "      <td>63</td>\n",
       "      <td>26</td>\n",
       "      <td>6</td>\n",
       "      <td>14</td>\n",
       "      <td>9702</td>\n",
       "      <td>27</td>\n",
       "      <td>12.0</td>\n",
       "      <td>7.481481</td>\n",
       "    </tr>\n",
       "    <tr>\n",
       "      <th>3</th>\n",
       "      <td>0</td>\n",
       "      <td>1</td>\n",
       "      <td>0</td>\n",
       "      <td>0</td>\n",
       "      <td>0</td>\n",
       "      <td>0</td>\n",
       "      <td>0</td>\n",
       "      <td>0</td>\n",
       "      <td>0</td>\n",
       "      <td>0</td>\n",
       "      <td>...</td>\n",
       "      <td>423</td>\n",
       "      <td>15130</td>\n",
       "      <td>66</td>\n",
       "      <td>27</td>\n",
       "      <td>6</td>\n",
       "      <td>14</td>\n",
       "      <td>9702</td>\n",
       "      <td>16</td>\n",
       "      <td>9.0</td>\n",
       "      <td>6.812500</td>\n",
       "    </tr>\n",
       "    <tr>\n",
       "      <th>4</th>\n",
       "      <td>0</td>\n",
       "      <td>0</td>\n",
       "      <td>0</td>\n",
       "      <td>1</td>\n",
       "      <td>0</td>\n",
       "      <td>0</td>\n",
       "      <td>0</td>\n",
       "      <td>0</td>\n",
       "      <td>0</td>\n",
       "      <td>0</td>\n",
       "      <td>...</td>\n",
       "      <td>321</td>\n",
       "      <td>9836</td>\n",
       "      <td>113</td>\n",
       "      <td>43</td>\n",
       "      <td>10</td>\n",
       "      <td>25</td>\n",
       "      <td>9702</td>\n",
       "      <td>37</td>\n",
       "      <td>14.0</td>\n",
       "      <td>6.864865</td>\n",
       "    </tr>\n",
       "    <tr>\n",
       "      <th>6</th>\n",
       "      <td>0</td>\n",
       "      <td>0</td>\n",
       "      <td>0</td>\n",
       "      <td>0</td>\n",
       "      <td>0</td>\n",
       "      <td>0</td>\n",
       "      <td>0</td>\n",
       "      <td>1</td>\n",
       "      <td>0</td>\n",
       "      <td>0</td>\n",
       "      <td>...</td>\n",
       "      <td>311</td>\n",
       "      <td>10717</td>\n",
       "      <td>63</td>\n",
       "      <td>26</td>\n",
       "      <td>4</td>\n",
       "      <td>9</td>\n",
       "      <td>9702</td>\n",
       "      <td>14</td>\n",
       "      <td>4.0</td>\n",
       "      <td>7.642857</td>\n",
       "    </tr>\n",
       "    <tr>\n",
       "      <th>...</th>\n",
       "      <td>...</td>\n",
       "      <td>...</td>\n",
       "      <td>...</td>\n",
       "      <td>...</td>\n",
       "      <td>...</td>\n",
       "      <td>...</td>\n",
       "      <td>...</td>\n",
       "      <td>...</td>\n",
       "      <td>...</td>\n",
       "      <td>...</td>\n",
       "      <td>...</td>\n",
       "      <td>...</td>\n",
       "      <td>...</td>\n",
       "      <td>...</td>\n",
       "      <td>...</td>\n",
       "      <td>...</td>\n",
       "      <td>...</td>\n",
       "      <td>...</td>\n",
       "      <td>...</td>\n",
       "      <td>...</td>\n",
       "      <td>...</td>\n",
       "    </tr>\n",
       "    <tr>\n",
       "      <th>90559</th>\n",
       "      <td>0</td>\n",
       "      <td>0</td>\n",
       "      <td>0</td>\n",
       "      <td>1</td>\n",
       "      <td>0</td>\n",
       "      <td>0</td>\n",
       "      <td>0</td>\n",
       "      <td>0</td>\n",
       "      <td>0</td>\n",
       "      <td>0</td>\n",
       "      <td>...</td>\n",
       "      <td>568</td>\n",
       "      <td>20791</td>\n",
       "      <td>65</td>\n",
       "      <td>27</td>\n",
       "      <td>6</td>\n",
       "      <td>13</td>\n",
       "      <td>9702</td>\n",
       "      <td>8</td>\n",
       "      <td>28.0</td>\n",
       "      <td>12.125000</td>\n",
       "    </tr>\n",
       "    <tr>\n",
       "      <th>90560</th>\n",
       "      <td>0</td>\n",
       "      <td>0</td>\n",
       "      <td>0</td>\n",
       "      <td>0</td>\n",
       "      <td>0</td>\n",
       "      <td>0</td>\n",
       "      <td>0</td>\n",
       "      <td>0</td>\n",
       "      <td>0</td>\n",
       "      <td>0</td>\n",
       "      <td>...</td>\n",
       "      <td>485</td>\n",
       "      <td>24775</td>\n",
       "      <td>30</td>\n",
       "      <td>11</td>\n",
       "      <td>4</td>\n",
       "      <td>10</td>\n",
       "      <td>9702</td>\n",
       "      <td>3</td>\n",
       "      <td>10.0</td>\n",
       "      <td>9.666667</td>\n",
       "    </tr>\n",
       "    <tr>\n",
       "      <th>90562</th>\n",
       "      <td>0</td>\n",
       "      <td>0</td>\n",
       "      <td>0</td>\n",
       "      <td>0</td>\n",
       "      <td>0</td>\n",
       "      <td>0</td>\n",
       "      <td>0</td>\n",
       "      <td>0</td>\n",
       "      <td>0</td>\n",
       "      <td>1</td>\n",
       "      <td>...</td>\n",
       "      <td>236</td>\n",
       "      <td>7542</td>\n",
       "      <td>38</td>\n",
       "      <td>17</td>\n",
       "      <td>6</td>\n",
       "      <td>12</td>\n",
       "      <td>9702</td>\n",
       "      <td>10</td>\n",
       "      <td>3.0</td>\n",
       "      <td>5.900000</td>\n",
       "    </tr>\n",
       "    <tr>\n",
       "      <th>90564</th>\n",
       "      <td>0</td>\n",
       "      <td>0</td>\n",
       "      <td>0</td>\n",
       "      <td>1</td>\n",
       "      <td>0</td>\n",
       "      <td>0</td>\n",
       "      <td>0</td>\n",
       "      <td>0</td>\n",
       "      <td>0</td>\n",
       "      <td>0</td>\n",
       "      <td>...</td>\n",
       "      <td>334</td>\n",
       "      <td>11390</td>\n",
       "      <td>59</td>\n",
       "      <td>23</td>\n",
       "      <td>5</td>\n",
       "      <td>12</td>\n",
       "      <td>9702</td>\n",
       "      <td>24</td>\n",
       "      <td>3.0</td>\n",
       "      <td>3.375000</td>\n",
       "    </tr>\n",
       "    <tr>\n",
       "      <th>90568</th>\n",
       "      <td>0</td>\n",
       "      <td>0</td>\n",
       "      <td>0</td>\n",
       "      <td>0</td>\n",
       "      <td>0</td>\n",
       "      <td>0</td>\n",
       "      <td>0</td>\n",
       "      <td>0</td>\n",
       "      <td>0</td>\n",
       "      <td>0</td>\n",
       "      <td>...</td>\n",
       "      <td>519</td>\n",
       "      <td>16699</td>\n",
       "      <td>139</td>\n",
       "      <td>32</td>\n",
       "      <td>6</td>\n",
       "      <td>35</td>\n",
       "      <td>9702</td>\n",
       "      <td>39</td>\n",
       "      <td>6.0</td>\n",
       "      <td>96.794872</td>\n",
       "    </tr>\n",
       "  </tbody>\n",
       "</table>\n",
       "<p>63150 rows × 108 columns</p>\n",
       "</div>"
      ],
      "text/plain": [
       "       STATE_AZ  STATE_CA  STATE_CO  STATE_FL  STATE_GA  STATE_IA  STATE_IL  \\\n",
       "1             0         1         0         0         0         0         0   \n",
       "2             0         0         0         0         0         0         0   \n",
       "3             0         1         0         0         0         0         0   \n",
       "4             0         0         0         1         0         0         0   \n",
       "6             0         0         0         0         0         0         0   \n",
       "...         ...       ...       ...       ...       ...       ...       ...   \n",
       "90559         0         0         0         1         0         0         0   \n",
       "90560         0         0         0         0         0         0         0   \n",
       "90562         0         0         0         0         0         0         0   \n",
       "90564         0         0         0         1         0         0         0   \n",
       "90568         0         0         0         0         0         0         0   \n",
       "\n",
       "       STATE_IN  STATE_KS  STATE_KY  ...   IC4    IC5  NUMPROM  CARDPROM  \\\n",
       "1             0         0         0  ...  1037  36175       32        12   \n",
       "2             0         0         0  ...   340  11576       63        26   \n",
       "3             0         0         0  ...   423  15130       66        27   \n",
       "4             0         0         0  ...   321   9836      113        43   \n",
       "6             1         0         0  ...   311  10717       63        26   \n",
       "...         ...       ...       ...  ...   ...    ...      ...       ...   \n",
       "90559         0         0         0  ...   568  20791       65        27   \n",
       "90560         0         0         0  ...   485  24775       30        11   \n",
       "90562         0         0         1  ...   236   7542       38        17   \n",
       "90564         0         0         0  ...   334  11390       59        23   \n",
       "90568         0         0         0  ...   519  16699      139        32   \n",
       "\n",
       "       CARDPM12  NUMPRM12  MAXADATE  NGIFTALL  TIMELAG    AVGGIFT  \n",
       "1             6        13      9702         3     18.0  15.666667  \n",
       "2             6        14      9702        27     12.0   7.481481  \n",
       "3             6        14      9702        16      9.0   6.812500  \n",
       "4            10        25      9702        37     14.0   6.864865  \n",
       "6             4         9      9702        14      4.0   7.642857  \n",
       "...         ...       ...       ...       ...      ...        ...  \n",
       "90559         6        13      9702         8     28.0  12.125000  \n",
       "90560         4        10      9702         3     10.0   9.666667  \n",
       "90562         6        12      9702        10      3.0   5.900000  \n",
       "90564         5        12      9702        24      3.0   3.375000  \n",
       "90568         6        35      9702        39      6.0  96.794872  \n",
       "\n",
       "[63150 rows x 108 columns]"
      ]
     },
     "execution_count": 96,
     "metadata": {},
     "output_type": "execute_result"
    }
   ],
   "source": [
    "df"
   ]
  },
  {
   "cell_type": "code",
   "execution_count": 97,
   "id": "b593af14",
   "metadata": {},
   "outputs": [],
   "source": [
    "for i in np.arange(df.shape[1]):\n",
    "    column_name=df.columns[i]\n",
    "    value=variance_inflation_factor(np.array(df),i)\n",
    "    vif[column_name]=value"
   ]
  },
  {
   "cell_type": "code",
   "execution_count": 99,
   "id": "0f36b783",
   "metadata": {},
   "outputs": [],
   "source": [
    "sorted_vif=dict(sorted(vif.items(),key=lambda item:item[1]))"
   ]
  },
  {
   "cell_type": "code",
   "execution_count": 100,
   "id": "4b18fcb6",
   "metadata": {},
   "outputs": [
    {
     "data": {
      "text/plain": [
       "{'PVASTATE_E': 1.0047602848553225,\n",
       " 'MAXADATE': 1.0196909426297547,\n",
       " 'MDMAUD_C2LM': 1.0240407612619842,\n",
       " 'MDMAUD_C5MM': 1.024358241896626,\n",
       " 'MDMAUD_C1MM': 1.0246347778282878,\n",
       " 'MDMAUD_I5MM': 1.0266346046864459,\n",
       " 'MDMAUD_C5CM': 1.0268823117066752,\n",
       " 'VETERANS_Y': 1.0283507119651285,\n",
       " 'MDMAUD_C5TM': 1.0384056000166701,\n",
       " 'MDMAUD_I2MM': 1.03964709900928,\n",
       " 'MDMAUD_I1LM': 1.0491103726408182,\n",
       " 'TIMELAG': 1.0498526374481196,\n",
       " 'MDMAUD_I5CM': 1.0618754775636658,\n",
       " 'MDMAUD_D2MM': 1.0726821514927154,\n",
       " 'MDMAUD_C2MM': 1.076095089624707,\n",
       " 'MDMAUD_D5TM': 1.0790294317355253,\n",
       " 'MDMAUD_D5CM': 1.0831908678299655,\n",
       " 'MDMAUD_D5MM': 1.1191452631209788,\n",
       " 'MDMAUD_I2CM': 1.120964017972405,\n",
       " 'MDMAUD_L1MM': 1.1298870717031853,\n",
       " 'MDMAUD_L1LM': 1.1420982015187167,\n",
       " 'MDMAUD_C1LM': 1.1642548354185136,\n",
       " 'DOB': 1.1708818094945839,\n",
       " 'RECP3_X': 1.2103847507124403,\n",
       " 'RFA_2_L4G': 1.2329445231436444,\n",
       " 'PVASTATE_P': 1.3040045494297066,\n",
       " 'MDMAUD_D1CM': 1.3294056049360516,\n",
       " 'MDMAUD_L2CM': 1.3715998469165847,\n",
       " 'MDMAUD_D2CM': 1.3756881474067726,\n",
       " 'RFA_2_L3G': 1.396514477804312,\n",
       " 'MDMAUD_C2CM': 1.3979084659672818,\n",
       " 'INCOME': 1.4687646103430971,\n",
       " 'RFA_2_L4F': 1.4712183967681975,\n",
       " 'RFA_2_L3D': 1.4832882213172134,\n",
       " 'MDMAUD_I1CM': 1.5877148819669606,\n",
       " 'DOMAIN_R1': 1.6136006189681142,\n",
       " 'STATE_KS': 1.7589875001988775,\n",
       " 'DOMAIN_U4': 1.7913679978597268,\n",
       " 'STATE_IA': 1.830512651272104,\n",
       " 'RFA_2_L3F': 1.8363045327387046,\n",
       " 'DOMAIN_S3': 1.854496448400688,\n",
       " 'MDMAUD_L1CM': 1.8672812715000318,\n",
       " 'STATE_OK': 1.8848301870051019,\n",
       " 'RFA_2_L4E': 1.9110693032865258,\n",
       " 'RFA_2_L2E': 1.978234102073678,\n",
       " 'STATE_LA': 2.002699339885889,\n",
       " 'STATE_KY': 2.0332311596753656,\n",
       " 'STATE_SC': 2.0395743369118295,\n",
       " 'DOMAIN_T3': 2.093241406075034,\n",
       " 'GENDER_C': 2.0958593888773414,\n",
       " 'RFA_2_L4D': 2.107285003216945,\n",
       " 'DOMAIN_U3': 2.1477638560620322,\n",
       " 'STATE_OR': 2.154505629685148,\n",
       " 'RFA_2_L2G': 2.241536556795181,\n",
       " 'STATE_CO': 2.2622282906126134,\n",
       " 'AVGGIFT': 2.3019360710569146,\n",
       " 'DOMAIN_U2': 2.3806823377515087,\n",
       " 'STATE_MN': 2.405306000490377,\n",
       " 'STATE_AZ': 2.4535677409516854,\n",
       " 'STATE_TN': 2.556985926005996,\n",
       " 'STATE_MO': 2.7125813672180827,\n",
       " 'STATE_IN': 2.7146400883504245,\n",
       " 'RFA_2_L3E': 2.7593421931486897,\n",
       " 'CARDPM12': 2.78263136849706,\n",
       " 'STATE_GA': 2.824209851779351,\n",
       " 'STATE_WI': 2.860646668114774,\n",
       " 'DOMAIN_U1': 2.958968459899866,\n",
       " 'STATE_WA': 2.9922129618932933,\n",
       " 'DOMAIN_R3': 3.2567173411739447,\n",
       " 'DOMAIN_T1': 3.292609019017192,\n",
       " 'RFA_2_L2F': 3.3764436854057216,\n",
       " 'DOMAIN_C3': 3.4385284605294197,\n",
       " 'RFA_2_L1G': 3.516082112616935,\n",
       " 'STATE_NC': 3.5167655699196407,\n",
       " 'DOMAIN_C1': 3.7569208959735856,\n",
       " 'NGIFTALL': 4.041679959623404,\n",
       " 'STATE_MI': 4.500585927500224,\n",
       " 'DOMAIN_C2': 4.543819490680805,\n",
       " 'DOMAIN_S2': 4.663105379250464,\n",
       " 'RFA_2_L1F': 4.8391005870653405,\n",
       " 'STATE_IL': 4.853198971970089,\n",
       " 'NUMPRM12': 4.99660522903707,\n",
       " 'MDMAUD_XXXX': 5.088270492064952,\n",
       " 'STATE_other': 5.304682471103917,\n",
       " 'STATE_TX': 5.332975860103617,\n",
       " 'STATE_FL': 5.777843373602647,\n",
       " 'DOMAIN_S1': 5.783903433353261,\n",
       " 'IC5': 5.889855112758153,\n",
       " 'DOMAIN_T2': 6.063615503046514,\n",
       " 'DOMAIN_R2': 6.588369196213645,\n",
       " 'STATE_CA': 10.569756246228133,\n",
       " 'HV4': 10.68758555718243,\n",
       " 'HV3': 11.328553461631643,\n",
       " 'HOMEOWNR_U': 16.810271952111837,\n",
       " 'HOMEOWNR_H': 16.818208231269935,\n",
       " 'CARDPROM': 18.750601607972282,\n",
       " 'NUMPROM': 24.667639935344077,\n",
       " 'IC2': 44.844558655533596,\n",
       " 'IC1': 51.73270810908394,\n",
       " 'IC4': 76.45588248072418,\n",
       " 'HV1': 91.3470144170479,\n",
       " 'IC3': 92.0923868464853,\n",
       " 'HV2': 98.76592651363026,\n",
       " 'GENDER_J': 287.6445586211519,\n",
       " 'GENDER_U': 1589.0465848121887,\n",
       " 'GENDER_M': 16914.504591742938,\n",
       " 'GENDER_F': 17139.609073525684,\n",
       " 'const': 23707413.09865422}"
      ]
     },
     "execution_count": 100,
     "metadata": {},
     "output_type": "execute_result"
    }
   ],
   "source": [
    "sorted_vif"
   ]
  },
  {
   "cell_type": "code",
   "execution_count": 101,
   "id": "a92acbce",
   "metadata": {},
   "outputs": [],
   "source": [
    "## feature extraction "
   ]
  },
  {
   "cell_type": "code",
   "execution_count": 102,
   "id": "a0853b64",
   "metadata": {},
   "outputs": [
    {
     "name": "stdout",
     "output_type": "stream",
     "text": [
      "<class 'pandas.core.frame.DataFrame'>\n",
      "Int64Index: 63150 entries, 1 to 90568\n",
      "Columns: 108 entries, STATE_AZ to AVGGIFT\n",
      "dtypes: float64(4), int64(16), uint8(88)\n",
      "memory usage: 15.4 MB\n"
     ]
    }
   ],
   "source": [
    "df.info()"
   ]
  },
  {
   "cell_type": "code",
   "execution_count": 103,
   "id": "578c3984",
   "metadata": {},
   "outputs": [
    {
     "data": {
      "text/plain": [
       "['STATE_AZ',\n",
       " 'STATE_CA',\n",
       " 'STATE_CO',\n",
       " 'STATE_FL',\n",
       " 'STATE_GA',\n",
       " 'STATE_IA',\n",
       " 'STATE_IL',\n",
       " 'STATE_IN',\n",
       " 'STATE_KS',\n",
       " 'STATE_KY',\n",
       " 'STATE_LA',\n",
       " 'STATE_MI',\n",
       " 'STATE_MN',\n",
       " 'STATE_MO',\n",
       " 'STATE_NC',\n",
       " 'STATE_OK',\n",
       " 'STATE_OR',\n",
       " 'STATE_SC',\n",
       " 'STATE_TN',\n",
       " 'STATE_TX',\n",
       " 'STATE_WA',\n",
       " 'STATE_WI',\n",
       " 'STATE_other',\n",
       " 'PVASTATE_E',\n",
       " 'PVASTATE_P',\n",
       " 'MDMAUD_C1LM',\n",
       " 'MDMAUD_C1MM',\n",
       " 'MDMAUD_C2CM',\n",
       " 'MDMAUD_C2LM',\n",
       " 'MDMAUD_C2MM',\n",
       " 'MDMAUD_C5CM',\n",
       " 'MDMAUD_C5MM',\n",
       " 'MDMAUD_C5TM',\n",
       " 'MDMAUD_D1CM',\n",
       " 'MDMAUD_D2CM',\n",
       " 'MDMAUD_D2MM',\n",
       " 'MDMAUD_D5CM',\n",
       " 'MDMAUD_D5MM',\n",
       " 'MDMAUD_D5TM',\n",
       " 'MDMAUD_I1CM',\n",
       " 'MDMAUD_I1LM',\n",
       " 'MDMAUD_I2CM',\n",
       " 'MDMAUD_I2MM',\n",
       " 'MDMAUD_I5CM',\n",
       " 'MDMAUD_I5MM',\n",
       " 'MDMAUD_L1CM',\n",
       " 'MDMAUD_L1LM',\n",
       " 'MDMAUD_L1MM',\n",
       " 'MDMAUD_L2CM',\n",
       " 'MDMAUD_XXXX',\n",
       " 'RECP3_X',\n",
       " 'GENDER_C',\n",
       " 'GENDER_F',\n",
       " 'GENDER_J',\n",
       " 'GENDER_M',\n",
       " 'GENDER_U',\n",
       " 'DOMAIN_C1',\n",
       " 'DOMAIN_C2',\n",
       " 'DOMAIN_C3',\n",
       " 'DOMAIN_R1',\n",
       " 'DOMAIN_R2',\n",
       " 'DOMAIN_R3',\n",
       " 'DOMAIN_S1',\n",
       " 'DOMAIN_S2',\n",
       " 'DOMAIN_S3',\n",
       " 'DOMAIN_T1',\n",
       " 'DOMAIN_T2',\n",
       " 'DOMAIN_T3',\n",
       " 'DOMAIN_U1',\n",
       " 'DOMAIN_U2',\n",
       " 'DOMAIN_U3',\n",
       " 'DOMAIN_U4',\n",
       " 'HOMEOWNR_H',\n",
       " 'HOMEOWNR_U',\n",
       " 'VETERANS_Y',\n",
       " 'RFA_2_L1F',\n",
       " 'RFA_2_L1G',\n",
       " 'RFA_2_L2E',\n",
       " 'RFA_2_L2F',\n",
       " 'RFA_2_L2G',\n",
       " 'RFA_2_L3D',\n",
       " 'RFA_2_L3E',\n",
       " 'RFA_2_L3F',\n",
       " 'RFA_2_L3G',\n",
       " 'RFA_2_L4D',\n",
       " 'RFA_2_L4E',\n",
       " 'RFA_2_L4F',\n",
       " 'RFA_2_L4G',\n",
       " 'const',\n",
       " 'DOB',\n",
       " 'INCOME',\n",
       " 'HV1',\n",
       " 'HV2',\n",
       " 'HV3',\n",
       " 'HV4',\n",
       " 'IC1',\n",
       " 'IC2',\n",
       " 'IC3',\n",
       " 'IC4',\n",
       " 'IC5',\n",
       " 'NUMPROM',\n",
       " 'CARDPROM',\n",
       " 'CARDPM12',\n",
       " 'NUMPRM12',\n",
       " 'MAXADATE',\n",
       " 'NGIFTALL',\n",
       " 'TIMELAG',\n",
       " 'AVGGIFT']"
      ]
     },
     "execution_count": 103,
     "metadata": {},
     "output_type": "execute_result"
    }
   ],
   "source": [
    "list(df.columns)"
   ]
  },
  {
   "cell_type": "code",
   "execution_count": 107,
   "id": "328e1fec",
   "metadata": {},
   "outputs": [
    {
     "data": {
      "text/plain": [
       "array([5202,    0, 2801, 2001, 6001, 2301, 2603, 2709, 5401, 5201, 3601,\n",
       "       4307, 1401, 4809, 2601, 2904, 1002, 1311, 6801, 5310, 4611,  908,\n",
       "       3001, 1411, 5210, 3703, 5801, 5001, 6201, 5701, 1805, 1801, 4403,\n",
       "       2512, 3605, 5101, 4401, 6501, 3501, 3812, 2101, 1101, 4707,  809,\n",
       "       1408, 2909, 3901, 2006, 1206, 4612, 3701, 3201, 2108, 2901, 7201,\n",
       "       2201, 3607, 2701, 2503, 1201, 5901, 2501, 1507, 2207, 6410, 1502,\n",
       "        512, 2408, 3004, 5605, 1701, 4801, 4201, 5710, 1902, 6101, 3708,\n",
       "       3101, 3006, 1003, 5601, 5301, 5312, 5812, 2401, 6401, 4001, 4901,\n",
       "       3401, 1305, 1911, 1604, 3309, 4501, 3711, 2303, 2710, 2308, 1509,\n",
       "       1912, 4903, 3102, 6310, 3105, 4709, 6107, 5208, 3312, 1510, 1001,\n",
       "       4211, 1309, 4610,  401, 2910, 4602, 4301, 1105, 4212, 2310, 3912,\n",
       "       3410, 2411, 4312, 3905,  506, 3301, 1610, 4101, 1904, 1504, 2809,\n",
       "       1503, 4406, 1108, 4601, 1601, 2506, 3005,  812, 1506, 4605, 5502,\n",
       "       5905, 4812, 2607, 1106, 2009,  101, 4909,  801, 1006, 5705, 1501,\n",
       "       4003, 2104, 3801, 1412, 1212, 2807, 3502, 4701, 2612, 5108,  704,\n",
       "       4706, 1004, 2109, 5010, 1901, 1607, 6106,  602, 5106, 3904,  901,\n",
       "       5410, 7001, 6601, 7609, 3207, 1208,  708, 2010, 1807, 4311, 1908,\n",
       "       2511, 1705, 2309, 1107, 2504, 5212, 2406, 1301, 2905, 1605, 6301,\n",
       "       3412, 4206, 1511, 3012, 2209, 4006, 4302, 5412, 2902, 5408, 1608,\n",
       "       6804, 6403,  808, 6806, 2305, 1007,  701, 4412, 3107, 2202, 5512,\n",
       "       2609, 1603, 4712, 4112, 3809, 3611,  601, 1512, 4209, 6111, 3304,\n",
       "       1910, 1909, 3903, 4009,  909, 1809, 1611,  912, 5305, 1103, 2208,\n",
       "       3411, 2410, 3011, 6505, 3807, 3504, 4603, 2907, 4710, 1505, 6701,\n",
       "       2606, 5509, 2811, 2707,  406, 1804, 2912, 7401, 3507, 2112,  612,\n",
       "       1712, 6710,  811, 5506, 1307,  201, 1906, 3108, 4802, 5501, 5803,\n",
       "       1409,  802, 3704, 2407, 5909, 1403, 6004, 1706, 1612,  711, 1402,\n",
       "        407, 3205, 2211, 5012, 2102, 1112, 4308,  312, 1710, 6005, 6707,\n",
       "       3303, 2307, 5103, 3403, 2103, 4508, 1202, 2812, 4105, 3407,  907,\n",
       "       4510, 1306, 2702, 5608, 3911, 4409, 3705, 2304, 1005, 6211, 4703,\n",
       "       7004,  707, 3712, 3608, 4609, 3803, 5510, 5805, 2402, 5609, 1606,\n",
       "       1209, 3302, 6405, 3902, 5005, 4005, 1707, 1008, 5602, 5402, 2505,\n",
       "       2604, 2608, 6208, 6103, 2911, 1702, 1703, 4702, 5704, 2205, 5404,\n",
       "       5711, 2110, 2312, 6904, 1806, 5311, 6602, 6503, 5504, 4506, 2903,\n",
       "       4007, 6712, 1109, 6009, 5712, 3509, 2302,  307, 1407, 1808, 5811,\n",
       "       4502, 2605, 6306, 2105, 2602, 1810, 5309, 3907, 5611, 6109, 1410,\n",
       "       4110, 1207, 5610, 6609,    1, 2804, 5004,  705, 2510, 2412, 3208,\n",
       "       6010, 5907, 2004, 5908, 2003, 6007, 5303, 3602, 4708, 4910, 2311,\n",
       "       1508, 4012,  109,  106, 6901, 3109, 5508, 1802, 1104,  301, 2204,\n",
       "       4511, 2806, 1203, 5007, 5804, 5807, 6206, 2306, 5204, 2203, 5708,\n",
       "       5211, 4109, 2906, 3910, 1812, 3702,  311, 1704, 5111, 3110, 5002,\n",
       "       5003, 1205, 4604, 5102, 2808, 6409, 2409, 1102, 5403, 5306, 4805,\n",
       "       2802, 5505, 6203, 2509, 5006, 3111, 5903, 3511,  609, 3811, 2803,\n",
       "        607, 4002, 4711, 1803, 2711, 4011, 1811, 1009,  505, 3209, 3709,\n",
       "       3405, 1110, 3112,  604, 3802, 2908, 3106, 5511, 5207, 1204, 4810,\n",
       "       2712, 6311, 1011, 4208, 3104, 1210, 1903, 3308,  208, 3710, 5707,\n",
       "        507, 1308,  501, 5009, 3003, 4205, 2404, 2610, 2106, 4309, 5706,\n",
       "       1404, 2107, 1211, 6708,  608, 5112, 5411, 6507, 3008, 5109, 5703,\n",
       "       4408, 2011, 1406, 4704, 3706, 4608, 6011, 1711, 6008, 5307, 2703,\n",
       "        111, 3604, 2206, 4912, 4811, 2403, 3103, 4107, 7906, 3202, 2210,\n",
       "       3306,  502, 6012,  807, 1602, 6304, 3810, 4103, 5107, 2706, 2002,\n",
       "       4404, 3007, 1905, 5406,  510, 5902, 4607, 3408, 2005, 3505, 3409,\n",
       "       3707, 1310, 2405,  509,  803, 3808, 4902, 4407, 5110, 2507, 3906,\n",
       "        411, 1907, 3612, 4010, 2611, 6305, 4509, 4304, 2708, 5802, 5105,\n",
       "       1609, 7301, 1304, 6411, 2111, 3211, 4306, 2007, 6112, 2805, 5507,\n",
       "       5810,  804, 3908, 4207, 2810, 3609, 4911, 4106, 3210, 3305, 3512,\n",
       "        904, 2012,  212, 3009, 3508, 1111, 3510, 3002,  306,  902, 6212,\n",
       "        305, 3909, 5904, 4305,  405, 1709, 4402, 6607, 1012, 4808,  310,\n",
       "       3805, 4204, 5203,  206, 5604,  703, 5709, 7008, 4908, 3404, 3311,\n",
       "       5603,  408, 3506, 5612, 4411, 6105, 3212,  710, 5607, 4606, 3610,\n",
       "       1708, 4906, 5308, 6209, 2508, 2008, 3503, 4203, 5809, 1303, 7501,\n",
       "       3406, 3010, 4310, 7101, 1405, 6309,  709, 5104,  906, 5806,  403,\n",
       "        409, 5011,  606, 4907,  905, 4804, 6511,  611, 4410, 2704, 6207,\n",
       "       4210, 5205, 5906,  404, 3206, 4004, 7601, 6905, 1302, 4505, 7302,\n",
       "       3603, 7503,  108, 5503, 7511, 8408, 4512, 2705, 5409,  511, 4904,\n",
       "       6202, 3806, 6302,  806,  209,  508, 4104, 6006, 6506,  702, 6402,\n",
       "       5912,  107, 6807, 6308, 6110, 3804,  302,  805, 5209, 4102, 7801,\n",
       "       2502, 5702, 3307, 6407, 4803, 1312,  810, 8004, 4008, 4503, 6504,\n",
       "        910, 3204, 6604, 4303, 4705, 7402,  203, 6611, 5910, 5304, 2212,\n",
       "       3402, 1010,  207, 4507,  504, 6408, 6910, 7701,  202,  503, 5606,\n",
       "       7111, 8703,  911, 5008,  706, 7002, 6205, 4202, 6307, 5407, 6909,\n",
       "       9508, 6508, 4108, 6303, 3203, 6312, 7203, 6406,  712, 5206, 4905,\n",
       "       4405, 3310, 7106, 6102, 4111, 5808, 6703, 5302,  603, 4807,  309,\n",
       "        210, 4504, 3606,  112,  610,  410, 6104, 7507, 6803, 6705, 7602,\n",
       "       6210, 7012,  605, 6704, 7104, 7006, 4806, 6810, 7108, 5405, 7403,\n",
       "       6612,  304, 6002, 5911, 6605, 6510,  205, 6902, 6608, 6808, 6903,\n",
       "       6711, 6805,  903, 6906,  402, 6811,  412,  104,  110,   10, 6108,\n",
       "       9612, 6412, 6809, 6204, 7005, 9706, 6003, 6606,  204, 8105, 8610,\n",
       "       9009, 6404, 7308,  105, 7208, 7504, 7204,    8,  102, 7309, 6603,\n",
       "        103,    6, 9704, 6502, 7102, 6812, 7003, 7603, 7304, 7405,  303,\n",
       "       6512, 6709, 9708, 7209, 7909, 6702, 7810, 6908, 9206, 6802, 7205,\n",
       "       7710, 7311,  308, 9611, 6911, 8708, 6907,  211, 9710, 7404,    5,\n",
       "       7412, 6610, 7007,   11, 6509, 8106, 9309, 9507, 7107,   12, 8403,\n",
       "       7109, 7010, 7211, 7608, 7206, 7312, 9701, 9509, 7307, 7606, 7009,\n",
       "       8112, 7202,    7, 9012, 7105, 8912,    2, 7705,    9, 9502, 6706,\n",
       "       9501, 8611, 8405, 6912, 7807, 9601, 7410, 8505, 8203, 9610, 7502,\n",
       "       7103, 8011])"
      ]
     },
     "execution_count": 107,
     "metadata": {},
     "output_type": "execute_result"
    }
   ],
   "source": [
    "df['DOB'].unique()"
   ]
  },
  {
   "cell_type": "code",
   "execution_count": 117,
   "id": "b76be290",
   "metadata": {},
   "outputs": [],
   "source": [
    "def get_age(x):\n",
    "    if len(str(x)) not in (3,4):\n",
    "        return 50\n",
    "    else:\n",
    "        if x%100 < 13: # (str(x)[-2:] < 13)\n",
    "            return 1997-int('19'+str(x)[:2])"
   ]
  },
  {
   "cell_type": "code",
   "execution_count": 118,
   "id": "ac4c8ac0",
   "metadata": {},
   "outputs": [],
   "source": [
    "df['yearsofbirth']=list(map(get_age,df['DOB']))"
   ]
  },
  {
   "cell_type": "code",
   "execution_count": 120,
   "id": "614d0524",
   "metadata": {},
   "outputs": [
    {
     "data": {
      "text/plain": [
       "61"
      ]
     },
     "execution_count": 120,
     "metadata": {},
     "output_type": "execute_result"
    }
   ],
   "source": [
    "get_age(3601)"
   ]
  },
  {
   "cell_type": "code",
   "execution_count": null,
   "id": "473debf5",
   "metadata": {},
   "outputs": [],
   "source": [
    "df['age']=li"
   ]
  }
 ],
 "metadata": {
  "kernelspec": {
   "display_name": "Python 3 (ipykernel)",
   "language": "python",
   "name": "python3"
  },
  "language_info": {
   "codemirror_mode": {
    "name": "ipython",
    "version": 3
   },
   "file_extension": ".py",
   "mimetype": "text/x-python",
   "name": "python",
   "nbconvert_exporter": "python",
   "pygments_lexer": "ipython3",
   "version": "3.9.7"
  },
  "toc": {
   "base_numbering": 1,
   "nav_menu": {},
   "number_sections": true,
   "sideBar": true,
   "skip_h1_title": false,
   "title_cell": "Table of Contents",
   "title_sidebar": "Contents",
   "toc_cell": false,
   "toc_position": {},
   "toc_section_display": true,
   "toc_window_display": false
  },
  "varInspector": {
   "cols": {
    "lenName": 16,
    "lenType": 16,
    "lenVar": 40
   },
   "kernels_config": {
    "python": {
     "delete_cmd_postfix": "",
     "delete_cmd_prefix": "del ",
     "library": "var_list.py",
     "varRefreshCmd": "print(var_dic_list())"
    },
    "r": {
     "delete_cmd_postfix": ") ",
     "delete_cmd_prefix": "rm(",
     "library": "var_list.r",
     "varRefreshCmd": "cat(var_dic_list()) "
    }
   },
   "position": {
    "height": "402.85px",
    "left": "487px",
    "right": "20px",
    "top": "89px",
    "width": "346px"
   },
   "types_to_exclude": [
    "module",
    "function",
    "builtin_function_or_method",
    "instance",
    "_Feature"
   ],
   "window_display": false
  }
 },
 "nbformat": 4,
 "nbformat_minor": 5
}
