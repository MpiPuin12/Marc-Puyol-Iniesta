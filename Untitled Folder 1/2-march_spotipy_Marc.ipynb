{
 "cells": [
  {
   "cell_type": "markdown",
   "id": "a1bc171c",
   "metadata": {},
   "source": [
    "# Set up and test connection to spotify via spotipy "
   ]
  },
  {
   "cell_type": "code",
   "execution_count": 1,
   "id": "e0673cd8",
   "metadata": {},
   "outputs": [],
   "source": [
    "import spotipy # install if needed\n",
    "from spotipy.oauth2 import SpotifyClientCredentials"
   ]
  },
  {
   "cell_type": "code",
   "execution_count": 2,
   "id": "17a22ec2",
   "metadata": {},
   "outputs": [],
   "source": [
    "import getpass"
   ]
  },
  {
   "cell_type": "code",
   "execution_count": 3,
   "id": "e28d2f7f",
   "metadata": {},
   "outputs": [
    {
     "name": "stdout",
     "output_type": "stream",
     "text": [
      "client_id?········\n",
      "client_secret?········\n"
     ]
    }
   ],
   "source": [
    "client_id=str(getpass.getpass('client_id?'))\n",
    "client_secret=str(getpass.getpass('client_secret?'))"
   ]
  },
  {
   "cell_type": "code",
   "execution_count": 4,
   "id": "b98db23c",
   "metadata": {},
   "outputs": [],
   "source": [
    "sp = spotipy.Spotify(auth_manager=SpotifyClientCredentials(client_id=client_id, client_secret=client_secret))"
   ]
  },
  {
   "cell_type": "markdown",
   "id": "2d750fff",
   "metadata": {},
   "source": [
    "# sp search on one artist and explore the results "
   ]
  },
  {
   "cell_type": "markdown",
   "id": "b25fd6a8",
   "metadata": {},
   "source": [
    "# playlist "
   ]
  },
  {
   "cell_type": "code",
   "execution_count": 5,
   "id": "24ef45a8",
   "metadata": {},
   "outputs": [],
   "source": [
    "# limited playlist - 10 songs \n",
    "# bigger playlist - more than 100 songs "
   ]
  },
  {
   "cell_type": "markdown",
   "id": "00d82191",
   "metadata": {},
   "source": [
    "https://open.spotify.com/playlist/12in060ErlfyPEfpGTJdaw?si=585aa31e42444849\n",
    "    useful info : 12in060ErlfyPEfpGTJdaw\n",
    "                    playlist owner - sianedav"
   ]
  },
  {
   "cell_type": "code",
   "execution_count": 6,
   "id": "0562db99",
   "metadata": {},
   "outputs": [],
   "source": [
    "# user_playlist_tracks"
   ]
  },
  {
   "cell_type": "code",
   "execution_count": 8,
   "id": "c6b5325c",
   "metadata": {},
   "outputs": [],
   "source": [
    "playlist=sp.user_playlist_tracks(\"Marc Puyol Iniesta\",\"0y0QntvocWdHZD7WY1R5iO\")"
   ]
  },
  {
   "cell_type": "code",
   "execution_count": 9,
   "id": "08f46b84",
   "metadata": {},
   "outputs": [
    {
     "data": {
      "text/plain": [
       "1839"
      ]
     },
     "execution_count": 9,
     "metadata": {},
     "output_type": "execute_result"
    }
   ],
   "source": [
    "playlist['total']"
   ]
  },
  {
   "cell_type": "code",
   "execution_count": 10,
   "id": "6c86cb27",
   "metadata": {},
   "outputs": [
    {
     "data": {
      "text/plain": [
       "dict_keys(['href', 'items', 'limit', 'next', 'offset', 'previous', 'total'])"
      ]
     },
     "execution_count": 10,
     "metadata": {},
     "output_type": "execute_result"
    }
   ],
   "source": [
    "playlist.keys()"
   ]
  },
  {
   "cell_type": "code",
   "execution_count": 11,
   "id": "7e05a86a",
   "metadata": {},
   "outputs": [],
   "source": [
    "playlist_big=sp.user_playlist_tracks(\"Marc Puyol Iniesta\",\"0y0QntvocWdHZD7WY1R5iO\")\n",
    "#https://open.spotify.com/playlist/2LOxEzC4KmoWJ9NhW0kz5M?si=395b91a6f3684593"
   ]
  },
  {
   "cell_type": "code",
   "execution_count": 12,
   "id": "3926f1fa",
   "metadata": {},
   "outputs": [
    {
     "data": {
      "text/plain": [
       "dict_keys(['href', 'items', 'limit', 'next', 'offset', 'previous', 'total'])"
      ]
     },
     "execution_count": 12,
     "metadata": {},
     "output_type": "execute_result"
    }
   ],
   "source": [
    "playlist_big.keys()"
   ]
  },
  {
   "cell_type": "code",
   "execution_count": 13,
   "id": "5ecd9f62",
   "metadata": {},
   "outputs": [
    {
     "data": {
      "text/plain": [
       "1839"
      ]
     },
     "execution_count": 13,
     "metadata": {},
     "output_type": "execute_result"
    }
   ],
   "source": [
    "playlist_big['total']"
   ]
  },
  {
   "cell_type": "code",
   "execution_count": 14,
   "id": "856f4ab9",
   "metadata": {},
   "outputs": [
    {
     "data": {
      "text/plain": [
       "100"
      ]
     },
     "execution_count": 14,
     "metadata": {},
     "output_type": "execute_result"
    }
   ],
   "source": [
    "len(playlist_big['items'])"
   ]
  },
  {
   "cell_type": "code",
   "execution_count": 15,
   "id": "dca2f3e8",
   "metadata": {},
   "outputs": [
    {
     "data": {
      "text/plain": [
       "'https://api.spotify.com/v1/playlists/0y0QntvocWdHZD7WY1R5iO/tracks?offset=100&limit=100&additional_types=track'"
      ]
     },
     "execution_count": 15,
     "metadata": {},
     "output_type": "execute_result"
    }
   ],
   "source": [
    "playlist_big['next']"
   ]
  },
  {
   "cell_type": "code",
   "execution_count": 16,
   "id": "32119590",
   "metadata": {},
   "outputs": [],
   "source": [
    "playlist_big['previous']"
   ]
  },
  {
   "cell_type": "code",
   "execution_count": 17,
   "id": "63177af6",
   "metadata": {},
   "outputs": [
    {
     "data": {
      "text/plain": [
       "0"
      ]
     },
     "execution_count": 17,
     "metadata": {},
     "output_type": "execute_result"
    }
   ],
   "source": [
    "playlist_big['offset']"
   ]
  },
  {
   "cell_type": "code",
   "execution_count": 18,
   "id": "b2709258",
   "metadata": {},
   "outputs": [
    {
     "data": {
      "text/plain": [
       "dict_keys(['added_at', 'added_by', 'is_local', 'primary_color', 'track', 'video_thumbnail'])"
      ]
     },
     "execution_count": 18,
     "metadata": {},
     "output_type": "execute_result"
    }
   ],
   "source": [
    "playlist['items'][4].keys()"
   ]
  },
  {
   "cell_type": "code",
   "execution_count": 19,
   "id": "4cdfe174",
   "metadata": {},
   "outputs": [
    {
     "data": {
      "text/plain": [
       "dict_keys(['album', 'artists', 'available_markets', 'disc_number', 'duration_ms', 'episode', 'explicit', 'external_ids', 'external_urls', 'href', 'id', 'is_local', 'name', 'popularity', 'preview_url', 'track', 'track_number', 'type', 'uri'])"
      ]
     },
     "execution_count": 19,
     "metadata": {},
     "output_type": "execute_result"
    }
   ],
   "source": [
    "playlist['items'][4]['track'].keys()"
   ]
  },
  {
   "cell_type": "code",
   "execution_count": 20,
   "id": "e7b8d661",
   "metadata": {},
   "outputs": [
    {
     "data": {
      "text/plain": [
       "'Dreams - 2004 Remaster'"
      ]
     },
     "execution_count": 20,
     "metadata": {},
     "output_type": "execute_result"
    }
   ],
   "source": [
    "# 5th track in your playlist - name \n",
    "playlist['items'][4]['track']['name']"
   ]
  },
  {
   "cell_type": "code",
   "execution_count": 21,
   "id": "c425242e",
   "metadata": {},
   "outputs": [
    {
     "data": {
      "text/plain": [
       "'0ofHAoxe9vBkTCp2UQIavz'"
      ]
     },
     "execution_count": 21,
     "metadata": {},
     "output_type": "execute_result"
    }
   ],
   "source": [
    "playlist['items'][4]['track']['id']"
   ]
  },
  {
   "cell_type": "code",
   "execution_count": 22,
   "id": "fdc69193",
   "metadata": {},
   "outputs": [
    {
     "data": {
      "text/plain": [
       "'Fleetwood Mac'"
      ]
     },
     "execution_count": 22,
     "metadata": {},
     "output_type": "execute_result"
    }
   ],
   "source": [
    "playlist['items'][4]['track']['artists'][0]['name'] # first artist only "
   ]
  },
  {
   "cell_type": "markdown",
   "id": "a748c06c",
   "metadata": {},
   "source": [
    "# Activity 3 - dictionary with song id: name, artists from a playlist "
   ]
  },
  {
   "cell_type": "code",
   "execution_count": 23,
   "id": "28c28354",
   "metadata": {},
   "outputs": [],
   "source": [
    "#with a function, collect the information first in separate lists \n",
    "#and create a dictionary from them \n",
    "def get_info_from_playlist(user,playlist):\n",
    "    tracks_ids=[]\n",
    "    tracks_names=[]\n",
    "    tracks_artist_1st=[]\n",
    "    results=sp.user_playlist_tracks(user,playlist)\n",
    "    for item in results['items']:\n",
    "        tracks_ids.append(item['track']['id'])\n",
    "        tracks_names.append(item['track']['name'])\n",
    "        tracks_artist_1st.append(item['track']['artists'][0]['name'])\n",
    "    olddict=dict(zip(tracks_ids, tracks_names)) #one set of values in one step\n",
    "    newdict=dict(zip(tracks_ids, tracks_artist_1st))\n",
    "    ks = [k for k in olddict.keys()]\n",
    "    dict_merged = {k: [olddict[k], newdict[k]] for k in ks}\n",
    "    return dict_merged"
   ]
  },
  {
   "cell_type": "code",
   "execution_count": 24,
   "id": "0d7bcc82",
   "metadata": {},
   "outputs": [
    {
     "data": {
      "text/plain": [
       "{'5dxWU9epbOtZ0XHv60tydp': ['Doctor Who (Original Theme) [From \"Doctor Who\"]',\n",
       "  'Ron Grainer'],\n",
       " '3LpheVDaZXkUePlKbZi9Md': ['Star Wars Main Title and the Arrival at Naboo',\n",
       "  'John Williams'],\n",
       " '62uLNJgVZaFiEiKV4LpoYJ': ['Walking On The Moon', 'The Police'],\n",
       " '6K53GM9W6Vle5KBwGFVnZM': ['Space Cowboy', 'Jamiroquai'],\n",
       " '0uQcP7QVoLvaFsORsdrgNh': ['Spaceman', 'Babylon Zoo'],\n",
       " '25tZHMv3ctlzqDaHAeuU9c': ['The Great Gig In The Sky - 2011 Remastered Version',\n",
       "  'Pink Floyd'],\n",
       " '72Z17vmmeQKAg8bptWvpVG': ['Space Oddity - 2015 Remaster', 'David Bowie'],\n",
       " '7MpQOaVorMfoNHOJ80YxhY': ['Life on Mars? - 1999 Remaster', 'David Bowie'],\n",
       " '1wDmamUPxe1S2BTy5VeRze': ['E.T.: Flying Theme', 'John Williams'],\n",
       " '3gdewACMIVMEWVbyb8O9sY': [\"Rocket Man (I Think It's Going To Be A Long, Long Time)\",\n",
       "  'Elton John']}"
      ]
     },
     "execution_count": 24,
     "metadata": {},
     "output_type": "execute_result"
    }
   ],
   "source": [
    "get_info_from_playlist(\"sianedav\",\"12in060ErlfyPEfpGTJdaw\")"
   ]
  },
  {
   "cell_type": "markdown",
   "id": "74249951",
   "metadata": {},
   "source": [
    "OR "
   ]
  },
  {
   "cell_type": "code",
   "execution_count": 25,
   "id": "a644f7fc",
   "metadata": {},
   "outputs": [],
   "source": [
    "#dictionary comprehension \n",
    "songs = {\n",
    "  track[\"track\"][\"id\"]: [track[\"track\"][\"name\"], \n",
    "  track[\"track\"][\"artists\"][0][\"name\"]] \n",
    "  for track in playlist[\"items\"]\n",
    "}"
   ]
  },
  {
   "cell_type": "code",
   "execution_count": 26,
   "id": "ea4f91e3",
   "metadata": {},
   "outputs": [
    {
     "data": {
      "text/plain": [
       "{'7woZGXjtaYwuvSoU1zToB3': [\"Free Fallin'\", 'Tom Petty'],\n",
       " '561F1zqRwGPCTMRsLsXVtL': ['Time in a Bottle', 'Jim Croce'],\n",
       " '0U6Ga0VWSGq6iEE1AKkgO1': ['Everywhere - Remastered', 'Fleetwood Mac'],\n",
       " '7Dm3dV3WPNdTgxoNY7YFnc': ['The Chain - 2004 Remaster', 'Fleetwood Mac'],\n",
       " '0ofHAoxe9vBkTCp2UQIavz': ['Dreams - 2004 Remaster', 'Fleetwood Mac'],\n",
       " '07GvNcU1WdyZJq3XxP0kZa': ['Go Your Own Way - 2004 Remaster',\n",
       "  'Fleetwood Mac'],\n",
       " '3twj6MfdyZ7Ii8oNAH1g3z': ['Ballad of the Dying Man', 'Father John Misty'],\n",
       " '5xS9hkTGfxqXyxX6wWWTt4': [\"Mary Jane's Last Dance\",\n",
       "  'Tom Petty and the Heartbreakers'],\n",
       " '7MRyJPksH3G2cXHN8UKYzP': ['American Girl',\n",
       "  'Tom Petty and the Heartbreakers'],\n",
       " '3BUQFs6aFWh7EFNmI8bfL7': ['Johnny B. Goode', 'Chuck Berry'],\n",
       " '4CKviU05bRYvMiRRpl4GbQ': ['Another Day - Remastered 2012', 'Paul McCartney'],\n",
       " '1YQWosTIljIvxAgHWTp7KP': ['Take Five', 'The Dave Brubeck Quartet'],\n",
       " '0aWMVrwxPNYkKmFthzmpRi': ['Blue in Green (feat. John Coltrane & Bill Evans)',\n",
       "  'Miles Davis'],\n",
       " '7DUGRxCf9NFJffb5Eei8Ar': ['God Bless the Child', 'Sonny Rollins'],\n",
       " '1qCQTy0fTXerET4x8VHyr9': ['What A Wonderful World', 'Louis Armstrong'],\n",
       " '3Bbbz0IGORWZSLf9UqsAL4': ['Dream A Little Dream Of Me', 'Ella Fitzgerald'],\n",
       " '0AX6pLXtyR2vPLv2KYErAg': ['La vie en rose - Single Version',\n",
       "  'Louis Armstrong'],\n",
       " '5UbLKRX1qVROlwDFOooEvG': ['Take Five', 'Dave Brubeck'],\n",
       " '1J8ajOAp9l5Sz6RhCgubDQ': ['Sympathique', 'Pink Martini'],\n",
       " '3Pnhzf3Knhdsavx0VM2ZmG': ['Island In The Sun', 'Weezer'],\n",
       " '0QJj3NyRskXDlyVnhe9O5U': ['She Came In Through The Bathroom Window - Remastered',\n",
       "  'The Beatles'],\n",
       " '3jPXnX4SskFgAcC4YBKOwN': ['Sun King - Remastered', 'The Beatles'],\n",
       " '4cLoL5KPfE1hAwfsO84FX7': ['Because - Remastered', 'The Beatles'],\n",
       " '0MKqeOVdZcUFGJvWpGCKbG': ['Come Together - Remastered', 'The Beatles'],\n",
       " '45yEy5WJywhJ3sDI28ajTm': ['Here Comes The Sun - Remastered', 'The Beatles'],\n",
       " '4Z92RMiyJpUrApZi3LtpJ6': ['Blackbird - Remastered', 'The Beatles'],\n",
       " '5V1AHQugSTASVez5ffJtFo': ['Let It Be - Remastered', 'The Beatles'],\n",
       " '0eY0YgyLAZ4gtM57wwYN7H': ['Hey Jude - Remastered', 'The Beatles'],\n",
       " '7z5NVCKp62kmRBwuI7pF2S': ['Drive', 'Oh Wonder'],\n",
       " '4xCDna3QZvvCI3W9GbwMZ0': ['Livewire', 'Oh Wonder'],\n",
       " '6yStkN9QDIkYZsoLGMRFI2': ['Body Gold', 'Oh Wonder'],\n",
       " '1p0ziArbexSnA0FK2bhEsu': ['Technicolour Beat', 'Oh Wonder'],\n",
       " '5vHbZCwezZGiotLTwJCjON': ['White Blood', 'Oh Wonder'],\n",
       " '6Nl5jjykRxa7salssZ0aER': ['Without You', 'Oh Wonder'],\n",
       " '0BlobfOvimTlY5wtRgbm06': ['Funtimes In Babylon', 'Father John Misty'],\n",
       " '5FdCinAy3O1jbqC3aMIxA0': ['Nancy From Now On', 'Father John Misty'],\n",
       " '0spHJLl5Iyo4AgD68ytS8i': [\"Now I'm Learning To Love The War\",\n",
       "  'Father John Misty'],\n",
       " '7nguw3JCObYNBh72bpWSCj': ['Everyman Needs A Companion', 'Father John Misty'],\n",
       " '7wCvdtHmURfT3pE65iXuXl': [\"When You're Smiling and Astride Me\",\n",
       "  'Father John Misty'],\n",
       " '5eY44OoKgZTotXKfypXvXX': ['Chinatown', 'Liam Gallagher'],\n",
       " '7mar4DMFlVi5DwbarqP38M': ['Paper Crown', 'Liam Gallagher'],\n",
       " '1chu8wc9zbNqTQ2ahROys1': ['My Sweet Lord', 'George Harrison'],\n",
       " '27B6wnfrawbSeY2jL4T4Ew': [\"Isn't It A Pity\", 'George Harrison'],\n",
       " '5phKqpI3sIyHPo53q2Rabh': ['If Not For You', 'George Harrison'],\n",
       " '0ULVJoFshWF45PcBeF5Gtu': ['Behind That Locked Door', 'George Harrison'],\n",
       " '7nDgbybi1lz1qScJTDRSeR': ['Run Of The Mill', 'George Harrison'],\n",
       " '7L1aFx1TYl1TeH6UGsSske': ['I Live For You', 'George Harrison'],\n",
       " '5qlo3OZV4IEtkwNzs1EM9U': ['All Things Must Pass', 'George Harrison'],\n",
       " '78WVLOP9pN0G3gRLFy1rAa': ['Piano Man', 'Billy Joel'],\n",
       " '5RgFlk1fcClZd0Y4SGYhqH': [\"She's Always a Woman\", 'Billy Joel'],\n",
       " '5zA8vzDGqPl2AzZkEYQGKh': ['Uptown Girl', 'Billy Joel'],\n",
       " '3zByVQLvdXUaDTubfWkpCk': ['Sweet Caroline', 'Neil Diamond'],\n",
       " '2LawezPeJhN4AWuSB0GtAU': ['Have You Ever Seen The Rain',\n",
       "  'Creedence Clearwater Revival'],\n",
       " '3zBhihYUHBmGd2bcQIobrF': [\"(Sittin' On) the Dock of the Bay\",\n",
       "  'Otis Redding'],\n",
       " '27K3ZDS5B4fwjhwyihrdzC': ['(What A) Wonderful World - Remastered',\n",
       "  'Sam Cooke'],\n",
       " '14ldz51B9dRHcRKT5vZU62': ['Stay - Live', 'Jackson Browne'],\n",
       " '4LOgi2TAAoKU9ImfzRrCPO': ['Heaven', 'Bryan Adams'],\n",
       " '3bYCGWnZdLQjndiKogqA3G': [\"Summer Of '69\", 'Bryan Adams'],\n",
       " '76qB2ZEZlEJAMqMqUjKusp': ['(Everything I Do) I Do It For You',\n",
       "  'Bryan Adams'],\n",
       " '6pPr1KLZit9FgFNhp7xE5m': ['Cheek To Cheek', 'Ella Fitzgerald'],\n",
       " '7Ar4G7Ci11gpt6sfH9Cgz5': ['Listen to the Music', 'The Doobie Brothers'],\n",
       " '726Bm6HoMMOwrJlxqbfO45': ['Live Forever - Remastered', 'Oasis'],\n",
       " '0qQlwUeBscYm3b2sqL1IRc': ['Live Forever - Live Paris Instore', 'Oasis'],\n",
       " '3ixTiPABjqkBKPocxq6oIe': [\"Don't Look Back In Anger\", 'Oasis'],\n",
       " '2UjLzxf4oYjHOVOBoVojlL': ['Champagne Supernova', 'Oasis'],\n",
       " '79RUMZfMNMpqZnswovvTqv': ['Wonderwall', 'Oasis'],\n",
       " '1kBzKgtm127gi8eSBpZEp1': ['Stand By Me', 'Oasis'],\n",
       " '1ZAWaJppxtA3zPh1R2W2wS': ['Supersonic - Remastered', 'Oasis'],\n",
       " '395QkUxlE6IAmmbLtmeyci': ['Whatever', 'Oasis'],\n",
       " '61ccRl3FBtLs3U5HuBtP6e': ['El Hombre del Piano', 'Ana Belén'],\n",
       " '2l8oKGZkOUorqfqPUkssXM': ['Into Each Life Some Rain Must Fall',\n",
       "  'Ella Fitzgerald'],\n",
       " '09ZGF6mwJVzw5jxqbtT53E': [\"Hope There's Someone\", 'Antony and the Johnsons'],\n",
       " '4gdhsYfXJoVQsWpbmh32Da': ['Here Comes The Sun - Live In Japan, 1991 / 2004 Mix',\n",
       "  'George Harrison'],\n",
       " '69lcCv2n5GyZyAtzbLuG2N': ['My Sweet Lord - Live In Japan, 1991 / 2004 Mix',\n",
       "  'George Harrison'],\n",
       " '2cFXybEXggFTpPeIzWWHpk': ['Slide Away - Remastered', 'Oasis'],\n",
       " '2j4l3NjUbc7Rn5QyiOPHEf': ['Some Might Say', 'Oasis'],\n",
       " '57BqleNmNYkr8BFAdy7tf2': [\"Rock 'n' Roll Star\", 'Oasis'],\n",
       " '5QqdvVeYLL1xvZ1ndUjxnO': ['In My Life - Remastered', 'The Beatles'],\n",
       " '3ZFBeIyP41HhnALjxWy1pR': ['A Day In The Life - Remastered', 'The Beatles'],\n",
       " '5EuraV2jbqB15ihd3d2Hex': ['Strawberry Fields Forever - Remastered',\n",
       "  'The Beatles'],\n",
       " '19XoBwnNvsYYsBURuIGKXt': ['Edge of Desire', 'John Mayer'],\n",
       " '1LM6t24SjQr2bJHqeGIR4U': ['Still Feel Like Your Man', 'John Mayer'],\n",
       " '3UjSOJ00E1eLMcayBm827Q': ['Amar Pelos Dois', 'Salvador Sobral'],\n",
       " '5Ih40KFkj3cSzxgisQxBvX': [\"For What It's Worth\", 'Liam Gallagher'],\n",
       " '7wkxFbDWWPURT1aaf5yfep': ['Talk Tonight - Remastered', 'Oasis'],\n",
       " '5KsZGdaJugVnu1Faccq22D': ['Parecemos tontos', 'Bunbury'],\n",
       " '5ZCamgcqvkckdf2FdfYuth': ['La Llamada', 'Leiva'],\n",
       " '1gbWRuq2ElvOua7AahUTGp': ['Una décima de segundo', 'Nacha Pop'],\n",
       " '6mR0ZA4DxvAHBihaXgI3oD': ['Tierra', 'Xoel López'],\n",
       " '0LxCY6cjKgjutOZaqyjrVQ': ['Hombre de ninguna parte', 'Xoel López'],\n",
       " '5ZgEhDf0iG61Eo5r7jPqEA': ['Por el viejo barrio', 'Xoel López'],\n",
       " '3phgWn3MeNe8Pwgac5Jbxk': ['Buenos Aires', 'Xoel López'],\n",
       " '0niPppKzE8lDkX64YykAfQ': ['De piedras y arena mojada', 'Xoel López'],\n",
       " '5b27Fw34PsittapccHolmq': ['María la portuguesa',\n",
       "  'Enrique Urquijo y Los problemas'],\n",
       " '5HmYuJIqLEXOa9i4YQJWoQ': ['Cantares - En Directo', 'Joan Manuel Serrat'],\n",
       " '7Bewui7KtaMzROeteRitRz': ['Mediterraneo', 'Joan Manuel Serrat'],\n",
       " '1pYBy2iHTrv3ocdhspVdj0': ['Ojalá que te vaya bonito',\n",
       "  'Enrique Urquijo y Los problemas'],\n",
       " '4Y7nAGTGPq8jikscC0jIHy': ['Te quiero igual', 'Andrés Calamaro'],\n",
       " '1p7m9H4H8s0Y7SgRm7j3ED': ['Flaca', 'Andrés Calamaro'],\n",
       " '506UYfuaVnAQLQcuujolJM': ['Volver', 'Andrés Calamaro']}"
      ]
     },
     "execution_count": 26,
     "metadata": {},
     "output_type": "execute_result"
    }
   ],
   "source": [
    "songs"
   ]
  },
  {
   "cell_type": "code",
   "execution_count": 27,
   "id": "329fefd0",
   "metadata": {},
   "outputs": [],
   "source": [
    "# josep's solution \n",
    "mydict={}\n",
    "for i in range(len(playlist['items'])):\n",
    "    mydict[str(playlist['items'][i]['track']['id'])]=(str(playlist['items'][i]['track']['name'])), (str(playlist['items'][i]['track']['artists'][0]['name'])) "
   ]
  },
  {
   "cell_type": "code",
   "execution_count": 28,
   "id": "5814c13c",
   "metadata": {},
   "outputs": [
    {
     "data": {
      "text/plain": [
       "{'7woZGXjtaYwuvSoU1zToB3': (\"Free Fallin'\", 'Tom Petty'),\n",
       " '561F1zqRwGPCTMRsLsXVtL': ('Time in a Bottle', 'Jim Croce'),\n",
       " '0U6Ga0VWSGq6iEE1AKkgO1': ('Everywhere - Remastered', 'Fleetwood Mac'),\n",
       " '7Dm3dV3WPNdTgxoNY7YFnc': ('The Chain - 2004 Remaster', 'Fleetwood Mac'),\n",
       " '0ofHAoxe9vBkTCp2UQIavz': ('Dreams - 2004 Remaster', 'Fleetwood Mac'),\n",
       " '07GvNcU1WdyZJq3XxP0kZa': ('Go Your Own Way - 2004 Remaster',\n",
       "  'Fleetwood Mac'),\n",
       " '3twj6MfdyZ7Ii8oNAH1g3z': ('Ballad of the Dying Man', 'Father John Misty'),\n",
       " '5xS9hkTGfxqXyxX6wWWTt4': (\"Mary Jane's Last Dance\",\n",
       "  'Tom Petty and the Heartbreakers'),\n",
       " '7MRyJPksH3G2cXHN8UKYzP': ('American Girl',\n",
       "  'Tom Petty and the Heartbreakers'),\n",
       " '3BUQFs6aFWh7EFNmI8bfL7': ('Johnny B. Goode', 'Chuck Berry'),\n",
       " '4CKviU05bRYvMiRRpl4GbQ': ('Another Day - Remastered 2012', 'Paul McCartney'),\n",
       " '1YQWosTIljIvxAgHWTp7KP': ('Take Five', 'The Dave Brubeck Quartet'),\n",
       " '0aWMVrwxPNYkKmFthzmpRi': ('Blue in Green (feat. John Coltrane & Bill Evans)',\n",
       "  'Miles Davis'),\n",
       " '7DUGRxCf9NFJffb5Eei8Ar': ('God Bless the Child', 'Sonny Rollins'),\n",
       " '1qCQTy0fTXerET4x8VHyr9': ('What A Wonderful World', 'Louis Armstrong'),\n",
       " '3Bbbz0IGORWZSLf9UqsAL4': ('Dream A Little Dream Of Me', 'Ella Fitzgerald'),\n",
       " '0AX6pLXtyR2vPLv2KYErAg': ('La vie en rose - Single Version',\n",
       "  'Louis Armstrong'),\n",
       " '5UbLKRX1qVROlwDFOooEvG': ('Take Five', 'Dave Brubeck'),\n",
       " '1J8ajOAp9l5Sz6RhCgubDQ': ('Sympathique', 'Pink Martini'),\n",
       " '3Pnhzf3Knhdsavx0VM2ZmG': ('Island In The Sun', 'Weezer'),\n",
       " '0QJj3NyRskXDlyVnhe9O5U': ('She Came In Through The Bathroom Window - Remastered',\n",
       "  'The Beatles'),\n",
       " '3jPXnX4SskFgAcC4YBKOwN': ('Sun King - Remastered', 'The Beatles'),\n",
       " '4cLoL5KPfE1hAwfsO84FX7': ('Because - Remastered', 'The Beatles'),\n",
       " '0MKqeOVdZcUFGJvWpGCKbG': ('Come Together - Remastered', 'The Beatles'),\n",
       " '45yEy5WJywhJ3sDI28ajTm': ('Here Comes The Sun - Remastered', 'The Beatles'),\n",
       " '4Z92RMiyJpUrApZi3LtpJ6': ('Blackbird - Remastered', 'The Beatles'),\n",
       " '5V1AHQugSTASVez5ffJtFo': ('Let It Be - Remastered', 'The Beatles'),\n",
       " '0eY0YgyLAZ4gtM57wwYN7H': ('Hey Jude - Remastered', 'The Beatles'),\n",
       " '7z5NVCKp62kmRBwuI7pF2S': ('Drive', 'Oh Wonder'),\n",
       " '4xCDna3QZvvCI3W9GbwMZ0': ('Livewire', 'Oh Wonder'),\n",
       " '6yStkN9QDIkYZsoLGMRFI2': ('Body Gold', 'Oh Wonder'),\n",
       " '1p0ziArbexSnA0FK2bhEsu': ('Technicolour Beat', 'Oh Wonder'),\n",
       " '5vHbZCwezZGiotLTwJCjON': ('White Blood', 'Oh Wonder'),\n",
       " '6Nl5jjykRxa7salssZ0aER': ('Without You', 'Oh Wonder'),\n",
       " '0BlobfOvimTlY5wtRgbm06': ('Funtimes In Babylon', 'Father John Misty'),\n",
       " '5FdCinAy3O1jbqC3aMIxA0': ('Nancy From Now On', 'Father John Misty'),\n",
       " '0spHJLl5Iyo4AgD68ytS8i': (\"Now I'm Learning To Love The War\",\n",
       "  'Father John Misty'),\n",
       " '7nguw3JCObYNBh72bpWSCj': ('Everyman Needs A Companion', 'Father John Misty'),\n",
       " '7wCvdtHmURfT3pE65iXuXl': (\"When You're Smiling and Astride Me\",\n",
       "  'Father John Misty'),\n",
       " '5eY44OoKgZTotXKfypXvXX': ('Chinatown', 'Liam Gallagher'),\n",
       " '7mar4DMFlVi5DwbarqP38M': ('Paper Crown', 'Liam Gallagher'),\n",
       " '1chu8wc9zbNqTQ2ahROys1': ('My Sweet Lord', 'George Harrison'),\n",
       " '27B6wnfrawbSeY2jL4T4Ew': (\"Isn't It A Pity\", 'George Harrison'),\n",
       " '5phKqpI3sIyHPo53q2Rabh': ('If Not For You', 'George Harrison'),\n",
       " '0ULVJoFshWF45PcBeF5Gtu': ('Behind That Locked Door', 'George Harrison'),\n",
       " '7nDgbybi1lz1qScJTDRSeR': ('Run Of The Mill', 'George Harrison'),\n",
       " '7L1aFx1TYl1TeH6UGsSske': ('I Live For You', 'George Harrison'),\n",
       " '5qlo3OZV4IEtkwNzs1EM9U': ('All Things Must Pass', 'George Harrison'),\n",
       " '78WVLOP9pN0G3gRLFy1rAa': ('Piano Man', 'Billy Joel'),\n",
       " '5RgFlk1fcClZd0Y4SGYhqH': (\"She's Always a Woman\", 'Billy Joel'),\n",
       " '5zA8vzDGqPl2AzZkEYQGKh': ('Uptown Girl', 'Billy Joel'),\n",
       " '3zByVQLvdXUaDTubfWkpCk': ('Sweet Caroline', 'Neil Diamond'),\n",
       " '2LawezPeJhN4AWuSB0GtAU': ('Have You Ever Seen The Rain',\n",
       "  'Creedence Clearwater Revival'),\n",
       " '3zBhihYUHBmGd2bcQIobrF': (\"(Sittin' On) the Dock of the Bay\",\n",
       "  'Otis Redding'),\n",
       " '27K3ZDS5B4fwjhwyihrdzC': ('(What A) Wonderful World - Remastered',\n",
       "  'Sam Cooke'),\n",
       " '14ldz51B9dRHcRKT5vZU62': ('Stay - Live', 'Jackson Browne'),\n",
       " '4LOgi2TAAoKU9ImfzRrCPO': ('Heaven', 'Bryan Adams'),\n",
       " '3bYCGWnZdLQjndiKogqA3G': (\"Summer Of '69\", 'Bryan Adams'),\n",
       " '76qB2ZEZlEJAMqMqUjKusp': ('(Everything I Do) I Do It For You',\n",
       "  'Bryan Adams'),\n",
       " '6pPr1KLZit9FgFNhp7xE5m': ('Cheek To Cheek', 'Ella Fitzgerald'),\n",
       " '7Ar4G7Ci11gpt6sfH9Cgz5': ('Listen to the Music', 'The Doobie Brothers'),\n",
       " '726Bm6HoMMOwrJlxqbfO45': ('Live Forever - Remastered', 'Oasis'),\n",
       " '0qQlwUeBscYm3b2sqL1IRc': ('Live Forever - Live Paris Instore', 'Oasis'),\n",
       " '3ixTiPABjqkBKPocxq6oIe': (\"Don't Look Back In Anger\", 'Oasis'),\n",
       " '2UjLzxf4oYjHOVOBoVojlL': ('Champagne Supernova', 'Oasis'),\n",
       " '79RUMZfMNMpqZnswovvTqv': ('Wonderwall', 'Oasis'),\n",
       " '1kBzKgtm127gi8eSBpZEp1': ('Stand By Me', 'Oasis'),\n",
       " '1ZAWaJppxtA3zPh1R2W2wS': ('Supersonic - Remastered', 'Oasis'),\n",
       " '395QkUxlE6IAmmbLtmeyci': ('Whatever', 'Oasis'),\n",
       " '61ccRl3FBtLs3U5HuBtP6e': ('El Hombre del Piano', 'Ana Belén'),\n",
       " '2l8oKGZkOUorqfqPUkssXM': ('Into Each Life Some Rain Must Fall',\n",
       "  'Ella Fitzgerald'),\n",
       " '09ZGF6mwJVzw5jxqbtT53E': (\"Hope There's Someone\", 'Antony and the Johnsons'),\n",
       " '4gdhsYfXJoVQsWpbmh32Da': ('Here Comes The Sun - Live In Japan, 1991 / 2004 Mix',\n",
       "  'George Harrison'),\n",
       " '69lcCv2n5GyZyAtzbLuG2N': ('My Sweet Lord - Live In Japan, 1991 / 2004 Mix',\n",
       "  'George Harrison'),\n",
       " '2cFXybEXggFTpPeIzWWHpk': ('Slide Away - Remastered', 'Oasis'),\n",
       " '2j4l3NjUbc7Rn5QyiOPHEf': ('Some Might Say', 'Oasis'),\n",
       " '57BqleNmNYkr8BFAdy7tf2': (\"Rock 'n' Roll Star\", 'Oasis'),\n",
       " '5QqdvVeYLL1xvZ1ndUjxnO': ('In My Life - Remastered', 'The Beatles'),\n",
       " '3ZFBeIyP41HhnALjxWy1pR': ('A Day In The Life - Remastered', 'The Beatles'),\n",
       " '5EuraV2jbqB15ihd3d2Hex': ('Strawberry Fields Forever - Remastered',\n",
       "  'The Beatles'),\n",
       " '19XoBwnNvsYYsBURuIGKXt': ('Edge of Desire', 'John Mayer'),\n",
       " '1LM6t24SjQr2bJHqeGIR4U': ('Still Feel Like Your Man', 'John Mayer'),\n",
       " '3UjSOJ00E1eLMcayBm827Q': ('Amar Pelos Dois', 'Salvador Sobral'),\n",
       " '5Ih40KFkj3cSzxgisQxBvX': (\"For What It's Worth\", 'Liam Gallagher'),\n",
       " '7wkxFbDWWPURT1aaf5yfep': ('Talk Tonight - Remastered', 'Oasis'),\n",
       " '5KsZGdaJugVnu1Faccq22D': ('Parecemos tontos', 'Bunbury'),\n",
       " '5ZCamgcqvkckdf2FdfYuth': ('La Llamada', 'Leiva'),\n",
       " '1gbWRuq2ElvOua7AahUTGp': ('Una décima de segundo', 'Nacha Pop'),\n",
       " '6mR0ZA4DxvAHBihaXgI3oD': ('Tierra', 'Xoel López'),\n",
       " '0LxCY6cjKgjutOZaqyjrVQ': ('Hombre de ninguna parte', 'Xoel López'),\n",
       " '5ZgEhDf0iG61Eo5r7jPqEA': ('Por el viejo barrio', 'Xoel López'),\n",
       " '3phgWn3MeNe8Pwgac5Jbxk': ('Buenos Aires', 'Xoel López'),\n",
       " '0niPppKzE8lDkX64YykAfQ': ('De piedras y arena mojada', 'Xoel López'),\n",
       " '5b27Fw34PsittapccHolmq': ('María la portuguesa',\n",
       "  'Enrique Urquijo y Los problemas'),\n",
       " '5HmYuJIqLEXOa9i4YQJWoQ': ('Cantares - En Directo', 'Joan Manuel Serrat'),\n",
       " '7Bewui7KtaMzROeteRitRz': ('Mediterraneo', 'Joan Manuel Serrat'),\n",
       " '1pYBy2iHTrv3ocdhspVdj0': ('Ojalá que te vaya bonito',\n",
       "  'Enrique Urquijo y Los problemas'),\n",
       " '4Y7nAGTGPq8jikscC0jIHy': ('Te quiero igual', 'Andrés Calamaro'),\n",
       " '1p7m9H4H8s0Y7SgRm7j3ED': ('Flaca', 'Andrés Calamaro'),\n",
       " '506UYfuaVnAQLQcuujolJM': ('Volver', 'Andrés Calamaro')}"
      ]
     },
     "execution_count": 28,
     "metadata": {},
     "output_type": "execute_result"
    }
   ],
   "source": [
    "mydict"
   ]
  },
  {
   "cell_type": "code",
   "execution_count": 29,
   "id": "fab51f3a",
   "metadata": {
    "collapsed": true
   },
   "outputs": [
    {
     "data": {
      "text/plain": [
       "{'7woZGXjtaYwuvSoU1zToB3': (\"Free Fallin'\", 'Tom Petty'),\n",
       " '561F1zqRwGPCTMRsLsXVtL': ('Time in a Bottle', 'Jim Croce'),\n",
       " '0U6Ga0VWSGq6iEE1AKkgO1': ('Everywhere - Remastered', 'Fleetwood Mac'),\n",
       " '7Dm3dV3WPNdTgxoNY7YFnc': ('The Chain - 2004 Remaster', 'Fleetwood Mac'),\n",
       " '0ofHAoxe9vBkTCp2UQIavz': ('Dreams - 2004 Remaster', 'Fleetwood Mac'),\n",
       " '07GvNcU1WdyZJq3XxP0kZa': ('Go Your Own Way - 2004 Remaster',\n",
       "  'Fleetwood Mac'),\n",
       " '3twj6MfdyZ7Ii8oNAH1g3z': ('Ballad of the Dying Man', 'Father John Misty'),\n",
       " '5xS9hkTGfxqXyxX6wWWTt4': (\"Mary Jane's Last Dance\",\n",
       "  'Tom Petty and the Heartbreakers'),\n",
       " '7MRyJPksH3G2cXHN8UKYzP': ('American Girl',\n",
       "  'Tom Petty and the Heartbreakers'),\n",
       " '3BUQFs6aFWh7EFNmI8bfL7': ('Johnny B. Goode', 'Chuck Berry'),\n",
       " '4CKviU05bRYvMiRRpl4GbQ': ('Another Day - Remastered 2012', 'Paul McCartney'),\n",
       " '1YQWosTIljIvxAgHWTp7KP': ('Take Five', 'The Dave Brubeck Quartet'),\n",
       " '0aWMVrwxPNYkKmFthzmpRi': ('Blue in Green (feat. John Coltrane & Bill Evans)',\n",
       "  'Miles Davis'),\n",
       " '7DUGRxCf9NFJffb5Eei8Ar': ('God Bless the Child', 'Sonny Rollins'),\n",
       " '1qCQTy0fTXerET4x8VHyr9': ('What A Wonderful World', 'Louis Armstrong'),\n",
       " '3Bbbz0IGORWZSLf9UqsAL4': ('Dream A Little Dream Of Me', 'Ella Fitzgerald'),\n",
       " '0AX6pLXtyR2vPLv2KYErAg': ('La vie en rose - Single Version',\n",
       "  'Louis Armstrong'),\n",
       " '5UbLKRX1qVROlwDFOooEvG': ('Take Five', 'Dave Brubeck'),\n",
       " '1J8ajOAp9l5Sz6RhCgubDQ': ('Sympathique', 'Pink Martini'),\n",
       " '3Pnhzf3Knhdsavx0VM2ZmG': ('Island In The Sun', 'Weezer'),\n",
       " '0QJj3NyRskXDlyVnhe9O5U': ('She Came In Through The Bathroom Window - Remastered',\n",
       "  'The Beatles'),\n",
       " '3jPXnX4SskFgAcC4YBKOwN': ('Sun King - Remastered', 'The Beatles'),\n",
       " '4cLoL5KPfE1hAwfsO84FX7': ('Because - Remastered', 'The Beatles'),\n",
       " '0MKqeOVdZcUFGJvWpGCKbG': ('Come Together - Remastered', 'The Beatles'),\n",
       " '45yEy5WJywhJ3sDI28ajTm': ('Here Comes The Sun - Remastered', 'The Beatles'),\n",
       " '4Z92RMiyJpUrApZi3LtpJ6': ('Blackbird - Remastered', 'The Beatles'),\n",
       " '5V1AHQugSTASVez5ffJtFo': ('Let It Be - Remastered', 'The Beatles'),\n",
       " '0eY0YgyLAZ4gtM57wwYN7H': ('Hey Jude - Remastered', 'The Beatles'),\n",
       " '7z5NVCKp62kmRBwuI7pF2S': ('Drive', 'Oh Wonder'),\n",
       " '4xCDna3QZvvCI3W9GbwMZ0': ('Livewire', 'Oh Wonder'),\n",
       " '6yStkN9QDIkYZsoLGMRFI2': ('Body Gold', 'Oh Wonder'),\n",
       " '1p0ziArbexSnA0FK2bhEsu': ('Technicolour Beat', 'Oh Wonder'),\n",
       " '5vHbZCwezZGiotLTwJCjON': ('White Blood', 'Oh Wonder'),\n",
       " '6Nl5jjykRxa7salssZ0aER': ('Without You', 'Oh Wonder'),\n",
       " '0BlobfOvimTlY5wtRgbm06': ('Funtimes In Babylon', 'Father John Misty'),\n",
       " '5FdCinAy3O1jbqC3aMIxA0': ('Nancy From Now On', 'Father John Misty'),\n",
       " '0spHJLl5Iyo4AgD68ytS8i': (\"Now I'm Learning To Love The War\",\n",
       "  'Father John Misty'),\n",
       " '7nguw3JCObYNBh72bpWSCj': ('Everyman Needs A Companion', 'Father John Misty'),\n",
       " '7wCvdtHmURfT3pE65iXuXl': (\"When You're Smiling and Astride Me\",\n",
       "  'Father John Misty'),\n",
       " '5eY44OoKgZTotXKfypXvXX': ('Chinatown', 'Liam Gallagher'),\n",
       " '7mar4DMFlVi5DwbarqP38M': ('Paper Crown', 'Liam Gallagher'),\n",
       " '1chu8wc9zbNqTQ2ahROys1': ('My Sweet Lord', 'George Harrison'),\n",
       " '27B6wnfrawbSeY2jL4T4Ew': (\"Isn't It A Pity\", 'George Harrison'),\n",
       " '5phKqpI3sIyHPo53q2Rabh': ('If Not For You', 'George Harrison'),\n",
       " '0ULVJoFshWF45PcBeF5Gtu': ('Behind That Locked Door', 'George Harrison'),\n",
       " '7nDgbybi1lz1qScJTDRSeR': ('Run Of The Mill', 'George Harrison'),\n",
       " '7L1aFx1TYl1TeH6UGsSske': ('I Live For You', 'George Harrison'),\n",
       " '5qlo3OZV4IEtkwNzs1EM9U': ('All Things Must Pass', 'George Harrison'),\n",
       " '78WVLOP9pN0G3gRLFy1rAa': ('Piano Man', 'Billy Joel'),\n",
       " '5RgFlk1fcClZd0Y4SGYhqH': (\"She's Always a Woman\", 'Billy Joel'),\n",
       " '5zA8vzDGqPl2AzZkEYQGKh': ('Uptown Girl', 'Billy Joel'),\n",
       " '3zByVQLvdXUaDTubfWkpCk': ('Sweet Caroline', 'Neil Diamond'),\n",
       " '2LawezPeJhN4AWuSB0GtAU': ('Have You Ever Seen The Rain',\n",
       "  'Creedence Clearwater Revival'),\n",
       " '3zBhihYUHBmGd2bcQIobrF': (\"(Sittin' On) the Dock of the Bay\",\n",
       "  'Otis Redding'),\n",
       " '27K3ZDS5B4fwjhwyihrdzC': ('(What A) Wonderful World - Remastered',\n",
       "  'Sam Cooke'),\n",
       " '14ldz51B9dRHcRKT5vZU62': ('Stay - Live', 'Jackson Browne'),\n",
       " '4LOgi2TAAoKU9ImfzRrCPO': ('Heaven', 'Bryan Adams'),\n",
       " '3bYCGWnZdLQjndiKogqA3G': (\"Summer Of '69\", 'Bryan Adams'),\n",
       " '76qB2ZEZlEJAMqMqUjKusp': ('(Everything I Do) I Do It For You',\n",
       "  'Bryan Adams'),\n",
       " '6pPr1KLZit9FgFNhp7xE5m': ('Cheek To Cheek', 'Ella Fitzgerald'),\n",
       " '7Ar4G7Ci11gpt6sfH9Cgz5': ('Listen to the Music', 'The Doobie Brothers'),\n",
       " '726Bm6HoMMOwrJlxqbfO45': ('Live Forever - Remastered', 'Oasis'),\n",
       " '0qQlwUeBscYm3b2sqL1IRc': ('Live Forever - Live Paris Instore', 'Oasis'),\n",
       " '3ixTiPABjqkBKPocxq6oIe': (\"Don't Look Back In Anger\", 'Oasis'),\n",
       " '2UjLzxf4oYjHOVOBoVojlL': ('Champagne Supernova', 'Oasis'),\n",
       " '79RUMZfMNMpqZnswovvTqv': ('Wonderwall', 'Oasis'),\n",
       " '1kBzKgtm127gi8eSBpZEp1': ('Stand By Me', 'Oasis'),\n",
       " '1ZAWaJppxtA3zPh1R2W2wS': ('Supersonic - Remastered', 'Oasis'),\n",
       " '395QkUxlE6IAmmbLtmeyci': ('Whatever', 'Oasis'),\n",
       " '61ccRl3FBtLs3U5HuBtP6e': ('El Hombre del Piano', 'Ana Belén'),\n",
       " '2l8oKGZkOUorqfqPUkssXM': ('Into Each Life Some Rain Must Fall',\n",
       "  'Ella Fitzgerald'),\n",
       " '09ZGF6mwJVzw5jxqbtT53E': (\"Hope There's Someone\", 'Antony and the Johnsons'),\n",
       " '4gdhsYfXJoVQsWpbmh32Da': ('Here Comes The Sun - Live In Japan, 1991 / 2004 Mix',\n",
       "  'George Harrison'),\n",
       " '69lcCv2n5GyZyAtzbLuG2N': ('My Sweet Lord - Live In Japan, 1991 / 2004 Mix',\n",
       "  'George Harrison'),\n",
       " '2cFXybEXggFTpPeIzWWHpk': ('Slide Away - Remastered', 'Oasis'),\n",
       " '2j4l3NjUbc7Rn5QyiOPHEf': ('Some Might Say', 'Oasis'),\n",
       " '57BqleNmNYkr8BFAdy7tf2': (\"Rock 'n' Roll Star\", 'Oasis'),\n",
       " '5QqdvVeYLL1xvZ1ndUjxnO': ('In My Life - Remastered', 'The Beatles'),\n",
       " '3ZFBeIyP41HhnALjxWy1pR': ('A Day In The Life - Remastered', 'The Beatles'),\n",
       " '5EuraV2jbqB15ihd3d2Hex': ('Strawberry Fields Forever - Remastered',\n",
       "  'The Beatles'),\n",
       " '19XoBwnNvsYYsBURuIGKXt': ('Edge of Desire', 'John Mayer'),\n",
       " '1LM6t24SjQr2bJHqeGIR4U': ('Still Feel Like Your Man', 'John Mayer'),\n",
       " '3UjSOJ00E1eLMcayBm827Q': ('Amar Pelos Dois', 'Salvador Sobral'),\n",
       " '5Ih40KFkj3cSzxgisQxBvX': (\"For What It's Worth\", 'Liam Gallagher'),\n",
       " '7wkxFbDWWPURT1aaf5yfep': ('Talk Tonight - Remastered', 'Oasis'),\n",
       " '5KsZGdaJugVnu1Faccq22D': ('Parecemos tontos', 'Bunbury'),\n",
       " '5ZCamgcqvkckdf2FdfYuth': ('La Llamada', 'Leiva'),\n",
       " '1gbWRuq2ElvOua7AahUTGp': ('Una décima de segundo', 'Nacha Pop'),\n",
       " '6mR0ZA4DxvAHBihaXgI3oD': ('Tierra', 'Xoel López'),\n",
       " '0LxCY6cjKgjutOZaqyjrVQ': ('Hombre de ninguna parte', 'Xoel López'),\n",
       " '5ZgEhDf0iG61Eo5r7jPqEA': ('Por el viejo barrio', 'Xoel López'),\n",
       " '3phgWn3MeNe8Pwgac5Jbxk': ('Buenos Aires', 'Xoel López'),\n",
       " '0niPppKzE8lDkX64YykAfQ': ('De piedras y arena mojada', 'Xoel López'),\n",
       " '5b27Fw34PsittapccHolmq': ('María la portuguesa',\n",
       "  'Enrique Urquijo y Los problemas'),\n",
       " '5HmYuJIqLEXOa9i4YQJWoQ': ('Cantares - En Directo', 'Joan Manuel Serrat'),\n",
       " '7Bewui7KtaMzROeteRitRz': ('Mediterraneo', 'Joan Manuel Serrat'),\n",
       " '1pYBy2iHTrv3ocdhspVdj0': ('Ojalá que te vaya bonito',\n",
       "  'Enrique Urquijo y Los problemas'),\n",
       " '4Y7nAGTGPq8jikscC0jIHy': ('Te quiero igual', 'Andrés Calamaro'),\n",
       " '1p7m9H4H8s0Y7SgRm7j3ED': ('Flaca', 'Andrés Calamaro'),\n",
       " '506UYfuaVnAQLQcuujolJM': ('Volver', 'Andrés Calamaro')}"
      ]
     },
     "execution_count": 29,
     "metadata": {},
     "output_type": "execute_result"
    }
   ],
   "source": [
    "#sergis solution \n",
    "my_tracks = {}\n",
    "for i in range(len(playlist_big['items'])):\n",
    "    my_tracks[str(playlist_big['items'][i]['track']['id'])]=(str(playlist_big['items'][i]['track']['name'])),(str(playlist_big['items'][i]['track']['artists'][0]['name']))\n",
    "my_tracks"
   ]
  },
  {
   "cell_type": "markdown",
   "id": "c88dcb84",
   "metadata": {},
   "source": [
    "# Audio Features "
   ]
  },
  {
   "cell_type": "code",
   "execution_count": 30,
   "id": "acd0810a",
   "metadata": {},
   "outputs": [],
   "source": [
    "# get track list with url uri or ID for each track \n",
    "# run audio-features query "
   ]
  },
  {
   "cell_type": "code",
   "execution_count": 31,
   "id": "34d8a24e",
   "metadata": {},
   "outputs": [],
   "source": [
    "def get_tracks(playlist):\n",
    "    tracks = playlist['items']\n",
    "    while playlist['next']:\n",
    "        playlist = sp.next(playlist)\n",
    "        tracks.extend(playlist['items'])\n",
    "    return tracks\n",
    "first_results = get_tracks(playlist)"
   ]
  },
  {
   "cell_type": "code",
   "execution_count": 35,
   "id": "c89aa85b",
   "metadata": {},
   "outputs": [
    {
     "name": "stderr",
     "output_type": "stream",
     "text": [
      "100%|███████████████████████████████████████| 1839/1839 [03:11<00:00,  9.58it/s]\n"
     ]
    },
    {
     "ename": "NameError",
     "evalue": "name 'pd' is not defined",
     "output_type": "error",
     "traceback": [
      "\u001b[0;31m---------------------------------------------------------------------------\u001b[0m",
      "\u001b[0;31mNameError\u001b[0m                                 Traceback (most recent call last)",
      "\u001b[0;32m/var/folders/js/3prtlh997knckqf8p2nq_dz80000gn/T/ipykernel_13698/2699555653.py\u001b[0m in \u001b[0;36m<module>\u001b[0;34m\u001b[0m\n\u001b[1;32m      5\u001b[0m \u001b[0;34m\u001b[0m\u001b[0m\n\u001b[1;32m      6\u001b[0m \u001b[0maudio_feats\u001b[0m \u001b[0;34m=\u001b[0m \u001b[0;34m[\u001b[0m\u001b[0mi\u001b[0m \u001b[0;32mfor\u001b[0m \u001b[0mi\u001b[0m \u001b[0;32min\u001b[0m \u001b[0maudio_feats\u001b[0m \u001b[0;32mif\u001b[0m \u001b[0mi\u001b[0m\u001b[0;34m]\u001b[0m\u001b[0;34m\u001b[0m\u001b[0;34m\u001b[0m\u001b[0m\n\u001b[0;32m----> 7\u001b[0;31m \u001b[0mfeatures\u001b[0m \u001b[0;34m=\u001b[0m\u001b[0mpd\u001b[0m\u001b[0;34m.\u001b[0m\u001b[0mDataFrame\u001b[0m\u001b[0;34m(\u001b[0m\u001b[0maudio_feats\u001b[0m\u001b[0;34m)\u001b[0m\u001b[0;34m\u001b[0m\u001b[0;34m\u001b[0m\u001b[0m\n\u001b[0m",
      "\u001b[0;31mNameError\u001b[0m: name 'pd' is not defined"
     ]
    }
   ],
   "source": [
    "from tqdm import tqdm\n",
    "audio_feats = []\n",
    "for x in tqdm(range(len(first_results))):\n",
    "    audio_feats.extend(sp.audio_features(tracks=first_results[x]['track']['id']))\n",
    "\n",
    "audio_feats = [i for i in audio_feats if i]\n",
    "features =pd.DataFrame(audio_feats)"
   ]
  },
  {
   "cell_type": "code",
   "execution_count": 36,
   "id": "efbad937",
   "metadata": {},
   "outputs": [],
   "source": [
    "import pandas as pd "
   ]
  },
  {
   "cell_type": "code",
   "execution_count": 37,
   "id": "b4147729",
   "metadata": {},
   "outputs": [],
   "source": [
    "audio_feats = [i for i in audio_feats if i]\n",
    "features =pd.DataFrame(audio_feats)"
   ]
  },
  {
   "cell_type": "code",
   "execution_count": 38,
   "id": "e7b1efe9",
   "metadata": {},
   "outputs": [
    {
     "data": {
      "text/html": [
       "<div>\n",
       "<style scoped>\n",
       "    .dataframe tbody tr th:only-of-type {\n",
       "        vertical-align: middle;\n",
       "    }\n",
       "\n",
       "    .dataframe tbody tr th {\n",
       "        vertical-align: top;\n",
       "    }\n",
       "\n",
       "    .dataframe thead th {\n",
       "        text-align: right;\n",
       "    }\n",
       "</style>\n",
       "<table border=\"1\" class=\"dataframe\">\n",
       "  <thead>\n",
       "    <tr style=\"text-align: right;\">\n",
       "      <th></th>\n",
       "      <th>danceability</th>\n",
       "      <th>energy</th>\n",
       "      <th>key</th>\n",
       "      <th>loudness</th>\n",
       "      <th>mode</th>\n",
       "      <th>speechiness</th>\n",
       "      <th>acousticness</th>\n",
       "      <th>instrumentalness</th>\n",
       "      <th>liveness</th>\n",
       "      <th>valence</th>\n",
       "      <th>tempo</th>\n",
       "      <th>type</th>\n",
       "      <th>id</th>\n",
       "      <th>uri</th>\n",
       "      <th>track_href</th>\n",
       "      <th>analysis_url</th>\n",
       "      <th>duration_ms</th>\n",
       "      <th>time_signature</th>\n",
       "    </tr>\n",
       "  </thead>\n",
       "  <tbody>\n",
       "    <tr>\n",
       "      <th>0</th>\n",
       "      <td>0.617</td>\n",
       "      <td>0.435</td>\n",
       "      <td>5</td>\n",
       "      <td>-13.547</td>\n",
       "      <td>1</td>\n",
       "      <td>0.0256</td>\n",
       "      <td>0.178000</td>\n",
       "      <td>0.000000</td>\n",
       "      <td>0.0822</td>\n",
       "      <td>0.601</td>\n",
       "      <td>84.382</td>\n",
       "      <td>audio_features</td>\n",
       "      <td>7woZGXjtaYwuvSoU1zToB3</td>\n",
       "      <td>spotify:track:7woZGXjtaYwuvSoU1zToB3</td>\n",
       "      <td>https://api.spotify.com/v1/tracks/7woZGXjtaYwu...</td>\n",
       "      <td>https://api.spotify.com/v1/audio-analysis/7woZ...</td>\n",
       "      <td>256667</td>\n",
       "      <td>4</td>\n",
       "    </tr>\n",
       "    <tr>\n",
       "      <th>1</th>\n",
       "      <td>0.544</td>\n",
       "      <td>0.265</td>\n",
       "      <td>2</td>\n",
       "      <td>-11.952</td>\n",
       "      <td>1</td>\n",
       "      <td>0.0350</td>\n",
       "      <td>0.848000</td>\n",
       "      <td>0.000000</td>\n",
       "      <td>0.1960</td>\n",
       "      <td>0.700</td>\n",
       "      <td>133.837</td>\n",
       "      <td>audio_features</td>\n",
       "      <td>561F1zqRwGPCTMRsLsXVtL</td>\n",
       "      <td>spotify:track:561F1zqRwGPCTMRsLsXVtL</td>\n",
       "      <td>https://api.spotify.com/v1/tracks/561F1zqRwGPC...</td>\n",
       "      <td>https://api.spotify.com/v1/audio-analysis/561F...</td>\n",
       "      <td>146176</td>\n",
       "      <td>3</td>\n",
       "    </tr>\n",
       "    <tr>\n",
       "      <th>2</th>\n",
       "      <td>0.730</td>\n",
       "      <td>0.487</td>\n",
       "      <td>4</td>\n",
       "      <td>-10.991</td>\n",
       "      <td>1</td>\n",
       "      <td>0.0303</td>\n",
       "      <td>0.258000</td>\n",
       "      <td>0.010000</td>\n",
       "      <td>0.0852</td>\n",
       "      <td>0.731</td>\n",
       "      <td>114.965</td>\n",
       "      <td>audio_features</td>\n",
       "      <td>0U6Ga0VWSGq6iEE1AKkgO1</td>\n",
       "      <td>spotify:track:0U6Ga0VWSGq6iEE1AKkgO1</td>\n",
       "      <td>https://api.spotify.com/v1/tracks/0U6Ga0VWSGq6...</td>\n",
       "      <td>https://api.spotify.com/v1/audio-analysis/0U6G...</td>\n",
       "      <td>226653</td>\n",
       "      <td>4</td>\n",
       "    </tr>\n",
       "    <tr>\n",
       "      <th>3</th>\n",
       "      <td>0.522</td>\n",
       "      <td>0.755</td>\n",
       "      <td>9</td>\n",
       "      <td>-6.950</td>\n",
       "      <td>1</td>\n",
       "      <td>0.0524</td>\n",
       "      <td>0.051700</td>\n",
       "      <td>0.000066</td>\n",
       "      <td>0.0781</td>\n",
       "      <td>0.637</td>\n",
       "      <td>151.796</td>\n",
       "      <td>audio_features</td>\n",
       "      <td>7Dm3dV3WPNdTgxoNY7YFnc</td>\n",
       "      <td>spotify:track:7Dm3dV3WPNdTgxoNY7YFnc</td>\n",
       "      <td>https://api.spotify.com/v1/tracks/7Dm3dV3WPNdT...</td>\n",
       "      <td>https://api.spotify.com/v1/audio-analysis/7Dm3...</td>\n",
       "      <td>269813</td>\n",
       "      <td>4</td>\n",
       "    </tr>\n",
       "    <tr>\n",
       "      <th>4</th>\n",
       "      <td>0.828</td>\n",
       "      <td>0.492</td>\n",
       "      <td>0</td>\n",
       "      <td>-9.744</td>\n",
       "      <td>1</td>\n",
       "      <td>0.0276</td>\n",
       "      <td>0.064400</td>\n",
       "      <td>0.004280</td>\n",
       "      <td>0.1280</td>\n",
       "      <td>0.789</td>\n",
       "      <td>120.151</td>\n",
       "      <td>audio_features</td>\n",
       "      <td>0ofHAoxe9vBkTCp2UQIavz</td>\n",
       "      <td>spotify:track:0ofHAoxe9vBkTCp2UQIavz</td>\n",
       "      <td>https://api.spotify.com/v1/tracks/0ofHAoxe9vBk...</td>\n",
       "      <td>https://api.spotify.com/v1/audio-analysis/0ofH...</td>\n",
       "      <td>257800</td>\n",
       "      <td>4</td>\n",
       "    </tr>\n",
       "    <tr>\n",
       "      <th>...</th>\n",
       "      <td>...</td>\n",
       "      <td>...</td>\n",
       "      <td>...</td>\n",
       "      <td>...</td>\n",
       "      <td>...</td>\n",
       "      <td>...</td>\n",
       "      <td>...</td>\n",
       "      <td>...</td>\n",
       "      <td>...</td>\n",
       "      <td>...</td>\n",
       "      <td>...</td>\n",
       "      <td>...</td>\n",
       "      <td>...</td>\n",
       "      <td>...</td>\n",
       "      <td>...</td>\n",
       "      <td>...</td>\n",
       "      <td>...</td>\n",
       "      <td>...</td>\n",
       "    </tr>\n",
       "    <tr>\n",
       "      <th>1834</th>\n",
       "      <td>0.519</td>\n",
       "      <td>0.406</td>\n",
       "      <td>6</td>\n",
       "      <td>-8.755</td>\n",
       "      <td>1</td>\n",
       "      <td>0.1960</td>\n",
       "      <td>0.819000</td>\n",
       "      <td>0.000000</td>\n",
       "      <td>0.1130</td>\n",
       "      <td>0.380</td>\n",
       "      <td>82.799</td>\n",
       "      <td>audio_features</td>\n",
       "      <td>1Z7YIsDRSwXJIsbxYMcnA8</td>\n",
       "      <td>spotify:track:1Z7YIsDRSwXJIsbxYMcnA8</td>\n",
       "      <td>https://api.spotify.com/v1/tracks/1Z7YIsDRSwXJ...</td>\n",
       "      <td>https://api.spotify.com/v1/audio-analysis/1Z7Y...</td>\n",
       "      <td>186307</td>\n",
       "      <td>4</td>\n",
       "    </tr>\n",
       "    <tr>\n",
       "      <th>1835</th>\n",
       "      <td>0.689</td>\n",
       "      <td>0.739</td>\n",
       "      <td>2</td>\n",
       "      <td>-5.810</td>\n",
       "      <td>1</td>\n",
       "      <td>0.0260</td>\n",
       "      <td>0.000015</td>\n",
       "      <td>0.509000</td>\n",
       "      <td>0.0640</td>\n",
       "      <td>0.578</td>\n",
       "      <td>120.423</td>\n",
       "      <td>audio_features</td>\n",
       "      <td>0q6LuUqGLUiCPP1cbdwFs3</td>\n",
       "      <td>spotify:track:0q6LuUqGLUiCPP1cbdwFs3</td>\n",
       "      <td>https://api.spotify.com/v1/tracks/0q6LuUqGLUiC...</td>\n",
       "      <td>https://api.spotify.com/v1/audio-analysis/0q6L...</td>\n",
       "      <td>233867</td>\n",
       "      <td>4</td>\n",
       "    </tr>\n",
       "    <tr>\n",
       "      <th>1836</th>\n",
       "      <td>0.247</td>\n",
       "      <td>0.960</td>\n",
       "      <td>4</td>\n",
       "      <td>-6.077</td>\n",
       "      <td>1</td>\n",
       "      <td>0.0610</td>\n",
       "      <td>0.001200</td>\n",
       "      <td>0.013500</td>\n",
       "      <td>0.1440</td>\n",
       "      <td>0.881</td>\n",
       "      <td>165.256</td>\n",
       "      <td>audio_features</td>\n",
       "      <td>1Ja0n5NNZhCtJBdlTHcR0v</td>\n",
       "      <td>spotify:track:1Ja0n5NNZhCtJBdlTHcR0v</td>\n",
       "      <td>https://api.spotify.com/v1/tracks/1Ja0n5NNZhCt...</td>\n",
       "      <td>https://api.spotify.com/v1/audio-analysis/1Ja0...</td>\n",
       "      <td>160933</td>\n",
       "      <td>4</td>\n",
       "    </tr>\n",
       "    <tr>\n",
       "      <th>1837</th>\n",
       "      <td>0.383</td>\n",
       "      <td>0.450</td>\n",
       "      <td>2</td>\n",
       "      <td>-9.183</td>\n",
       "      <td>1</td>\n",
       "      <td>0.0312</td>\n",
       "      <td>0.119000</td>\n",
       "      <td>0.259000</td>\n",
       "      <td>0.2470</td>\n",
       "      <td>0.144</td>\n",
       "      <td>113.179</td>\n",
       "      <td>audio_features</td>\n",
       "      <td>2X88eJCAJpJhrc2IFxPUrF</td>\n",
       "      <td>spotify:track:2X88eJCAJpJhrc2IFxPUrF</td>\n",
       "      <td>https://api.spotify.com/v1/tracks/2X88eJCAJpJh...</td>\n",
       "      <td>https://api.spotify.com/v1/audio-analysis/2X88...</td>\n",
       "      <td>461533</td>\n",
       "      <td>4</td>\n",
       "    </tr>\n",
       "    <tr>\n",
       "      <th>1838</th>\n",
       "      <td>0.707</td>\n",
       "      <td>0.625</td>\n",
       "      <td>4</td>\n",
       "      <td>-9.529</td>\n",
       "      <td>1</td>\n",
       "      <td>0.0303</td>\n",
       "      <td>0.025900</td>\n",
       "      <td>0.000054</td>\n",
       "      <td>0.1040</td>\n",
       "      <td>0.634</td>\n",
       "      <td>119.049</td>\n",
       "      <td>audio_features</td>\n",
       "      <td>3k2ImghAf2wffEKTMVvIkc</td>\n",
       "      <td>spotify:track:3k2ImghAf2wffEKTMVvIkc</td>\n",
       "      <td>https://api.spotify.com/v1/tracks/3k2ImghAf2wf...</td>\n",
       "      <td>https://api.spotify.com/v1/audio-analysis/3k2I...</td>\n",
       "      <td>222400</td>\n",
       "      <td>4</td>\n",
       "    </tr>\n",
       "  </tbody>\n",
       "</table>\n",
       "<p>1839 rows × 18 columns</p>\n",
       "</div>"
      ],
      "text/plain": [
       "      danceability  energy  key  loudness  mode  speechiness  acousticness  \\\n",
       "0            0.617   0.435    5   -13.547     1       0.0256      0.178000   \n",
       "1            0.544   0.265    2   -11.952     1       0.0350      0.848000   \n",
       "2            0.730   0.487    4   -10.991     1       0.0303      0.258000   \n",
       "3            0.522   0.755    9    -6.950     1       0.0524      0.051700   \n",
       "4            0.828   0.492    0    -9.744     1       0.0276      0.064400   \n",
       "...            ...     ...  ...       ...   ...          ...           ...   \n",
       "1834         0.519   0.406    6    -8.755     1       0.1960      0.819000   \n",
       "1835         0.689   0.739    2    -5.810     1       0.0260      0.000015   \n",
       "1836         0.247   0.960    4    -6.077     1       0.0610      0.001200   \n",
       "1837         0.383   0.450    2    -9.183     1       0.0312      0.119000   \n",
       "1838         0.707   0.625    4    -9.529     1       0.0303      0.025900   \n",
       "\n",
       "      instrumentalness  liveness  valence    tempo            type  \\\n",
       "0             0.000000    0.0822    0.601   84.382  audio_features   \n",
       "1             0.000000    0.1960    0.700  133.837  audio_features   \n",
       "2             0.010000    0.0852    0.731  114.965  audio_features   \n",
       "3             0.000066    0.0781    0.637  151.796  audio_features   \n",
       "4             0.004280    0.1280    0.789  120.151  audio_features   \n",
       "...                ...       ...      ...      ...             ...   \n",
       "1834          0.000000    0.1130    0.380   82.799  audio_features   \n",
       "1835          0.509000    0.0640    0.578  120.423  audio_features   \n",
       "1836          0.013500    0.1440    0.881  165.256  audio_features   \n",
       "1837          0.259000    0.2470    0.144  113.179  audio_features   \n",
       "1838          0.000054    0.1040    0.634  119.049  audio_features   \n",
       "\n",
       "                          id                                   uri  \\\n",
       "0     7woZGXjtaYwuvSoU1zToB3  spotify:track:7woZGXjtaYwuvSoU1zToB3   \n",
       "1     561F1zqRwGPCTMRsLsXVtL  spotify:track:561F1zqRwGPCTMRsLsXVtL   \n",
       "2     0U6Ga0VWSGq6iEE1AKkgO1  spotify:track:0U6Ga0VWSGq6iEE1AKkgO1   \n",
       "3     7Dm3dV3WPNdTgxoNY7YFnc  spotify:track:7Dm3dV3WPNdTgxoNY7YFnc   \n",
       "4     0ofHAoxe9vBkTCp2UQIavz  spotify:track:0ofHAoxe9vBkTCp2UQIavz   \n",
       "...                      ...                                   ...   \n",
       "1834  1Z7YIsDRSwXJIsbxYMcnA8  spotify:track:1Z7YIsDRSwXJIsbxYMcnA8   \n",
       "1835  0q6LuUqGLUiCPP1cbdwFs3  spotify:track:0q6LuUqGLUiCPP1cbdwFs3   \n",
       "1836  1Ja0n5NNZhCtJBdlTHcR0v  spotify:track:1Ja0n5NNZhCtJBdlTHcR0v   \n",
       "1837  2X88eJCAJpJhrc2IFxPUrF  spotify:track:2X88eJCAJpJhrc2IFxPUrF   \n",
       "1838  3k2ImghAf2wffEKTMVvIkc  spotify:track:3k2ImghAf2wffEKTMVvIkc   \n",
       "\n",
       "                                             track_href  \\\n",
       "0     https://api.spotify.com/v1/tracks/7woZGXjtaYwu...   \n",
       "1     https://api.spotify.com/v1/tracks/561F1zqRwGPC...   \n",
       "2     https://api.spotify.com/v1/tracks/0U6Ga0VWSGq6...   \n",
       "3     https://api.spotify.com/v1/tracks/7Dm3dV3WPNdT...   \n",
       "4     https://api.spotify.com/v1/tracks/0ofHAoxe9vBk...   \n",
       "...                                                 ...   \n",
       "1834  https://api.spotify.com/v1/tracks/1Z7YIsDRSwXJ...   \n",
       "1835  https://api.spotify.com/v1/tracks/0q6LuUqGLUiC...   \n",
       "1836  https://api.spotify.com/v1/tracks/1Ja0n5NNZhCt...   \n",
       "1837  https://api.spotify.com/v1/tracks/2X88eJCAJpJh...   \n",
       "1838  https://api.spotify.com/v1/tracks/3k2ImghAf2wf...   \n",
       "\n",
       "                                           analysis_url  duration_ms  \\\n",
       "0     https://api.spotify.com/v1/audio-analysis/7woZ...       256667   \n",
       "1     https://api.spotify.com/v1/audio-analysis/561F...       146176   \n",
       "2     https://api.spotify.com/v1/audio-analysis/0U6G...       226653   \n",
       "3     https://api.spotify.com/v1/audio-analysis/7Dm3...       269813   \n",
       "4     https://api.spotify.com/v1/audio-analysis/0ofH...       257800   \n",
       "...                                                 ...          ...   \n",
       "1834  https://api.spotify.com/v1/audio-analysis/1Z7Y...       186307   \n",
       "1835  https://api.spotify.com/v1/audio-analysis/0q6L...       233867   \n",
       "1836  https://api.spotify.com/v1/audio-analysis/1Ja0...       160933   \n",
       "1837  https://api.spotify.com/v1/audio-analysis/2X88...       461533   \n",
       "1838  https://api.spotify.com/v1/audio-analysis/3k2I...       222400   \n",
       "\n",
       "      time_signature  \n",
       "0                  4  \n",
       "1                  3  \n",
       "2                  4  \n",
       "3                  4  \n",
       "4                  4  \n",
       "...              ...  \n",
       "1834               4  \n",
       "1835               4  \n",
       "1836               4  \n",
       "1837               4  \n",
       "1838               4  \n",
       "\n",
       "[1839 rows x 18 columns]"
      ]
     },
     "execution_count": 38,
     "metadata": {},
     "output_type": "execute_result"
    }
   ],
   "source": [
    "features"
   ]
  },
  {
   "cell_type": "markdown",
   "id": "b94896bb",
   "metadata": {},
   "source": [
    "# Next steps \n",
    "- drop non numeric audio features \n",
    "- build bigger collection of tracks and audio features "
   ]
  },
  {
   "cell_type": "markdown",
   "id": "b3f86970",
   "metadata": {},
   "source": [
    "# Useful code "
   ]
  },
  {
   "cell_type": "markdown",
   "id": "d0097301",
   "metadata": {},
   "source": [
    "- heres a useful snippet of code for getting more songs than 100, when querying a playlist.\n",
    "- uses the next key in the results dictionary, as a while loop, to keep going through the pages"
   ]
  },
  {
   "cell_type": "markdown",
   "id": "86e4bab2",
   "metadata": {},
   "source": [
    "0- set variables user_id, playlist_id)\n",
    "\n",
    "----\n",
    "\n",
    "\n",
    "1- define function\n",
    "\n",
    "- def get_playlist_tracks(user_id,playlist_id):\n",
    "- results = sp.user_playlist_tracks(user_id,playlist_id)\n",
    "- tracks = results[‘items’]\n",
    "- while results[‘next’]:\n",
    "- results = sp.next(results)\n",
    "- tracks.extend(results[‘items’])\n",
    "- return tracks\n",
    "\n",
    "-----\n",
    "\n",
    "2- call function on playlist\n",
    "- full_track_ids= get_playlist_tracks(user_id, playlist_id)\n",
    "\n",
    "----\n",
    "\n",
    "Also, if you dont have the user id for a playlist(s) you can also use this spotipy call results=sp.playlist_tracks(playlist_id)      \n",
    "\n",
    "(to get the user id)\n",
    "results[‘items’][0][‘added_by’][‘id’]"
   ]
  },
  {
   "cell_type": "raw",
   "id": "0ba5b966",
   "metadata": {},
   "source": [
    "max error -audio feats \n",
    "split request into blocks of tracks n=50 \n",
    "\n",
    "- def sections(lst, n):\n",
    "\"\"\"Yield successive n-sized sections from list of ids(lst).\"\"\"\n",
    "    1for i in range(0, len(lst), n):\n",
    "        yield lst[i:i + n]"
   ]
  },
  {
   "cell_type": "code",
   "execution_count": null,
   "id": "c05b7565",
   "metadata": {},
   "outputs": [],
   "source": [
    "pl_audiofeats = []\n",
    "for section in list(sections(pl_track_ids, 50)):\n",
    "        pl_audiofeats.append(sp.audio_features(section))"
   ]
  }
 ],
 "metadata": {
  "kernelspec": {
   "display_name": "Python 3 (ipykernel)",
   "language": "python",
   "name": "python3"
  },
  "language_info": {
   "codemirror_mode": {
    "name": "ipython",
    "version": 3
   },
   "file_extension": ".py",
   "mimetype": "text/x-python",
   "name": "python",
   "nbconvert_exporter": "python",
   "pygments_lexer": "ipython3",
   "version": "3.9.7"
  },
  "toc": {
   "base_numbering": 1,
   "nav_menu": {},
   "number_sections": true,
   "sideBar": true,
   "skip_h1_title": false,
   "title_cell": "Table of Contents",
   "title_sidebar": "Contents",
   "toc_cell": false,
   "toc_position": {},
   "toc_section_display": true,
   "toc_window_display": false
  },
  "varInspector": {
   "cols": {
    "lenName": 16,
    "lenType": 16,
    "lenVar": 40
   },
   "kernels_config": {
    "python": {
     "delete_cmd_postfix": "",
     "delete_cmd_prefix": "del ",
     "library": "var_list.py",
     "varRefreshCmd": "print(var_dic_list())"
    },
    "r": {
     "delete_cmd_postfix": ") ",
     "delete_cmd_prefix": "rm(",
     "library": "var_list.r",
     "varRefreshCmd": "cat(var_dic_list()) "
    }
   },
   "types_to_exclude": [
    "module",
    "function",
    "builtin_function_or_method",
    "instance",
    "_Feature"
   ],
   "window_display": false
  }
 },
 "nbformat": 4,
 "nbformat_minor": 5
}
