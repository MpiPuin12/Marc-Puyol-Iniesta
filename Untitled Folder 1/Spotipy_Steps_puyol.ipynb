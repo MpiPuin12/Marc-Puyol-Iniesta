{
 "cells": [
  {
   "cell_type": "markdown",
   "id": "de8e5389",
   "metadata": {
    "toc": true
   },
   "source": [
    "<h1>Index<span class=\"tocSkip\"></span></h1>\n",
    "<div class=\"toc\"><ul class=\"toc-item\"><li><span><a href=\"#Spotify-Developer-Account\" data-toc-modified-id=\"Spotify-Developer-Account-1\"><span class=\"toc-item-num\">1&nbsp;&nbsp;</span>Spotify Developer Account</a></span><ul class=\"toc-item\"><li><span><a href=\"#Log-in-or-your-user-account\" data-toc-modified-id=\"Log-in-or-your-user-account-1.1\"><span class=\"toc-item-num\">1.1&nbsp;&nbsp;</span>Log in or your user account</a></span></li><li><span><a href=\"#Create-an-App\" data-toc-modified-id=\"Create-an-App-1.2\"><span class=\"toc-item-num\">1.2&nbsp;&nbsp;</span>Create an App</a></span></li><li><span><a href=\"#Client-ID-and-Client-Secret\" data-toc-modified-id=\"Client-ID-and-Client-Secret-1.3\"><span class=\"toc-item-num\">1.3&nbsp;&nbsp;</span>Client ID and Client Secret</a></span></li></ul></li><li><span><a href=\"#Connect-with-Jupyter-Notebook\" data-toc-modified-id=\"Connect-with-Jupyter-Notebook-2\"><span class=\"toc-item-num\">2&nbsp;&nbsp;</span>Connect with Jupyter Notebook</a></span><ul class=\"toc-item\"><li><span><a href=\"#Step-1:-Install-Spotipy\" data-toc-modified-id=\"Step-1:-Install-Spotipy-2.1\"><span class=\"toc-item-num\">2.1&nbsp;&nbsp;</span>Step 1: Install Spotipy</a></span></li></ul></li><li><span><a href=\"#Connect-to-a-playlist\" data-toc-modified-id=\"Connect-to-a-playlist-3\"><span class=\"toc-item-num\">3&nbsp;&nbsp;</span>Connect to a playlist</a></span></li><li><span><a href=\"#Simple-examples-of-use----more-during-the-lesson\" data-toc-modified-id=\"Simple-examples-of-use----more-during-the-lesson-4\"><span class=\"toc-item-num\">4&nbsp;&nbsp;</span>Simple examples of use -- more during the lesson</a></span></li></ul></div>"
   ]
  },
  {
   "cell_type": "markdown",
   "id": "96de8837",
   "metadata": {},
   "source": [
    "# Connecting Python to Spotify with Spotipy"
   ]
  },
  {
   "cell_type": "markdown",
   "id": "3b6c602c",
   "metadata": {},
   "source": [
    "## Spotify Developer Account"
   ]
  },
  {
   "cell_type": "markdown",
   "id": "deaddd8f",
   "metadata": {},
   "source": [
    "### Log in or your user account"
   ]
  },
  {
   "cell_type": "markdown",
   "id": "1c3c6186",
   "metadata": {},
   "source": [
    "Go to [Spotify for Developers](https://developer.spotify.com/dashboard/) and log in."
   ]
  },
  {
   "cell_type": "markdown",
   "id": "fc8c3b46",
   "metadata": {},
   "source": [
    "<img src=\"developers_log_in_2.png\">"
   ]
  },
  {
   "cell_type": "markdown",
   "id": "8ed0740f",
   "metadata": {},
   "source": [
    "### Create an App"
   ]
  },
  {
   "cell_type": "markdown",
   "id": "cf923cd5",
   "metadata": {},
   "source": [
    "You will need to accept the _Spotify Developer Terms of Service_, sorry. Next you will see **your Dashboard** and it is probably empty so let's create an app."
   ]
  },
  {
   "cell_type": "markdown",
   "id": "3633c789",
   "metadata": {},
   "source": [
    "<img src=\"dashboard_1.png\">"
   ]
  },
  {
   "cell_type": "markdown",
   "id": "54eb9f08",
   "metadata": {},
   "source": [
    "Choose a name for your app (whatever you want). This is just the name of the space for the API to follow your activity for this 'scraping' project. You can create more than one or use always the same."
   ]
  },
  {
   "cell_type": "markdown",
   "id": "91387c1b",
   "metadata": {},
   "source": [
    "<img src=\"dashboard_app.png\">"
   ]
  },
  {
   "cell_type": "markdown",
   "id": "bef353e4",
   "metadata": {},
   "source": [
    "### Client ID and Client Secret"
   ]
  },
  {
   "cell_type": "markdown",
   "id": "2fa288d4",
   "metadata": {},
   "source": [
    "Credentials:\n",
    "- Client ID\n",
    "- Client Secret (click on top to see the 'password', keep it safe)"
   ]
  },
  {
   "cell_type": "markdown",
   "id": "6453793d",
   "metadata": {},
   "source": [
    "<img src=\"dashboard_app_inside.png\">"
   ]
  },
  {
   "cell_type": "markdown",
   "id": "d23b1adc",
   "metadata": {},
   "source": [
    "## Connect with Jupyter Notebook"
   ]
  },
  {
   "cell_type": "markdown",
   "id": "e6b8cbe5",
   "metadata": {},
   "source": [
    "### Step 1: Install Spotipy\n",
    "\n",
    "Run the code below in your terminal or a Jupyter Notebook to install Spotipy.\n",
    "\n",
    "`!pip install spotipy`\n",
    "\n",
    "`conda install -c conda-forge spotipy`"
   ]
  },
  {
   "cell_type": "code",
   "execution_count": 1,
   "id": "7d9208dd",
   "metadata": {},
   "outputs": [],
   "source": [
    "import spotipy # install if needed\n",
    "from spotipy.oauth2 import SpotifyClientCredentials\n",
    "import getpass"
   ]
  },
  {
   "cell_type": "code",
   "execution_count": null,
   "id": "f00fb3cc",
   "metadata": {},
   "outputs": [],
   "source": [
    "client_id = str(getpass.getpass('client_id?'))\n",
    "client_secret = str(getpass.getpass('client_secret?'))"
   ]
  },
  {
   "cell_type": "code",
   "execution_count": null,
   "id": "8778c2b3",
   "metadata": {},
   "outputs": [],
   "source": [
    "client_credentials_manager = SpotifyClientCredentials(client_id, client_secret)\n",
    "sp = spotipy.Spotify(client_credentials_manager = client_credentials_manager)"
   ]
  },
  {
   "cell_type": "code",
   "execution_count": null,
   "id": "f649d971",
   "metadata": {},
   "outputs": [],
   "source": [
    "lyrics= \"https://raw.githubusercontent.com/cjlh/spotify-lyrics/master/spotify-lyrics.py\""
   ]
  },
  {
   "cell_type": "markdown",
   "id": "17fe86dd",
   "metadata": {},
   "source": [
    "## Connect to a playlist"
   ]
  },
  {
   "cell_type": "code",
   "execution_count": null,
   "id": "1293ba0a",
   "metadata": {},
   "outputs": [],
   "source": [
    "playlist=sp.user_playlist_tracks('Marc Puyol Iniesta', '7uaZmjQBZHdfeFEycJkfEt')  "
   ]
  },
  {
   "cell_type": "code",
   "execution_count": null,
   "id": "3fffcfe3",
   "metadata": {},
   "outputs": [],
   "source": [
    "playlist"
   ]
  },
  {
   "cell_type": "code",
   "execution_count": null,
   "id": "40d42b8d",
   "metadata": {},
   "outputs": [],
   "source": [
    "playlist.keys()"
   ]
  },
  {
   "cell_type": "code",
   "execution_count": null,
   "id": "fef0bdd8",
   "metadata": {},
   "outputs": [],
   "source": [
    "playlist['items'][3]['track'].keys()"
   ]
  },
  {
   "cell_type": "code",
   "execution_count": null,
   "id": "d1c45adc",
   "metadata": {},
   "outputs": [],
   "source": [
    "playlist['items'][3]['track']['name']"
   ]
  },
  {
   "cell_type": "markdown",
   "id": "1f34e859",
   "metadata": {},
   "source": [
    "## Simple examples of use -- more during the lesson"
   ]
  },
  {
   "cell_type": "markdown",
   "id": "e6a5e05d",
   "metadata": {},
   "source": [
    "# 2 sp search on one artist and explore the results"
   ]
  },
  {
   "cell_type": "code",
   "execution_count": null,
   "id": "41c40ef3",
   "metadata": {},
   "outputs": [],
   "source": [
    "results_artists=sp.search(q='Miles Davis', limit=50)"
   ]
  },
  {
   "cell_type": "code",
   "execution_count": null,
   "id": "94b2746a",
   "metadata": {},
   "outputs": [],
   "source": [
    "results_artists[\"tracks\"][\"items\"][0]['name']"
   ]
  },
  {
   "cell_type": "code",
   "execution_count": null,
   "id": "395918f9",
   "metadata": {},
   "outputs": [],
   "source": [
    "results_artists['tracks']['items'][0]['artists'][0].keys()"
   ]
  },
  {
   "cell_type": "markdown",
   "id": "73d2c454",
   "metadata": {},
   "source": [
    "# Activity 2 - get artists from tracks, get artist ids from tracks"
   ]
  },
  {
   "cell_type": "code",
   "execution_count": null,
   "id": "ed3460cf",
   "metadata": {},
   "outputs": [],
   "source": [
    "def get_artists_from_tracks(track):\n",
    "    return [artist['id'] for artist in track['artists']]"
   ]
  },
  {
   "cell_type": "code",
   "execution_count": null,
   "id": "80f7dc66",
   "metadata": {},
   "outputs": [],
   "source": [
    "get_artists_from_tracks(results_artists['tracks']['items'][0])"
   ]
  },
  {
   "cell_type": "code",
   "execution_count": null,
   "id": "80bca77f",
   "metadata": {},
   "outputs": [],
   "source": [
    "results_artists[\"tracks\"][\"items\"][1].keys()"
   ]
  },
  {
   "cell_type": "code",
   "execution_count": null,
   "id": "ff81308a",
   "metadata": {},
   "outputs": [],
   "source": [
    "results_artists['tracks']['items'][0]['artists'][0].keys()"
   ]
  },
  {
   "cell_type": "markdown",
   "id": "50cfae1c",
   "metadata": {},
   "source": [
    "https://open.spotify.com/playlist/0y0QntvocWdHZD7WY1R5iO?si=e028f0267eac4444\n",
    "    useful info: 0y0QntvocWdHZD7WY1R5iO\n",
    "        playlist owner - Marc Puyol Iniesta\n",
    "        "
   ]
  },
  {
   "cell_type": "code",
   "execution_count": null,
   "id": "7d570e68",
   "metadata": {},
   "outputs": [],
   "source": [
    "# user_playlist_track"
   ]
  },
  {
   "cell_type": "code",
   "execution_count": null,
   "id": "efdefbdb",
   "metadata": {},
   "outputs": [],
   "source": [
    "playlist=sp.user_playlist_tracks(\"Marc Puyol Iniesta\", \"0y0QntvocWdHZD7WY1R5iO\" )"
   ]
  },
  {
   "cell_type": "code",
   "execution_count": null,
   "id": "9b0ed333",
   "metadata": {},
   "outputs": [],
   "source": [
    "user_id= \"Marc Puyol Iniesta\"\n",
    "playlist_id= \"0y0QntvocWdHZD7WY1R5iO\" "
   ]
  },
  {
   "cell_type": "code",
   "execution_count": null,
   "id": "145fc4d5",
   "metadata": {},
   "outputs": [],
   "source": [
    "def get_tracks(playlist):\n",
    "    tracks = playlist['items']\n",
    "    while playlist['next']:\n",
    "        playlist = sp.next(playlist)\n",
    "        tracks.extend(playlist['items'])\n",
    "    return tracks\n",
    "first_results = get_tracks(playlist)"
   ]
  },
  {
   "cell_type": "code",
   "execution_count": null,
   "id": "a912eddf",
   "metadata": {},
   "outputs": [],
   "source": [
    "len(first_results)"
   ]
  },
  {
   "cell_type": "code",
   "execution_count": null,
   "id": "3796546b",
   "metadata": {},
   "outputs": [],
   "source": [
    "first_results[0]['track'].keys()"
   ]
  },
  {
   "cell_type": "code",
   "execution_count": null,
   "id": "0ca56aa8",
   "metadata": {},
   "outputs": [],
   "source": [
    "first_results[0]['track']['id']"
   ]
  },
  {
   "cell_type": "code",
   "execution_count": null,
   "id": "03f3e4e9",
   "metadata": {},
   "outputs": [],
   "source": []
  },
  {
   "cell_type": "code",
   "execution_count": null,
   "id": "f5c545e0",
   "metadata": {},
   "outputs": [],
   "source": [
    "playlist['items'][4]['track']['id']"
   ]
  },
  {
   "cell_type": "code",
   "execution_count": null,
   "id": "8b3701e4",
   "metadata": {},
   "outputs": [],
   "source": [
    "playlist['total']"
   ]
  },
  {
   "cell_type": "code",
   "execution_count": null,
   "id": "d2039e49",
   "metadata": {},
   "outputs": [],
   "source": [
    "len(playlist['items'])"
   ]
  },
  {
   "cell_type": "code",
   "execution_count": null,
   "id": "b926be4c",
   "metadata": {},
   "outputs": [],
   "source": [
    "playlist['next']"
   ]
  },
  {
   "cell_type": "code",
   "execution_count": null,
   "id": "2b5451ca",
   "metadata": {},
   "outputs": [],
   "source": [
    "id2=[]\n",
    "artist=[]\n",
    "song=[]\n",
    "for i in range(1838):\n",
    "    song.append(first_results[i]['track']['name'])\n",
    "    artist.append(first_results[i]['track']['artists'][0]['name'])\n",
    "    id2.append(first_results[i]['track']['id'])\n",
    "new_dict = {id2[i]: (artist[i], song[i]) for i in range(len(id2))}"
   ]
  },
  {
   "cell_type": "code",
   "execution_count": null,
   "id": "ff9ed094",
   "metadata": {},
   "outputs": [],
   "source": [
    "song"
   ]
  },
  {
   "cell_type": "code",
   "execution_count": null,
   "id": "93841544",
   "metadata": {},
   "outputs": [],
   "source": [
    "song=[i.split(' -', 1)[0] for i in song] "
   ]
  },
  {
   "cell_type": "code",
   "execution_count": null,
   "id": "be2a3560",
   "metadata": {},
   "outputs": [],
   "source": [
    "artist"
   ]
  },
  {
   "cell_type": "code",
   "execution_count": null,
   "id": "72faf491",
   "metadata": {},
   "outputs": [],
   "source": [
    "new_dict"
   ]
  },
  {
   "cell_type": "code",
   "execution_count": null,
   "id": "5fed330d",
   "metadata": {},
   "outputs": [],
   "source": [
    "import pandas as pd"
   ]
  },
  {
   "cell_type": "code",
   "execution_count": null,
   "id": "a625c33c",
   "metadata": {},
   "outputs": [],
   "source": [
    "dataframe= pd.DataFrame(list(zip(song, artist,id2)),\n",
    "               columns =['Name', 'artist', 'id'])"
   ]
  },
  {
   "cell_type": "code",
   "execution_count": null,
   "id": "8b813b38",
   "metadata": {},
   "outputs": [],
   "source": [
    "dataframe"
   ]
  },
  {
   "cell_type": "code",
   "execution_count": null,
   "id": "292cb58e",
   "metadata": {},
   "outputs": [],
   "source": [
    "# get track list with url uri or id for each track\n",
    "# run audio-features query"
   ]
  },
  {
   "cell_type": "code",
   "execution_count": null,
   "id": "b9b876d4",
   "metadata": {},
   "outputs": [],
   "source": [
    "audiofeatureslist=[]\n",
    "for i in playlist['items']:\n",
    "    audiofeatureslist.append(i['track']['id'])"
   ]
  },
  {
   "cell_type": "code",
   "execution_count": null,
   "id": "fd0be317",
   "metadata": {},
   "outputs": [],
   "source": [
    "audio_feat_space"
   ]
  },
  {
   "cell_type": "code",
   "execution_count": null,
   "id": "ff8c69d8",
   "metadata": {},
   "outputs": [],
   "source": [
    "from tqdm import tqdm"
   ]
  },
  {
   "cell_type": "code",
   "execution_count": null,
   "id": "7bee1658",
   "metadata": {},
   "outputs": [],
   "source": [
    "audio_feats = []\n",
    "for x in tqdm(range(len(first_results))):\n",
    "    audio_feats.extend(sp.audio_features(tracks=first_results[x]['track']['id']))"
   ]
  },
  {
   "cell_type": "code",
   "execution_count": null,
   "id": "2cdc6c42",
   "metadata": {},
   "outputs": [],
   "source": [
    "audio_feats = [i for i in audio_feats if i]"
   ]
  },
  {
   "cell_type": "code",
   "execution_count": null,
   "id": "95cdcabf",
   "metadata": {},
   "outputs": [],
   "source": [
    "features =pd.DataFrame(audio_feats)"
   ]
  },
  {
   "cell_type": "code",
   "execution_count": null,
   "id": "3ed2870d",
   "metadata": {},
   "outputs": [],
   "source": [
    "features"
   ]
  },
  {
   "cell_type": "code",
   "execution_count": null,
   "id": "6c0da12b",
   "metadata": {},
   "outputs": [],
   "source": [
    "features.dtypes"
   ]
  },
  {
   "cell_type": "code",
   "execution_count": null,
   "id": "c84cce8c",
   "metadata": {},
   "outputs": [],
   "source": [
    "features.info()"
   ]
  },
  {
   "cell_type": "code",
   "execution_count": null,
   "id": "eb78d6a9",
   "metadata": {},
   "outputs": [],
   "source": [
    "features=features.drop('type',axis=1)"
   ]
  },
  {
   "cell_type": "code",
   "execution_count": null,
   "id": "554134dd",
   "metadata": {},
   "outputs": [],
   "source": [
    "features"
   ]
  },
  {
   "cell_type": "markdown",
   "id": "ddeac592",
   "metadata": {},
   "source": [
    "Try to create a list of 50 tracks of each of your favourite 20 artists"
   ]
  },
  {
   "cell_type": "code",
   "execution_count": null,
   "id": "c3d2b45f",
   "metadata": {},
   "outputs": [],
   "source": [
    "import requests\n",
    "def scrape_lyrics(artist, song):\n",
    "    for Song_title in dataframe:\n",
    "        dataframe['artist'] = str(dataframe['artist'].replace(' ','-')) if ' ' in  dataframe['artist'] else str( dataframe['artist'])\n",
    "        dataframe['Name'] = str(dataframe['Name'].replace(' ','-')) if ' ' in dataframe['Name'] else str(dataframe['Name'])\n",
    "        page = requests.get('https://genius.com/'+ dataframe['artist'] + '-' + dataframe['Name'] + '-' + 'lyrics')\n",
    "        html = BeautifulSoup(page.text, 'html.parser')\n",
    "        lyrics1 = html.find(\"div\", class_=\"lyrics\")\n",
    "        lyrics2 = html.find(\"div\", class_=\"Lyrics__Container-sc-1ynbvzw-2 jgQsqn\")\n",
    "        if lyrics1:\n",
    "            lyrics = lyrics1.get_text()\n",
    "        elif lyrics2:\n",
    "            lyrics = lyrics2.get_text()\n",
    "        elif lyrics1 == lyrics2 == None:\n",
    "            lyrics = None\n",
    "        return lyrics\n",
    "\n",
    "\n",
    "#function to attach lyrics onto data frame\n",
    "#artist_name should be inserted as a string\n",
    "def lyrics_onto_frame(dataframe):\n",
    "    for i,x in enumerate(dataframe):\n",
    "        test = scrape_lyrics(dataframe, song)\n",
    "        dataframe.loc[i, 'lyrics'] = test\n",
    "    return df1"
   ]
  },
  {
   "cell_type": "code",
   "execution_count": null,
   "id": "527d7f2d",
   "metadata": {},
   "outputs": [],
   "source": [
    "lyrics_onto_frame(dataframe)"
   ]
  },
  {
   "cell_type": "code",
   "execution_count": null,
   "id": "f091bf90",
   "metadata": {},
   "outputs": [],
   "source": [
    "page = requests.get('https://genius.com/'+ dataframe['artist'] + '-' + dataframe['Name'] + '-' + 'lyrics')"
   ]
  },
  {
   "cell_type": "code",
   "execution_count": null,
   "id": "7fecce88",
   "metadata": {},
   "outputs": [],
   "source": [
    "dataframe['artist'] = str(dataframe['artist'].replace(' ','-')) if ' ' in  dataframe['artist'] else str( dataframe['artist'])\n",
    "dataframe['Name'] = str(dataframe['Name'].replace(' ','-')) if ' ' in dataframe['Name'] else str(dataframe['Name'])\n",
    "\n",
    "print('https://genius.com/'+ dataframe['artist'] + '-' + dataframe['Name'] + '-' + 'lyrics')"
   ]
  },
  {
   "cell_type": "code",
   "execution_count": null,
   "id": "0b26e700",
   "metadata": {},
   "outputs": [],
   "source": [
    "first_results[0]['track'].keys()"
   ]
  },
  {
   "cell_type": "code",
   "execution_count": null,
   "id": "99fcd114",
   "metadata": {},
   "outputs": [],
   "source": []
  }
 ],
 "metadata": {
  "kernelspec": {
   "display_name": "Python 3 (ipykernel)",
   "language": "python",
   "name": "python3"
  },
  "language_info": {
   "codemirror_mode": {
    "name": "ipython",
    "version": 3
   },
   "file_extension": ".py",
   "mimetype": "text/x-python",
   "name": "python",
   "nbconvert_exporter": "python",
   "pygments_lexer": "ipython3",
   "version": "3.9.7"
  },
  "toc": {
   "base_numbering": 1,
   "nav_menu": {},
   "number_sections": true,
   "sideBar": true,
   "skip_h1_title": true,
   "title_cell": "Index",
   "title_sidebar": "Contents",
   "toc_cell": true,
   "toc_position": {
    "height": "calc(100% - 180px)",
    "left": "10px",
    "top": "150px",
    "width": "288px"
   },
   "toc_section_display": true,
   "toc_window_display": true
  },
  "varInspector": {
   "cols": {
    "lenName": 16,
    "lenType": 16,
    "lenVar": 40
   },
   "kernels_config": {
    "python": {
     "delete_cmd_postfix": "",
     "delete_cmd_prefix": "del ",
     "library": "var_list.py",
     "varRefreshCmd": "print(var_dic_list())"
    },
    "r": {
     "delete_cmd_postfix": ") ",
     "delete_cmd_prefix": "rm(",
     "library": "var_list.r",
     "varRefreshCmd": "cat(var_dic_list()) "
    }
   },
   "types_to_exclude": [
    "module",
    "function",
    "builtin_function_or_method",
    "instance",
    "_Feature"
   ],
   "window_display": false
  }
 },
 "nbformat": 4,
 "nbformat_minor": 5
}
