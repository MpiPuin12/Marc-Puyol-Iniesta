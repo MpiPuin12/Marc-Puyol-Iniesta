{
 "cells": [
  {
   "cell_type": "code",
   "execution_count": 1,
   "id": "52925ff4",
   "metadata": {},
   "outputs": [],
   "source": [
    "x1 = 1.1\n",
    "x2 = \"Ironhack\"\n",
    "x3 = \"1.1\"\n",
    "x4 = True\n",
    "x5 = \"True\"\n",
    "x6 = -1\n"
   ]
  },
  {
   "cell_type": "code",
   "execution_count": 2,
   "id": "c913d6f8",
   "metadata": {},
   "outputs": [
    {
     "data": {
      "text/plain": [
       "float"
      ]
     },
     "execution_count": 2,
     "metadata": {},
     "output_type": "execute_result"
    }
   ],
   "source": [
    "type(x1)"
   ]
  },
  {
   "cell_type": "code",
   "execution_count": 3,
   "id": "c5db88d9",
   "metadata": {},
   "outputs": [
    {
     "data": {
      "text/plain": [
       "int"
      ]
     },
     "execution_count": 3,
     "metadata": {},
     "output_type": "execute_result"
    }
   ],
   "source": [
    "type(x6)"
   ]
  },
  {
   "cell_type": "code",
   "execution_count": 4,
   "id": "1241927e",
   "metadata": {},
   "outputs": [
    {
     "name": "stdout",
     "output_type": "stream",
     "text": [
      "Please enter an integer number: 2\n",
      "Please enter another integer number: 3\n"
     ]
    }
   ],
   "source": [
    "x1 = input(\"Please enter an integer number: \")\n",
    "x2 = input(\"Please enter another integer number: \")"
   ]
  },
  {
   "cell_type": "code",
   "execution_count": 5,
   "id": "610bd6c5",
   "metadata": {},
   "outputs": [],
   "source": [
    "x1= int(x1)\n",
    "x2= int(x2)"
   ]
  },
  {
   "cell_type": "code",
   "execution_count": 6,
   "id": "a070263d",
   "metadata": {},
   "outputs": [
    {
     "data": {
      "text/plain": [
       "False"
      ]
     },
     "execution_count": 6,
     "metadata": {},
     "output_type": "execute_result"
    }
   ],
   "source": [
    "x2<=x1"
   ]
  },
  {
   "cell_type": "code",
   "execution_count": 7,
   "id": "ed391d5f",
   "metadata": {},
   "outputs": [
    {
     "name": "stdout",
     "output_type": "stream",
     "text": [
      "2\n"
     ]
    }
   ],
   "source": [
    "x1= input()"
   ]
  },
  {
   "cell_type": "code",
   "execution_count": 10,
   "id": "7a99187e",
   "metadata": {},
   "outputs": [],
   "source": [
    "x1=int(x1)"
   ]
  },
  {
   "cell_type": "code",
   "execution_count": 19,
   "id": "24bddf62",
   "metadata": {},
   "outputs": [
    {
     "name": "stdout",
     "output_type": "stream",
     "text": [
      "true\n"
     ]
    }
   ],
   "source": [
    "if (x1%2)==0:\n",
    "    print('true')\n",
    "else:\n",
    "    print('false')"
   ]
  },
  {
   "cell_type": "code",
   "execution_count": 34,
   "id": "b0d10ff0",
   "metadata": {},
   "outputs": [
    {
     "name": "stdout",
     "output_type": "stream",
     "text": [
      "0\n"
     ]
    }
   ],
   "source": [
    "x3=int(input())"
   ]
  },
  {
   "cell_type": "code",
   "execution_count": 40,
   "id": "b0ac1ed0",
   "metadata": {},
   "outputs": [
    {
     "name": "stdout",
     "output_type": "stream",
     "text": [
      "0\n"
     ]
    }
   ],
   "source": [
    "if (x3) == 0:\n",
    "    print('0')\n",
    "elif (x3) >0:\n",
    "    print('positive')\n",
    "else :\n",
    "    print('negative')"
   ]
  },
  {
   "cell_type": "markdown",
   "id": "3f567138",
   "metadata": {},
   "source": [
    "Below 25 - F \n",
    "25 to 45 - E \n",
    "45 to 60 - D \n",
    "60 to 75 - C \n",
    "75 to 90 - B \n",
    "Above 90 - A"
   ]
  },
  {
   "cell_type": "code",
   "execution_count": 55,
   "id": "3dfb945c",
   "metadata": {},
   "outputs": [
    {
     "name": "stdout",
     "output_type": "stream",
     "text": [
      "45\n"
     ]
    }
   ],
   "source": [
    "x= int(input(''))"
   ]
  },
  {
   "cell_type": "code",
   "execution_count": 57,
   "id": "20b6c24a",
   "metadata": {},
   "outputs": [
    {
     "name": "stdout",
     "output_type": "stream",
     "text": [
      "D\n"
     ]
    }
   ],
   "source": [
    "if x<25:\n",
    "    print('F')\n",
    "elif (25<=x<45):\n",
    "    print('E')\n",
    "elif (45<=x<60):\n",
    "    print('D')\n",
    "elif (60<=x<75):\n",
    "    print('C')\n",
    "elif (75<=x<90):\n",
    "    print('B')\n",
    "else: \n",
    "    print('A')"
   ]
  },
  {
   "cell_type": "code",
   "execution_count": 59,
   "id": "2d26da65",
   "metadata": {},
   "outputs": [
    {
     "name": "stdout",
     "output_type": "stream",
     "text": [
      "Please input an integer: 2\n",
      "a is not an integer\n"
     ]
    }
   ],
   "source": [
    "a = input(\"Please input an integer: \")\n",
    "a = int(a)\n",
    "\n",
    "if a.isdigit : \n",
    "    if a == 0:\n",
    "        print('a is zero')\n",
    "    elif a%2 ==0:\n",
    "        print('a is even')\n",
    "    else:\n",
    "        print('a is not even')\n",
    "else:\n",
    "    print('a is not an integer')"
   ]
  },
  {
   "cell_type": "code",
   "execution_count": null,
   "id": "05c062b9",
   "metadata": {},
   "outputs": [],
   "source": []
  }
 ],
 "metadata": {
  "kernelspec": {
   "display_name": "Python 3 (ipykernel)",
   "language": "python",
   "name": "python3"
  },
  "language_info": {
   "codemirror_mode": {
    "name": "ipython",
    "version": 3
   },
   "file_extension": ".py",
   "mimetype": "text/x-python",
   "name": "python",
   "nbconvert_exporter": "python",
   "pygments_lexer": "ipython3",
   "version": "3.9.7"
  },
  "toc": {
   "base_numbering": 1,
   "nav_menu": {},
   "number_sections": true,
   "sideBar": true,
   "skip_h1_title": false,
   "title_cell": "Table of Contents",
   "title_sidebar": "Contents",
   "toc_cell": false,
   "toc_position": {},
   "toc_section_display": true,
   "toc_window_display": false
  }
 },
 "nbformat": 4,
 "nbformat_minor": 5
}
